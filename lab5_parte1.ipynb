{
  "nbformat": 4,
  "nbformat_minor": 0,
  "metadata": {
    "kernelspec": {
      "display_name": "Python 3",
      "language": "python",
      "name": "python3"
    },
    "language_info": {
      "codemirror_mode": {
        "name": "ipython",
        "version": 3
      },
      "file_extension": ".py",
      "mimetype": "text/x-python",
      "name": "python",
      "nbconvert_exporter": "python",
      "pygments_lexer": "ipython3",
      "version": "3.6.9"
    },
    "colab": {
      "name": "Lab5JuanpDanielb.ipynb",
      "provenance": []
    }
  },
  "cells": [
    {
      "cell_type": "markdown",
      "metadata": {
        "id": "XrfDiFHOUHIf"
      },
      "source": [
        "<a href=\"https://colab.research.google.com/github/jdariasl/ML_2020/blob/master/Labs/lab5/lab5_parte1.ipynb\">\n",
        "    <img src=\"https://colab.research.google.com/assets/colab-badge.svg\" alt=\"Open In Colab\"/></a>\n",
        "\n",
        "**Recuerda que una vez abierto, Da clic en \"Copiar en Drive\", de lo contrario no podras almacenar tu progreso**\n",
        "\n",
        "Nota: no olvide ir ejecutando las celdas de código de arriba hacia abajo para que no tenga errores de importación de librerías o por falta de definición de variables."
      ]
    },
    {
      "cell_type": "code",
      "metadata": {
        "id": "L6q8_ixzUHIg",
        "colab": {
          "base_uri": "https://localhost:8080/"
        },
        "outputId": "bc3423d3-3983-4044-de95-b2a095f912da"
      },
      "source": [
        "#configuración del laboratorio\n",
        "# Ejecuta esta celda!\n",
        "%load_ext autoreload\n",
        "%autoreload 2\n",
        "#for local \n",
        "#import sys ; sys.path.append('../commons/utils/')\n",
        "!wget https://raw.githubusercontent.com/jdariasl/ML_2020/master/Labs/commons/utils/general.py -O general.py --no-cache\n",
        "from general import configure_lab5_1\n",
        "configure_lab5_1()\n",
        "from lab5 import *\n",
        "GRADER, dataset = part_1()\n",
        "import neurolab as nl"
      ],
      "execution_count": 1,
      "outputs": [
        {
          "output_type": "stream",
          "text": [
            "--2020-11-20 11:49:56--  https://raw.githubusercontent.com/jdariasl/ML_2020/master/Labs/commons/utils/general.py\n",
            "Resolving raw.githubusercontent.com (raw.githubusercontent.com)... 151.101.0.133, 151.101.64.133, 151.101.128.133, ...\n",
            "Connecting to raw.githubusercontent.com (raw.githubusercontent.com)|151.101.0.133|:443... connected.\n",
            "HTTP request sent, awaiting response... 200 OK\n",
            "Length: 14117 (14K) [text/plain]\n",
            "Saving to: ‘general.py’\n",
            "\n",
            "\rgeneral.py            0%[                    ]       0  --.-KB/s               \rgeneral.py          100%[===================>]  13.79K  --.-KB/s    in 0s      \n",
            "\n",
            "2020-11-20 11:49:57 (96.7 MB/s) - ‘general.py’ saved [14117/14117]\n",
            "\n",
            "lab configuration started\n",
            "installing libraries\n",
            "downloading files\n",
            "lab configured\n"
          ],
          "name": "stdout"
        }
      ]
    },
    {
      "cell_type": "markdown",
      "metadata": {
        "id": "bpINIvigUHIj"
      },
      "source": [
        "# Laboratorio 5 - Parte 1: Redes recurrentes"
      ]
    },
    {
      "cell_type": "markdown",
      "metadata": {
        "id": "juJzpTmIUHIj"
      },
      "source": [
        "En este  laboratorio entrenaremos una Red Neuronal Recurrente para la predicción de una serie de tiempo. \n",
        "\n",
        "Este problema corresponde a una configuración many-to-one. \n",
        "\n",
        "En este caso usaremos una serie de tiempo que corresponde al número de pasajeros internacionales por mes, desde el año 1949 hasta el año 1960. \n",
        "\n",
        "En la siguiente celda visualizamos los datos."
      ]
    },
    {
      "cell_type": "code",
      "metadata": {
        "id": "3q8fueYYUHIk",
        "colab": {
          "base_uri": "https://localhost:8080/",
          "height": 329
        },
        "outputId": "a5d3c4d6-7131-46e7-fe6d-6a83930a96ae"
      },
      "source": [
        "# creamos una variable para\n",
        "# el tiempo\n",
        "Time = pd.date_range(np.datetime64('1949-01'), np.datetime64('1961-01'), freq='M')\n",
        "print(\"tenemos dispnible nuestra base de datos en el pandas DF 'dataset' \\n\")\n",
        "plt.plot(Time,dataset)\n",
        "plt.title('International airline passengers')\n",
        "plt.xlabel('Time (months)')\n",
        "plt.show()"
      ],
      "execution_count": 2,
      "outputs": [
        {
          "output_type": "stream",
          "text": [
            "tenemos dispnible nuestra base de datos en el pandas DF 'dataset' \n",
            "\n"
          ],
          "name": "stdout"
        },
        {
          "output_type": "display_data",
          "data": {
            "image/png": "[encoded data removed]",
            "text/plain": [
              "<Figure size 432x288 with 1 Axes>"
            ]
          },
          "metadata": {
            "tags": [],
            "needs_background": "light"
          }
        }
      ]
    },
    {
      "cell_type": "markdown",
      "metadata": {
        "id": "N0u19e8LUHIn"
      },
      "source": [
        "En nuestro primer ejercicio vamos a explorar, que relación existe entre una muestra con las muestras inmediantamente pasadas.La libreria statsmodel [tiene una función que nos sirve para analizar esta relación](https://www.statsmodels.org/stable/generated/statsmodels.graphics.tsaplots.plot_acf.html).\n",
        "\n",
        "\n",
        "## Ejercicio 1 - Exploración del problema\n",
        "\n",
        "Este plot realiza una operación cuyos detalles son explicados en mayor profundidad en [esta buena entrada de blog](https://machinelearningmastery.com/gentle-introduction-autocorrelation-partial-autocorrelation/). Pero nuestro laboratorio lo que no interesa es entender:\n",
        "\n",
        "1. El valor varia entre 1.0 y -1.0. \n",
        "2. Cuando el valor de la correlación es 1.0, corresponde el valor maximo indicando una relación positiva entre la variable y su correspondiente lag o retraso.\n",
        "3. Cuando el valor de la correlación es -1.0, corresponde el valor mínimo indicando una relación negativa entre la variable y su correspondiente lag o retraso..\n",
        "4. 0.0 indica que los valores no están relacionados.\n",
        "5. el lag indica, el número de retrasos. Si el valor de la correlación en el lag  5 es igual 0.75, indica una relación positiva alta entre el quinto retraso anterior en la mayoria de muestras de nuestra variable de respuesta.\n",
        "\n",
        "Ahora, grafiquemos la correlación para un maximo de 45 lags de nuestros datos"
      ]
    },
    {
      "cell_type": "code",
      "metadata": {
        "id": "zFanVFDdUHIn",
        "colab": {
          "base_uri": "https://localhost:8080/",
          "height": 444
        },
        "outputId": "26ccc003-347f-453b-8e22-0d39ef7c547d"
      },
      "source": [
        "from statsmodels.graphics import tsaplots\n",
        "fig, ax = plt.subplots(figsize = (12,7))\n",
        "# Display the autocorrelation plot of your time series\n",
        "fig = tsaplots.plot_acf(dataset.passengers, lags=45, ax = ax)"
      ],
      "execution_count": 3,
      "outputs": [
        {
          "output_type": "display_data",
          "data": {
            "image/png": "[encoded data removed]",
            "text/plain": [
              "<Figure size 864x504 with 1 Axes>"
            ]
          },
          "metadata": {
            "tags": [],
            "needs_background": "light"
          }
        }
      ]
    },
    {
      "cell_type": "markdown",
      "metadata": {
        "id": "1CWoMbcjUHIp"
      },
      "source": [
        "reforzando el entendimiento de lo anterior,en la grafica podemos ver lo siguiente:\n",
        "1. cuando hay un lag = 5 (es decir evaluar que tan relacionadas estas las 5 muestras anteriores), tenemos una autocorrelación $\\approx$ 0.75 \n",
        "2. cuando hay un lag = 25 (es decir evaluar que tan relacionadas estas las 25 muestras anteriores), tenemos una autocorrelación $\\approx$ 0.5\n",
        "\n",
        "Ten en cuenta este analisis para responder la siguiente pregunta abierta"
      ]
    },
    {
      "cell_type": "code",
      "metadata": {
        "id": "qLp01IcGUHIq",
        "cellView": "form"
      },
      "source": [
        "#@title Pregunta Abierta\n",
        "#@markdown ¿Por qué es mas factible construir un modelo RNN con un retardo de 5 vs un retardo de 25? . Justifica con base a las anteriores explicaciones\n",
        "respuesta_1 = \"Es mas factible construir un modelo RNN con un retardo de 5 porque al usar menos retardos,  la autocorrelaci\\xF3n positiva es mas alta que con 25 de retardo\" #@param {type:\"string\"}"
      ],
      "execution_count": null,
      "outputs": []
    },
    {
      "cell_type": "markdown",
      "metadata": {
        "id": "N09BmOZOUHIr"
      },
      "source": [
        "Para aplicar la red recurrente, debemos transformar nuestros datos. La idea es alimentar los retrasos como caracteristicas a nuestro modelo. Para ello se propone esta función."
      ]
    },
    {
      "cell_type": "code",
      "metadata": {
        "id": "Zfk-zyGdUHIs"
      },
      "source": [
        "# convert an array of values into a dataset matrix\n",
        "def create_dataset(dataset, look_back=1):\n",
        "    \"\"\"funcion que crea dataset apto para RNN\n",
        "    \n",
        "    dataset: pandas dataframe con una sola columna\n",
        "    look_back: numero de retrasos con los cuales queremos construir\n",
        "        las caracteristicas\n",
        "    \"\"\"\n",
        "    dataX, dataY = [], []\n",
        "    for i in range(len(dataset)-look_back-1):\n",
        "        a = dataset[i:(i+look_back), 0]\n",
        "        dataX.append(a)\n",
        "        dataY.append(dataset[i + look_back, 0])\n",
        "    return np.array(dataX), np.array(dataY).reshape(len(dataY), 1)"
      ],
      "execution_count": 4,
      "outputs": []
    },
    {
      "cell_type": "markdown",
      "metadata": {
        "id": "B7mgNk-WUHIu"
      },
      "source": [
        "## Ejercicio 2 - Experimentar con RNN\n",
        "\n",
        "Vamos usar una libreria llamada neurolab. La documentación puede ser consultada en : https://pythonhosted.org/neurolab/. (podemos hacer uso como `nl...`)"
      ]
    },
    {
      "cell_type": "markdown",
      "metadata": {
        "id": "Pbk27o_vUHIu"
      },
      "source": [
        "En el siguiente ejercicio vamnos a completar el código para entrenar una red neuronal recurrente de Elman con las siguientes caracteristicas:\n",
        "1. las capas ocultas deben ser variables de acuerdo al parametro. Sin embargo solo siempre tenemos una sola capa de salida.\n",
        "2. función de activación tangente hiperbólica paras las capas ocultas y lineal para la capa de salida. \n",
        "3. número de épocas igual a 1000.\n",
        "4. Definir objetivo de error inferior a 0.001. \n",
        "5. Inicializar los pesos de las capas aleatoriamente entre [-0.1, 0.1].\n",
        "6. Vamos utilizar como medida de error el error absoluto medio.  [recordar usar la implementación del modulo de metricas de sklearn](https://scikit-learn.org/stable/modules/classes.html#module-sklearn.metrics)\n",
        "\n",
        "Notas Adicionales:\n",
        "1. tener en cuenta que hace el parametro feature_range de la función [MinMaxScaler](https://scikit-learn.org/stable/modules/generated/sklearn.preprocessing.MinMaxScaler.html)\n",
        "2. Entender como se sugiere usar la codigo que vamos encontrar dentro la función:\n",
        "```python\n",
        "layers = []\n",
        "    for i in range(look_back):\n",
        "        layers.append([0, 1])\n",
        "```"
      ]
    },
    {
      "cell_type": "code",
      "metadata": {
        "id": "qR2X2aHeUHIu"
      },
      "source": [
        "#ejercicio de código\n",
        "\n",
        "import sklearn as skl\n",
        "def experimentar_elman(data, look_backs, hidden_neurons):\n",
        "    \"\"\"funcion que realiza experimentos para evaluar una RNN de elman usando\n",
        "        el error absoluto medio como medida de error\n",
        "    \n",
        "    data: pd.Dataframe, dataset a usar\n",
        "    look_back: List[int], lista con los numero de retrasos a evaluar\n",
        "    hidden_neurons: List[int], list con el numero de neuronas en la capa oculta\n",
        "    retorna: pd.Dataframe con las siguientes columnas:\n",
        "        - lags\n",
        "        - neuronas por capas\n",
        "        - error de entrenamiento\n",
        "        - error de prueba\n",
        "    \"\"\"\n",
        "    # we need to normalize the dataset before\n",
        "    #\n",
        "    scaler = MinMaxScaler(feature_range=(0, 1))\n",
        "    dataset = scaler.fit_transform(data)\n",
        "    # split into train and test sets\n",
        "    train_size = int(len(dataset) * 0.7)\n",
        "    test_size = len(dataset) - train_size\n",
        "    train, test = dataset[0:train_size,:], dataset[train_size:len(dataset),:]\n",
        "    resultados = pd.DataFrame()\n",
        "    idx = 0\n",
        "    for num_hidden_neurons in hidden_neurons:\n",
        "        for look_back in look_backs:\n",
        "            # reshape into X=t-look_back+1:t and Y=t+1\n",
        "            trainX, trainY = create_dataset(train, look_back)\n",
        "            testX, testY = create_dataset(test, look_back)          \n",
        "            #Esta variable se requiere para definir la red de acuerdo con la librería neurolab. \n",
        "            #Define el número de entradas y el rango de valores que toma cada entrada\n",
        "            layers = []\n",
        "            for i in range(look_back):\n",
        "                layers.append([0, 1])\n",
        "            # Crear la red usa una instruccion como nl.{...}.{...}\n",
        "            net = nl.net.newelm(minmax=layers, size =[num_hidden_neurons,1],transf=[nl.trans.TanSig(),nl.trans.PureLin()])\n",
        "            #definir funciones para inicializar los pesos e inicializar la red\n",
        "            net.layers[0].initf = nl.init.InitRand([-0.1,0.1],'wb')\n",
        "            net.layers[1].initf = nl.init.InitRand([-0.1,0.1],'wb')\n",
        "            net.init()\n",
        "            # Entrenar la red con los datos de entrenamiento\n",
        "            # la instrucción del tiempo es para evaluar el tiempo\n",
        "            # de entrenamiento, llame explícitamente los parametros\n",
        "            # para las epocas y el objetivo\n",
        "            # show = 500 (esta instruccion ayuda a que no se presenten muchos prints intermedios)\n",
        "            net.train(trainX, trainY.reshape(trainX.shape[0],1), epochs=1000, show=500, goal=0.001)\n",
        "            # Evaluar la red con los datos de en entrenamiento y test\n",
        "            trainYPred = net.sim(trainX)\n",
        "            testYPred = net.sim(testX)\n",
        "            # Calculo de error\n",
        "            errorPrueba = skl.metrics.mean_absolute_error(testY,testYPred)\n",
        "            errorEntrenamiento = skl.metrics.mean_absolute_error(trainY, trainYPred)\n",
        "            resultados.loc[idx,'lags'] = look_back\n",
        "            resultados.loc[idx,'neuronas por capa'] = num_hidden_neurons\n",
        "            resultados.loc[idx,'error de entrenamiento'] = errorEntrenamiento\n",
        "            resultados.loc[idx,'error de prueba'] = errorPrueba\n",
        "            idx+=1\n",
        "    \n",
        "    return (resultados)"
      ],
      "execution_count": 7,
      "outputs": []
    },
    {
      "cell_type": "code",
      "metadata": {
        "id": "ffJwb8WXUHIw",
        "colab": {
          "base_uri": "https://localhost:8080/"
        },
        "outputId": "07696782-fa1a-4348-c9eb-affc37b366f5"
      },
      "source": [
        "#\n",
        "GRADER.run_test(\"ejercicio1\", experimentar_elman)"
      ],
      "execution_count": 8,
      "outputs": [
        {
          "output_type": "stream",
          "text": [
            "Epoch: 500; Error: 0.04544869162131592;\n",
            "Epoch: 1000; Error: 0.04095353593778825;\n",
            "The maximum number of train epochs is reached\n",
            "Epoch: 500; Error: 0.032262446805555955;\n",
            "Epoch: 1000; Error: 0.022882494652916602;\n",
            "The maximum number of train epochs is reached\n",
            "Epoch: 500; Error: 0.04420932184871869;\n",
            "Epoch: 1000; Error: 0.04408113897823387;\n",
            "The maximum number of train epochs is reached\n",
            "Epoch: 500; Error: 0.03459120509829516;\n",
            "Epoch: 1000; Error: 0.01619297674285927;\n",
            "The maximum number of train epochs is reached\n",
            "TEST EXITOSO!\n"
          ],
          "name": "stdout"
        }
      ]
    },
    {
      "cell_type": "markdown",
      "metadata": {
        "id": "p72IA8WCUHIy"
      },
      "source": [
        "Ahora vamos a ver los resultados del experimentos, variando los lags y las neuronas por capa"
      ]
    },
    {
      "cell_type": "code",
      "metadata": {
        "id": "sOaV_Hn7UHIz",
        "colab": {
          "base_uri": "https://localhost:8080/"
        },
        "outputId": "6622a73a-9fe1-4d61-ab88-c6b64bc3add0"
      },
      "source": [
        "resultadosElman = experimentar_elman(dataset, look_backs = [1,3,5,10,30,40], hidden_neurons=[10,20,30])"
      ],
      "execution_count": 9,
      "outputs": [
        {
          "output_type": "stream",
          "text": [
            "Epoch: 500; Error: 0.0019199307228728196;\n",
            "Epoch: 1000; Error: 0.0018746809400320156;\n",
            "The maximum number of train epochs is reached\n",
            "Epoch: 500; Error: 0.0018220023277910398;\n",
            "Epoch: 1000; Error: 0.0018142214058341;\n",
            "The maximum number of train epochs is reached\n",
            "Epoch: 500; Error: 0.0016618954048463893;\n",
            "Epoch: 1000; Error: 0.0016430991163486298;\n",
            "The maximum number of train epochs is reached\n",
            "Epoch: 500; Error: 0.0012152203227045527;\n",
            "Epoch: 1000; Error: 0.0010213182255674983;\n",
            "The maximum number of train epochs is reached\n",
            "The goal of learning is reached\n",
            "The goal of learning is reached\n",
            "Epoch: 500; Error: 0.0019095375105771517;\n",
            "Epoch: 1000; Error: 0.0019154498034319241;\n",
            "The maximum number of train epochs is reached\n",
            "Epoch: 500; Error: 0.0018229925326783078;\n",
            "Epoch: 1000; Error: 0.0018199401418682699;\n",
            "The maximum number of train epochs is reached\n",
            "Epoch: 500; Error: 0.002051102350194436;\n",
            "Epoch: 1000; Error: 0.0016665379664888976;\n",
            "The maximum number of train epochs is reached\n",
            "Epoch: 500; Error: 0.0010843689321547141;\n",
            "The goal of learning is reached\n",
            "The goal of learning is reached\n",
            "The goal of learning is reached\n",
            "Epoch: 500; Error: 0.001927895087948847;\n",
            "Epoch: 1000; Error: 0.0018894714336458646;\n",
            "The maximum number of train epochs is reached\n",
            "Epoch: 500; Error: 0.0018570896852682882;\n",
            "Epoch: 1000; Error: 0.0018071926415088712;\n",
            "The maximum number of train epochs is reached\n",
            "Epoch: 500; Error: 0.0017563859797384228;\n",
            "Epoch: 1000; Error: 0.0016683610301894097;\n",
            "The maximum number of train epochs is reached\n",
            "Epoch: 500; Error: 0.0011343542470700677;\n",
            "The goal of learning is reached\n",
            "The goal of learning is reached\n",
            "The goal of learning is reached\n"
          ],
          "name": "stdout"
        }
      ]
    },
    {
      "cell_type": "code",
      "metadata": {
        "id": "j1mtTSqmUHI0",
        "colab": {
          "base_uri": "https://localhost:8080/",
          "height": 418
        },
        "outputId": "e3f3b4e7-1c0a-483e-9026-c73e6e44f491"
      },
      "source": [
        "# para ver los resultados\n",
        "# en esta instruccion se va resaltar el mejor\n",
        "# error y tiempo de entrenamiento\n",
        "resultadosElman.style.highlight_min(color = 'lightgreen', axis = 0, subset = ['error de prueba'])"
      ],
      "execution_count": 10,
      "outputs": [
        {
          "output_type": "execute_result",
          "data": {
            "text/html": [
              "<style  type=\"text/css\" >\n",
              "#T_6a0debd0_2b27_11eb_a6e1_0242ac1c0002row4_col3{\n",
              "            background-color:  lightgreen;\n",
              "        }</style><table id=\"T_6a0debd0_2b27_11eb_a6e1_0242ac1c0002\" ><thead>    <tr>        <th class=\"blank level0\" ></th>        <th class=\"col_heading level0 col0\" >lags</th>        <th class=\"col_heading level0 col1\" >neuronas por capa</th>        <th class=\"col_heading level0 col2\" >error de entrenamiento</th>        <th class=\"col_heading level0 col3\" >error de prueba</th>    </tr></thead><tbody>\n",
              "                <tr>\n",
              "                        <th id=\"T_6a0debd0_2b27_11eb_a6e1_0242ac1c0002level0_row0\" class=\"row_heading level0 row0\" >0</th>\n",
              "                        <td id=\"T_6a0debd0_2b27_11eb_a6e1_0242ac1c0002row0_col0\" class=\"data row0 col0\" >1.000000</td>\n",
              "                        <td id=\"T_6a0debd0_2b27_11eb_a6e1_0242ac1c0002row0_col1\" class=\"data row0 col1\" >10.000000</td>\n",
              "                        <td id=\"T_6a0debd0_2b27_11eb_a6e1_0242ac1c0002row0_col2\" class=\"data row0 col2\" >0.035108</td>\n",
              "                        <td id=\"T_6a0debd0_2b27_11eb_a6e1_0242ac1c0002row0_col3\" class=\"data row0 col3\" >0.078561</td>\n",
              "            </tr>\n",
              "            <tr>\n",
              "                        <th id=\"T_6a0debd0_2b27_11eb_a6e1_0242ac1c0002level0_row1\" class=\"row_heading level0 row1\" >1</th>\n",
              "                        <td id=\"T_6a0debd0_2b27_11eb_a6e1_0242ac1c0002row1_col0\" class=\"data row1 col0\" >3.000000</td>\n",
              "                        <td id=\"T_6a0debd0_2b27_11eb_a6e1_0242ac1c0002row1_col1\" class=\"data row1 col1\" >10.000000</td>\n",
              "                        <td id=\"T_6a0debd0_2b27_11eb_a6e1_0242ac1c0002row1_col2\" class=\"data row1 col2\" >0.035981</td>\n",
              "                        <td id=\"T_6a0debd0_2b27_11eb_a6e1_0242ac1c0002row1_col3\" class=\"data row1 col3\" >0.077863</td>\n",
              "            </tr>\n",
              "            <tr>\n",
              "                        <th id=\"T_6a0debd0_2b27_11eb_a6e1_0242ac1c0002level0_row2\" class=\"row_heading level0 row2\" >2</th>\n",
              "                        <td id=\"T_6a0debd0_2b27_11eb_a6e1_0242ac1c0002row2_col0\" class=\"data row2 col0\" >5.000000</td>\n",
              "                        <td id=\"T_6a0debd0_2b27_11eb_a6e1_0242ac1c0002row2_col1\" class=\"data row2 col1\" >10.000000</td>\n",
              "                        <td id=\"T_6a0debd0_2b27_11eb_a6e1_0242ac1c0002row2_col2\" class=\"data row2 col2\" >0.033167</td>\n",
              "                        <td id=\"T_6a0debd0_2b27_11eb_a6e1_0242ac1c0002row2_col3\" class=\"data row2 col3\" >0.082001</td>\n",
              "            </tr>\n",
              "            <tr>\n",
              "                        <th id=\"T_6a0debd0_2b27_11eb_a6e1_0242ac1c0002level0_row3\" class=\"row_heading level0 row3\" >3</th>\n",
              "                        <td id=\"T_6a0debd0_2b27_11eb_a6e1_0242ac1c0002row3_col0\" class=\"data row3 col0\" >10.000000</td>\n",
              "                        <td id=\"T_6a0debd0_2b27_11eb_a6e1_0242ac1c0002row3_col1\" class=\"data row3 col1\" >10.000000</td>\n",
              "                        <td id=\"T_6a0debd0_2b27_11eb_a6e1_0242ac1c0002row3_col2\" class=\"data row3 col2\" >0.027002</td>\n",
              "                        <td id=\"T_6a0debd0_2b27_11eb_a6e1_0242ac1c0002row3_col3\" class=\"data row3 col3\" >0.055450</td>\n",
              "            </tr>\n",
              "            <tr>\n",
              "                        <th id=\"T_6a0debd0_2b27_11eb_a6e1_0242ac1c0002level0_row4\" class=\"row_heading level0 row4\" >4</th>\n",
              "                        <td id=\"T_6a0debd0_2b27_11eb_a6e1_0242ac1c0002row4_col0\" class=\"data row4 col0\" >30.000000</td>\n",
              "                        <td id=\"T_6a0debd0_2b27_11eb_a6e1_0242ac1c0002row4_col1\" class=\"data row4 col1\" >10.000000</td>\n",
              "                        <td id=\"T_6a0debd0_2b27_11eb_a6e1_0242ac1c0002row4_col2\" class=\"data row4 col2\" >0.024360</td>\n",
              "                        <td id=\"T_6a0debd0_2b27_11eb_a6e1_0242ac1c0002row4_col3\" class=\"data row4 col3\" >0.039961</td>\n",
              "            </tr>\n",
              "            <tr>\n",
              "                        <th id=\"T_6a0debd0_2b27_11eb_a6e1_0242ac1c0002level0_row5\" class=\"row_heading level0 row5\" >5</th>\n",
              "                        <td id=\"T_6a0debd0_2b27_11eb_a6e1_0242ac1c0002row5_col0\" class=\"data row5 col0\" >40.000000</td>\n",
              "                        <td id=\"T_6a0debd0_2b27_11eb_a6e1_0242ac1c0002row5_col1\" class=\"data row5 col1\" >10.000000</td>\n",
              "                        <td id=\"T_6a0debd0_2b27_11eb_a6e1_0242ac1c0002row5_col2\" class=\"data row5 col2\" >0.025449</td>\n",
              "                        <td id=\"T_6a0debd0_2b27_11eb_a6e1_0242ac1c0002row5_col3\" class=\"data row5 col3\" >0.051749</td>\n",
              "            </tr>\n",
              "            <tr>\n",
              "                        <th id=\"T_6a0debd0_2b27_11eb_a6e1_0242ac1c0002level0_row6\" class=\"row_heading level0 row6\" >6</th>\n",
              "                        <td id=\"T_6a0debd0_2b27_11eb_a6e1_0242ac1c0002row6_col0\" class=\"data row6 col0\" >1.000000</td>\n",
              "                        <td id=\"T_6a0debd0_2b27_11eb_a6e1_0242ac1c0002row6_col1\" class=\"data row6 col1\" >20.000000</td>\n",
              "                        <td id=\"T_6a0debd0_2b27_11eb_a6e1_0242ac1c0002row6_col2\" class=\"data row6 col2\" >0.036044</td>\n",
              "                        <td id=\"T_6a0debd0_2b27_11eb_a6e1_0242ac1c0002row6_col3\" class=\"data row6 col3\" >0.076506</td>\n",
              "            </tr>\n",
              "            <tr>\n",
              "                        <th id=\"T_6a0debd0_2b27_11eb_a6e1_0242ac1c0002level0_row7\" class=\"row_heading level0 row7\" >7</th>\n",
              "                        <td id=\"T_6a0debd0_2b27_11eb_a6e1_0242ac1c0002row7_col0\" class=\"data row7 col0\" >3.000000</td>\n",
              "                        <td id=\"T_6a0debd0_2b27_11eb_a6e1_0242ac1c0002row7_col1\" class=\"data row7 col1\" >20.000000</td>\n",
              "                        <td id=\"T_6a0debd0_2b27_11eb_a6e1_0242ac1c0002row7_col2\" class=\"data row7 col2\" >0.036320</td>\n",
              "                        <td id=\"T_6a0debd0_2b27_11eb_a6e1_0242ac1c0002row7_col3\" class=\"data row7 col3\" >0.076961</td>\n",
              "            </tr>\n",
              "            <tr>\n",
              "                        <th id=\"T_6a0debd0_2b27_11eb_a6e1_0242ac1c0002level0_row8\" class=\"row_heading level0 row8\" >8</th>\n",
              "                        <td id=\"T_6a0debd0_2b27_11eb_a6e1_0242ac1c0002row8_col0\" class=\"data row8 col0\" >5.000000</td>\n",
              "                        <td id=\"T_6a0debd0_2b27_11eb_a6e1_0242ac1c0002row8_col1\" class=\"data row8 col1\" >20.000000</td>\n",
              "                        <td id=\"T_6a0debd0_2b27_11eb_a6e1_0242ac1c0002row8_col2\" class=\"data row8 col2\" >0.034434</td>\n",
              "                        <td id=\"T_6a0debd0_2b27_11eb_a6e1_0242ac1c0002row8_col3\" class=\"data row8 col3\" >0.072992</td>\n",
              "            </tr>\n",
              "            <tr>\n",
              "                        <th id=\"T_6a0debd0_2b27_11eb_a6e1_0242ac1c0002level0_row9\" class=\"row_heading level0 row9\" >9</th>\n",
              "                        <td id=\"T_6a0debd0_2b27_11eb_a6e1_0242ac1c0002row9_col0\" class=\"data row9 col0\" >10.000000</td>\n",
              "                        <td id=\"T_6a0debd0_2b27_11eb_a6e1_0242ac1c0002row9_col1\" class=\"data row9 col1\" >20.000000</td>\n",
              "                        <td id=\"T_6a0debd0_2b27_11eb_a6e1_0242ac1c0002row9_col2\" class=\"data row9 col2\" >0.026278</td>\n",
              "                        <td id=\"T_6a0debd0_2b27_11eb_a6e1_0242ac1c0002row9_col3\" class=\"data row9 col3\" >0.054654</td>\n",
              "            </tr>\n",
              "            <tr>\n",
              "                        <th id=\"T_6a0debd0_2b27_11eb_a6e1_0242ac1c0002level0_row10\" class=\"row_heading level0 row10\" >10</th>\n",
              "                        <td id=\"T_6a0debd0_2b27_11eb_a6e1_0242ac1c0002row10_col0\" class=\"data row10 col0\" >30.000000</td>\n",
              "                        <td id=\"T_6a0debd0_2b27_11eb_a6e1_0242ac1c0002row10_col1\" class=\"data row10 col1\" >20.000000</td>\n",
              "                        <td id=\"T_6a0debd0_2b27_11eb_a6e1_0242ac1c0002row10_col2\" class=\"data row10 col2\" >0.025694</td>\n",
              "                        <td id=\"T_6a0debd0_2b27_11eb_a6e1_0242ac1c0002row10_col3\" class=\"data row10 col3\" >0.047182</td>\n",
              "            </tr>\n",
              "            <tr>\n",
              "                        <th id=\"T_6a0debd0_2b27_11eb_a6e1_0242ac1c0002level0_row11\" class=\"row_heading level0 row11\" >11</th>\n",
              "                        <td id=\"T_6a0debd0_2b27_11eb_a6e1_0242ac1c0002row11_col0\" class=\"data row11 col0\" >40.000000</td>\n",
              "                        <td id=\"T_6a0debd0_2b27_11eb_a6e1_0242ac1c0002row11_col1\" class=\"data row11 col1\" >20.000000</td>\n",
              "                        <td id=\"T_6a0debd0_2b27_11eb_a6e1_0242ac1c0002row11_col2\" class=\"data row11 col2\" >0.025699</td>\n",
              "                        <td id=\"T_6a0debd0_2b27_11eb_a6e1_0242ac1c0002row11_col3\" class=\"data row11 col3\" >0.045380</td>\n",
              "            </tr>\n",
              "            <tr>\n",
              "                        <th id=\"T_6a0debd0_2b27_11eb_a6e1_0242ac1c0002level0_row12\" class=\"row_heading level0 row12\" >12</th>\n",
              "                        <td id=\"T_6a0debd0_2b27_11eb_a6e1_0242ac1c0002row12_col0\" class=\"data row12 col0\" >1.000000</td>\n",
              "                        <td id=\"T_6a0debd0_2b27_11eb_a6e1_0242ac1c0002row12_col1\" class=\"data row12 col1\" >30.000000</td>\n",
              "                        <td id=\"T_6a0debd0_2b27_11eb_a6e1_0242ac1c0002row12_col2\" class=\"data row12 col2\" >0.034904</td>\n",
              "                        <td id=\"T_6a0debd0_2b27_11eb_a6e1_0242ac1c0002row12_col3\" class=\"data row12 col3\" >0.078088</td>\n",
              "            </tr>\n",
              "            <tr>\n",
              "                        <th id=\"T_6a0debd0_2b27_11eb_a6e1_0242ac1c0002level0_row13\" class=\"row_heading level0 row13\" >13</th>\n",
              "                        <td id=\"T_6a0debd0_2b27_11eb_a6e1_0242ac1c0002row13_col0\" class=\"data row13 col0\" >3.000000</td>\n",
              "                        <td id=\"T_6a0debd0_2b27_11eb_a6e1_0242ac1c0002row13_col1\" class=\"data row13 col1\" >30.000000</td>\n",
              "                        <td id=\"T_6a0debd0_2b27_11eb_a6e1_0242ac1c0002row13_col2\" class=\"data row13 col2\" >0.035730</td>\n",
              "                        <td id=\"T_6a0debd0_2b27_11eb_a6e1_0242ac1c0002row13_col3\" class=\"data row13 col3\" >0.070845</td>\n",
              "            </tr>\n",
              "            <tr>\n",
              "                        <th id=\"T_6a0debd0_2b27_11eb_a6e1_0242ac1c0002level0_row14\" class=\"row_heading level0 row14\" >14</th>\n",
              "                        <td id=\"T_6a0debd0_2b27_11eb_a6e1_0242ac1c0002row14_col0\" class=\"data row14 col0\" >5.000000</td>\n",
              "                        <td id=\"T_6a0debd0_2b27_11eb_a6e1_0242ac1c0002row14_col1\" class=\"data row14 col1\" >30.000000</td>\n",
              "                        <td id=\"T_6a0debd0_2b27_11eb_a6e1_0242ac1c0002row14_col2\" class=\"data row14 col2\" >0.033939</td>\n",
              "                        <td id=\"T_6a0debd0_2b27_11eb_a6e1_0242ac1c0002row14_col3\" class=\"data row14 col3\" >0.073854</td>\n",
              "            </tr>\n",
              "            <tr>\n",
              "                        <th id=\"T_6a0debd0_2b27_11eb_a6e1_0242ac1c0002level0_row15\" class=\"row_heading level0 row15\" >15</th>\n",
              "                        <td id=\"T_6a0debd0_2b27_11eb_a6e1_0242ac1c0002row15_col0\" class=\"data row15 col0\" >10.000000</td>\n",
              "                        <td id=\"T_6a0debd0_2b27_11eb_a6e1_0242ac1c0002row15_col1\" class=\"data row15 col1\" >30.000000</td>\n",
              "                        <td id=\"T_6a0debd0_2b27_11eb_a6e1_0242ac1c0002row15_col2\" class=\"data row15 col2\" >0.026458</td>\n",
              "                        <td id=\"T_6a0debd0_2b27_11eb_a6e1_0242ac1c0002row15_col3\" class=\"data row15 col3\" >0.054474</td>\n",
              "            </tr>\n",
              "            <tr>\n",
              "                        <th id=\"T_6a0debd0_2b27_11eb_a6e1_0242ac1c0002level0_row16\" class=\"row_heading level0 row16\" >16</th>\n",
              "                        <td id=\"T_6a0debd0_2b27_11eb_a6e1_0242ac1c0002row16_col0\" class=\"data row16 col0\" >30.000000</td>\n",
              "                        <td id=\"T_6a0debd0_2b27_11eb_a6e1_0242ac1c0002row16_col1\" class=\"data row16 col1\" >30.000000</td>\n",
              "                        <td id=\"T_6a0debd0_2b27_11eb_a6e1_0242ac1c0002row16_col2\" class=\"data row16 col2\" >0.025543</td>\n",
              "                        <td id=\"T_6a0debd0_2b27_11eb_a6e1_0242ac1c0002row16_col3\" class=\"data row16 col3\" >0.046316</td>\n",
              "            </tr>\n",
              "            <tr>\n",
              "                        <th id=\"T_6a0debd0_2b27_11eb_a6e1_0242ac1c0002level0_row17\" class=\"row_heading level0 row17\" >17</th>\n",
              "                        <td id=\"T_6a0debd0_2b27_11eb_a6e1_0242ac1c0002row17_col0\" class=\"data row17 col0\" >40.000000</td>\n",
              "                        <td id=\"T_6a0debd0_2b27_11eb_a6e1_0242ac1c0002row17_col1\" class=\"data row17 col1\" >30.000000</td>\n",
              "                        <td id=\"T_6a0debd0_2b27_11eb_a6e1_0242ac1c0002row17_col2\" class=\"data row17 col2\" >0.025776</td>\n",
              "                        <td id=\"T_6a0debd0_2b27_11eb_a6e1_0242ac1c0002row17_col3\" class=\"data row17 col3\" >0.062918</td>\n",
              "            </tr>\n",
              "    </tbody></table>"
            ],
            "text/plain": [
              "<pandas.io.formats.style.Styler at 0x7fdad0063588>"
            ]
          },
          "metadata": {
            "tags": []
          },
          "execution_count": 10
        }
      ]
    },
    {
      "cell_type": "code",
      "metadata": {
        "id": "uqHNlGOBUHI2",
        "colab": {
          "base_uri": "https://localhost:8080/",
          "height": 400
        },
        "outputId": "442109f6-7884-4b45-af15-97d31d3e92f7"
      },
      "source": [
        "# observa el comportamiento de los lags\n",
        "import seaborn as sns\n",
        "sns.relplot(data= resultadosElman, x= 'lags', y = 'error de prueba', kind = 'line')"
      ],
      "execution_count": 11,
      "outputs": [
        {
          "output_type": "execute_result",
          "data": {
            "text/plain": [
              "<seaborn.axisgrid.FacetGrid at 0x7fdaca54b828>"
            ]
          },
          "metadata": {
            "tags": []
          },
          "execution_count": 11
        },
        {
          "output_type": "display_data",
          "data": {
            "image/png": "[encoded data removed]",
            "text/plain": [
              "<Figure size 360x360 with 1 Axes>"
            ]
          },
          "metadata": {
            "tags": [],
            "needs_background": "light"
          }
        }
      ]
    },
    {
      "cell_type": "code",
      "metadata": {
        "id": "tSw9j936UHI4",
        "cellView": "form"
      },
      "source": [
        "#@title Pregunta Abierta\n",
        "#@markdown ¿Por qué seguir aumentando los tiempos de retardo no implica siempre una mejora en la predicción del modelo?\n",
        "respuesta_2 = \"Como hemos podido ver anteriormente, seguir aumentando los tiempos de retardo no siempre implican una mejora ya que los datos at\\xEDpicos causan variaciones en el resultado del error, lo que puede generar el hecho de no obtener mejora aumentando tiempos de retardo, entrop\\xEDa pura.\" #@param {type:\"string\"}"
      ],
      "execution_count": null,
      "outputs": []
    },
    {
      "cell_type": "markdown",
      "metadata": {
        "id": "RUqSiyWGUHI7"
      },
      "source": [
        "## Ejercicio 3 - Comparación con MLP\n",
        "\n",
        "En este ejercicio vamos a realizar el mismo ejercicio, pero con un MLP. Con esto vamos a comparar los resultados obtenidos con la RNN.\n",
        "\n",
        "Para ellos vamos a :\n",
        "1. variar los retrasos, que corresponden a las neuronas en la capa de entrada\n",
        "2. vamos a dejar solo una capa oculta y vamos a variar el número de neuronas en esta capa\n",
        "3. el número de epocas también va ser de 1000\n",
        "4. el valor por defecto sera usado para el resto de parámetros\n",
        "5. utilizar como medida de error el error absoluto medio.  [recordar usar la implementación del modulo de metricas de sklearn](https://scikit-learn.org/stable/modules/classes.html#module-sklearn.metrics)"
      ]
    },
    {
      "cell_type": "code",
      "metadata": {
        "id": "CY9g8N0AUHI8",
        "cellView": "form"
      },
      "source": [
        "#@title Pregunta Abierta\n",
        "#@markdown ¿explique la principal diferencia entre un MLP y una red recurrente de elman? justificar usando usando como contexto el problema que estamos resolviendo.\n",
        "respuesta_3 = \"La principal diferencia entre un MLP y una red recurrente de ELMAN es que en las redes recurrentes de ELMAN, se realizan transmisiones a las capas ocultas, y estas actualizan una posici\\xF3n de memoria con el resultado anterior  cada una de las transmisiones a las capas ocultas actualizan un registro o posici\\xF3n de memoria con el resultado anterior; lo que en el contexto creemos que mejora el modelo en cuanto a los retrasos que se deben usar\" #@param {type:\"string\"}"
      ],
      "execution_count": null,
      "outputs": []
    },
    {
      "cell_type": "code",
      "metadata": {
        "id": "WR_c10DtUHI9"
      },
      "source": [
        "#ejercicio de código\n",
        "def experimentar_MLP(data, look_backs, hidden_neurons):\n",
        "    \"\"\"funcion que realiza experimentos para evaluar una MLPusando\n",
        "        MAPE como medida de error\n",
        "    \n",
        "    data: pd.Dataframe, dataset a usar\n",
        "    look_back: List[int], lista con los numero de retrasos a evaluar\n",
        "    hidden_neurons: List[int], list con el numero de neuronas en la capa oculta\n",
        "    retorna: pd.Dataframe con las siguientes columnas:\n",
        "        - lags\n",
        "        - neuronas por capas\n",
        "        - error de entrenamiento\n",
        "        - error de prueba\n",
        "    \"\"\"\n",
        "    # we need to normalize the dataset before\n",
        "    #\n",
        "    scaler = MinMaxScaler(feature_range=(0, 1))\n",
        "    dataset = scaler.fit_transform(data)\n",
        "    # split into train and test sets\n",
        "    train_size = int(len(dataset) * 0.7)\n",
        "    test_size = len(dataset) - train_size\n",
        "    train, test = dataset[0:train_size,:], dataset[train_size:len(dataset),:]\n",
        "    resultados = pd.DataFrame()\n",
        "    idx = 0\n",
        "    for num_hidden_neurons in hidden_neurons:\n",
        "        for look_back in look_backs:\n",
        "            # reshape into X=t-look_back+1:t and Y=t+1\n",
        "            trainX, trainY = create_dataset(train, look_back)\n",
        "            testX, testY = create_dataset(test, look_back)          \n",
        "            # define el MLP para Regresion pasando los parametros adecuados\n",
        "            # pasar random_state = 10 para lograr resultados reproducibles\n",
        "            net =  skl.neural_network.MLPRegressor(hidden_layer_sizes= (num_hidden_neurons,), max_iter = 1000, random_state = 10)\n",
        "            # Entrenar la red con los datos de entrenamiento\n",
        "            net.fit(trainX, trainY)\n",
        "            # Evaluar la red con los datos de entrenamiento y test\n",
        "            trainYPred = net.predict(trainX)\n",
        "            testYPred = net.predict(testX)\n",
        "            # Calculo de error\n",
        "            errorPrueba = skl.metrics.mean_absolute_error(testY, testYPred)\n",
        "            errorEntrenamiento = skl.metrics.mean_absolute_error(trainY, trainYPred)\n",
        "            resultados.loc[idx,'lags'] = look_back\n",
        "            resultados.loc[idx,'neuronas por capa'] = num_hidden_neurons\n",
        "            resultados.loc[idx,'error de entrenamiento'] = errorEntrenamiento\n",
        "            resultados.loc[idx,'error de prueba'] = errorPrueba\n",
        "            idx+=1\n",
        "    \n",
        "    return (resultados)"
      ],
      "execution_count": 12,
      "outputs": []
    },
    {
      "cell_type": "code",
      "metadata": {
        "id": "i20ocJGJUHI_",
        "colab": {
          "base_uri": "https://localhost:8080/"
        },
        "outputId": "7fffb6e1-fc5a-449d-ed89-12863769df5c"
      },
      "source": [
        "GRADER.run_test(\"ejercicio2\", experimentar_MLP)"
      ],
      "execution_count": 13,
      "outputs": [
        {
          "output_type": "stream",
          "text": [
            "TEST EXITOSO!\n"
          ],
          "name": "stdout"
        }
      ]
    },
    {
      "cell_type": "code",
      "metadata": {
        "id": "Utx-2XSEUHJB"
      },
      "source": [
        "resultadosMLP = experimentar_MLP(dataset, look_backs = [1,3,5,10,30,40], hidden_neurons=[10,20,30])"
      ],
      "execution_count": 14,
      "outputs": []
    },
    {
      "cell_type": "code",
      "metadata": {
        "id": "VIyuIhOMUHJC",
        "colab": {
          "base_uri": "https://localhost:8080/",
          "height": 418
        },
        "outputId": "af0482d7-8ccd-40bd-c8ec-75485fae0741"
      },
      "source": [
        "# para ver los resultados\n",
        "# en esta instruccion se va resaltar el mejor\n",
        "# error y tiempo de entrenamiento\n",
        "resultadosMLP.style.highlight_min(color = 'lightgreen', axis = 0, subset = ['error de prueba'])"
      ],
      "execution_count": 15,
      "outputs": [
        {
          "output_type": "execute_result",
          "data": {
            "text/html": [
              "<style  type=\"text/css\" >\n",
              "#T_15fedd00_2b28_11eb_a6e1_0242ac1c0002row1_col3{\n",
              "            background-color:  lightgreen;\n",
              "        }</style><table id=\"T_15fedd00_2b28_11eb_a6e1_0242ac1c0002\" ><thead>    <tr>        <th class=\"blank level0\" ></th>        <th class=\"col_heading level0 col0\" >lags</th>        <th class=\"col_heading level0 col1\" >neuronas por capa</th>        <th class=\"col_heading level0 col2\" >error de entrenamiento</th>        <th class=\"col_heading level0 col3\" >error de prueba</th>    </tr></thead><tbody>\n",
              "                <tr>\n",
              "                        <th id=\"T_15fedd00_2b28_11eb_a6e1_0242ac1c0002level0_row0\" class=\"row_heading level0 row0\" >0</th>\n",
              "                        <td id=\"T_15fedd00_2b28_11eb_a6e1_0242ac1c0002row0_col0\" class=\"data row0 col0\" >1.000000</td>\n",
              "                        <td id=\"T_15fedd00_2b28_11eb_a6e1_0242ac1c0002row0_col1\" class=\"data row0 col1\" >10.000000</td>\n",
              "                        <td id=\"T_15fedd00_2b28_11eb_a6e1_0242ac1c0002row0_col2\" class=\"data row0 col2\" >0.082753</td>\n",
              "                        <td id=\"T_15fedd00_2b28_11eb_a6e1_0242ac1c0002row0_col3\" class=\"data row0 col3\" >0.266207</td>\n",
              "            </tr>\n",
              "            <tr>\n",
              "                        <th id=\"T_15fedd00_2b28_11eb_a6e1_0242ac1c0002level0_row1\" class=\"row_heading level0 row1\" >1</th>\n",
              "                        <td id=\"T_15fedd00_2b28_11eb_a6e1_0242ac1c0002row1_col0\" class=\"data row1 col0\" >3.000000</td>\n",
              "                        <td id=\"T_15fedd00_2b28_11eb_a6e1_0242ac1c0002row1_col1\" class=\"data row1 col1\" >10.000000</td>\n",
              "                        <td id=\"T_15fedd00_2b28_11eb_a6e1_0242ac1c0002row1_col2\" class=\"data row1 col2\" >0.059309</td>\n",
              "                        <td id=\"T_15fedd00_2b28_11eb_a6e1_0242ac1c0002row1_col3\" class=\"data row1 col3\" >0.118678</td>\n",
              "            </tr>\n",
              "            <tr>\n",
              "                        <th id=\"T_15fedd00_2b28_11eb_a6e1_0242ac1c0002level0_row2\" class=\"row_heading level0 row2\" >2</th>\n",
              "                        <td id=\"T_15fedd00_2b28_11eb_a6e1_0242ac1c0002row2_col0\" class=\"data row2 col0\" >5.000000</td>\n",
              "                        <td id=\"T_15fedd00_2b28_11eb_a6e1_0242ac1c0002row2_col1\" class=\"data row2 col1\" >10.000000</td>\n",
              "                        <td id=\"T_15fedd00_2b28_11eb_a6e1_0242ac1c0002row2_col2\" class=\"data row2 col2\" >0.152130</td>\n",
              "                        <td id=\"T_15fedd00_2b28_11eb_a6e1_0242ac1c0002row2_col3\" class=\"data row2 col3\" >0.202022</td>\n",
              "            </tr>\n",
              "            <tr>\n",
              "                        <th id=\"T_15fedd00_2b28_11eb_a6e1_0242ac1c0002level0_row3\" class=\"row_heading level0 row3\" >3</th>\n",
              "                        <td id=\"T_15fedd00_2b28_11eb_a6e1_0242ac1c0002row3_col0\" class=\"data row3 col0\" >10.000000</td>\n",
              "                        <td id=\"T_15fedd00_2b28_11eb_a6e1_0242ac1c0002row3_col1\" class=\"data row3 col1\" >10.000000</td>\n",
              "                        <td id=\"T_15fedd00_2b28_11eb_a6e1_0242ac1c0002row3_col2\" class=\"data row3 col2\" >0.075771</td>\n",
              "                        <td id=\"T_15fedd00_2b28_11eb_a6e1_0242ac1c0002row3_col3\" class=\"data row3 col3\" >0.159789</td>\n",
              "            </tr>\n",
              "            <tr>\n",
              "                        <th id=\"T_15fedd00_2b28_11eb_a6e1_0242ac1c0002level0_row4\" class=\"row_heading level0 row4\" >4</th>\n",
              "                        <td id=\"T_15fedd00_2b28_11eb_a6e1_0242ac1c0002row4_col0\" class=\"data row4 col0\" >30.000000</td>\n",
              "                        <td id=\"T_15fedd00_2b28_11eb_a6e1_0242ac1c0002row4_col1\" class=\"data row4 col1\" >10.000000</td>\n",
              "                        <td id=\"T_15fedd00_2b28_11eb_a6e1_0242ac1c0002row4_col2\" class=\"data row4 col2\" >0.071811</td>\n",
              "                        <td id=\"T_15fedd00_2b28_11eb_a6e1_0242ac1c0002row4_col3\" class=\"data row4 col3\" >0.254442</td>\n",
              "            </tr>\n",
              "            <tr>\n",
              "                        <th id=\"T_15fedd00_2b28_11eb_a6e1_0242ac1c0002level0_row5\" class=\"row_heading level0 row5\" >5</th>\n",
              "                        <td id=\"T_15fedd00_2b28_11eb_a6e1_0242ac1c0002row5_col0\" class=\"data row5 col0\" >40.000000</td>\n",
              "                        <td id=\"T_15fedd00_2b28_11eb_a6e1_0242ac1c0002row5_col1\" class=\"data row5 col1\" >10.000000</td>\n",
              "                        <td id=\"T_15fedd00_2b28_11eb_a6e1_0242ac1c0002row5_col2\" class=\"data row5 col2\" >0.140221</td>\n",
              "                        <td id=\"T_15fedd00_2b28_11eb_a6e1_0242ac1c0002row5_col3\" class=\"data row5 col3\" >0.996895</td>\n",
              "            </tr>\n",
              "            <tr>\n",
              "                        <th id=\"T_15fedd00_2b28_11eb_a6e1_0242ac1c0002level0_row6\" class=\"row_heading level0 row6\" >6</th>\n",
              "                        <td id=\"T_15fedd00_2b28_11eb_a6e1_0242ac1c0002row6_col0\" class=\"data row6 col0\" >1.000000</td>\n",
              "                        <td id=\"T_15fedd00_2b28_11eb_a6e1_0242ac1c0002row6_col1\" class=\"data row6 col1\" >20.000000</td>\n",
              "                        <td id=\"T_15fedd00_2b28_11eb_a6e1_0242ac1c0002row6_col2\" class=\"data row6 col2\" >0.092728</td>\n",
              "                        <td id=\"T_15fedd00_2b28_11eb_a6e1_0242ac1c0002row6_col3\" class=\"data row6 col3\" >0.370710</td>\n",
              "            </tr>\n",
              "            <tr>\n",
              "                        <th id=\"T_15fedd00_2b28_11eb_a6e1_0242ac1c0002level0_row7\" class=\"row_heading level0 row7\" >7</th>\n",
              "                        <td id=\"T_15fedd00_2b28_11eb_a6e1_0242ac1c0002row7_col0\" class=\"data row7 col0\" >3.000000</td>\n",
              "                        <td id=\"T_15fedd00_2b28_11eb_a6e1_0242ac1c0002row7_col1\" class=\"data row7 col1\" >20.000000</td>\n",
              "                        <td id=\"T_15fedd00_2b28_11eb_a6e1_0242ac1c0002row7_col2\" class=\"data row7 col2\" >0.087751</td>\n",
              "                        <td id=\"T_15fedd00_2b28_11eb_a6e1_0242ac1c0002row7_col3\" class=\"data row7 col3\" >0.284081</td>\n",
              "            </tr>\n",
              "            <tr>\n",
              "                        <th id=\"T_15fedd00_2b28_11eb_a6e1_0242ac1c0002level0_row8\" class=\"row_heading level0 row8\" >8</th>\n",
              "                        <td id=\"T_15fedd00_2b28_11eb_a6e1_0242ac1c0002row8_col0\" class=\"data row8 col0\" >5.000000</td>\n",
              "                        <td id=\"T_15fedd00_2b28_11eb_a6e1_0242ac1c0002row8_col1\" class=\"data row8 col1\" >20.000000</td>\n",
              "                        <td id=\"T_15fedd00_2b28_11eb_a6e1_0242ac1c0002row8_col2\" class=\"data row8 col2\" >0.074357</td>\n",
              "                        <td id=\"T_15fedd00_2b28_11eb_a6e1_0242ac1c0002row8_col3\" class=\"data row8 col3\" >0.204719</td>\n",
              "            </tr>\n",
              "            <tr>\n",
              "                        <th id=\"T_15fedd00_2b28_11eb_a6e1_0242ac1c0002level0_row9\" class=\"row_heading level0 row9\" >9</th>\n",
              "                        <td id=\"T_15fedd00_2b28_11eb_a6e1_0242ac1c0002row9_col0\" class=\"data row9 col0\" >10.000000</td>\n",
              "                        <td id=\"T_15fedd00_2b28_11eb_a6e1_0242ac1c0002row9_col1\" class=\"data row9 col1\" >20.000000</td>\n",
              "                        <td id=\"T_15fedd00_2b28_11eb_a6e1_0242ac1c0002row9_col2\" class=\"data row9 col2\" >0.071714</td>\n",
              "                        <td id=\"T_15fedd00_2b28_11eb_a6e1_0242ac1c0002row9_col3\" class=\"data row9 col3\" >0.187607</td>\n",
              "            </tr>\n",
              "            <tr>\n",
              "                        <th id=\"T_15fedd00_2b28_11eb_a6e1_0242ac1c0002level0_row10\" class=\"row_heading level0 row10\" >10</th>\n",
              "                        <td id=\"T_15fedd00_2b28_11eb_a6e1_0242ac1c0002row10_col0\" class=\"data row10 col0\" >30.000000</td>\n",
              "                        <td id=\"T_15fedd00_2b28_11eb_a6e1_0242ac1c0002row10_col1\" class=\"data row10 col1\" >20.000000</td>\n",
              "                        <td id=\"T_15fedd00_2b28_11eb_a6e1_0242ac1c0002row10_col2\" class=\"data row10 col2\" >0.048224</td>\n",
              "                        <td id=\"T_15fedd00_2b28_11eb_a6e1_0242ac1c0002row10_col3\" class=\"data row10 col3\" >0.262477</td>\n",
              "            </tr>\n",
              "            <tr>\n",
              "                        <th id=\"T_15fedd00_2b28_11eb_a6e1_0242ac1c0002level0_row11\" class=\"row_heading level0 row11\" >11</th>\n",
              "                        <td id=\"T_15fedd00_2b28_11eb_a6e1_0242ac1c0002row11_col0\" class=\"data row11 col0\" >40.000000</td>\n",
              "                        <td id=\"T_15fedd00_2b28_11eb_a6e1_0242ac1c0002row11_col1\" class=\"data row11 col1\" >20.000000</td>\n",
              "                        <td id=\"T_15fedd00_2b28_11eb_a6e1_0242ac1c0002row11_col2\" class=\"data row11 col2\" >0.121727</td>\n",
              "                        <td id=\"T_15fedd00_2b28_11eb_a6e1_0242ac1c0002row11_col3\" class=\"data row11 col3\" >0.702956</td>\n",
              "            </tr>\n",
              "            <tr>\n",
              "                        <th id=\"T_15fedd00_2b28_11eb_a6e1_0242ac1c0002level0_row12\" class=\"row_heading level0 row12\" >12</th>\n",
              "                        <td id=\"T_15fedd00_2b28_11eb_a6e1_0242ac1c0002row12_col0\" class=\"data row12 col0\" >1.000000</td>\n",
              "                        <td id=\"T_15fedd00_2b28_11eb_a6e1_0242ac1c0002row12_col1\" class=\"data row12 col1\" >30.000000</td>\n",
              "                        <td id=\"T_15fedd00_2b28_11eb_a6e1_0242ac1c0002row12_col2\" class=\"data row12 col2\" >0.102010</td>\n",
              "                        <td id=\"T_15fedd00_2b28_11eb_a6e1_0242ac1c0002row12_col3\" class=\"data row12 col3\" >0.328259</td>\n",
              "            </tr>\n",
              "            <tr>\n",
              "                        <th id=\"T_15fedd00_2b28_11eb_a6e1_0242ac1c0002level0_row13\" class=\"row_heading level0 row13\" >13</th>\n",
              "                        <td id=\"T_15fedd00_2b28_11eb_a6e1_0242ac1c0002row13_col0\" class=\"data row13 col0\" >3.000000</td>\n",
              "                        <td id=\"T_15fedd00_2b28_11eb_a6e1_0242ac1c0002row13_col1\" class=\"data row13 col1\" >30.000000</td>\n",
              "                        <td id=\"T_15fedd00_2b28_11eb_a6e1_0242ac1c0002row13_col2\" class=\"data row13 col2\" >0.064621</td>\n",
              "                        <td id=\"T_15fedd00_2b28_11eb_a6e1_0242ac1c0002row13_col3\" class=\"data row13 col3\" >0.271294</td>\n",
              "            </tr>\n",
              "            <tr>\n",
              "                        <th id=\"T_15fedd00_2b28_11eb_a6e1_0242ac1c0002level0_row14\" class=\"row_heading level0 row14\" >14</th>\n",
              "                        <td id=\"T_15fedd00_2b28_11eb_a6e1_0242ac1c0002row14_col0\" class=\"data row14 col0\" >5.000000</td>\n",
              "                        <td id=\"T_15fedd00_2b28_11eb_a6e1_0242ac1c0002row14_col1\" class=\"data row14 col1\" >30.000000</td>\n",
              "                        <td id=\"T_15fedd00_2b28_11eb_a6e1_0242ac1c0002row14_col2\" class=\"data row14 col2\" >0.089041</td>\n",
              "                        <td id=\"T_15fedd00_2b28_11eb_a6e1_0242ac1c0002row14_col3\" class=\"data row14 col3\" >0.188450</td>\n",
              "            </tr>\n",
              "            <tr>\n",
              "                        <th id=\"T_15fedd00_2b28_11eb_a6e1_0242ac1c0002level0_row15\" class=\"row_heading level0 row15\" >15</th>\n",
              "                        <td id=\"T_15fedd00_2b28_11eb_a6e1_0242ac1c0002row15_col0\" class=\"data row15 col0\" >10.000000</td>\n",
              "                        <td id=\"T_15fedd00_2b28_11eb_a6e1_0242ac1c0002row15_col1\" class=\"data row15 col1\" >30.000000</td>\n",
              "                        <td id=\"T_15fedd00_2b28_11eb_a6e1_0242ac1c0002row15_col2\" class=\"data row15 col2\" >0.071631</td>\n",
              "                        <td id=\"T_15fedd00_2b28_11eb_a6e1_0242ac1c0002row15_col3\" class=\"data row15 col3\" >0.214992</td>\n",
              "            </tr>\n",
              "            <tr>\n",
              "                        <th id=\"T_15fedd00_2b28_11eb_a6e1_0242ac1c0002level0_row16\" class=\"row_heading level0 row16\" >16</th>\n",
              "                        <td id=\"T_15fedd00_2b28_11eb_a6e1_0242ac1c0002row16_col0\" class=\"data row16 col0\" >30.000000</td>\n",
              "                        <td id=\"T_15fedd00_2b28_11eb_a6e1_0242ac1c0002row16_col1\" class=\"data row16 col1\" >30.000000</td>\n",
              "                        <td id=\"T_15fedd00_2b28_11eb_a6e1_0242ac1c0002row16_col2\" class=\"data row16 col2\" >0.103315</td>\n",
              "                        <td id=\"T_15fedd00_2b28_11eb_a6e1_0242ac1c0002row16_col3\" class=\"data row16 col3\" >0.315543</td>\n",
              "            </tr>\n",
              "            <tr>\n",
              "                        <th id=\"T_15fedd00_2b28_11eb_a6e1_0242ac1c0002level0_row17\" class=\"row_heading level0 row17\" >17</th>\n",
              "                        <td id=\"T_15fedd00_2b28_11eb_a6e1_0242ac1c0002row17_col0\" class=\"data row17 col0\" >40.000000</td>\n",
              "                        <td id=\"T_15fedd00_2b28_11eb_a6e1_0242ac1c0002row17_col1\" class=\"data row17 col1\" >30.000000</td>\n",
              "                        <td id=\"T_15fedd00_2b28_11eb_a6e1_0242ac1c0002row17_col2\" class=\"data row17 col2\" >0.040768</td>\n",
              "                        <td id=\"T_15fedd00_2b28_11eb_a6e1_0242ac1c0002row17_col3\" class=\"data row17 col3\" >0.124370</td>\n",
              "            </tr>\n",
              "    </tbody></table>"
            ],
            "text/plain": [
              "<pandas.io.formats.style.Styler at 0x7fdac9cf0278>"
            ]
          },
          "metadata": {
            "tags": []
          },
          "execution_count": 15
        }
      ]
    },
    {
      "cell_type": "markdown",
      "metadata": {
        "id": "xUBn1aHoUHJE"
      },
      "source": [
        "## Ejercicio 4 - Comparación con LSTM\n",
        "\n",
        "En nuestro ultimo ejercicio, vamos a comparar los resultados obtenidos hasta ahora con una LSTM, Para ellos vamos a usar una libreria llamada [Tensorflow](https://www.tensorflow.org/?hl=es-419). Esta libreria es unos de las librerias estandares para entrenar redes neuronales (hay otras librerias cada vez más populares, [PyTorch](https://pytorch.org/)). En un entorno real es preferible usar algunas de estas librerias para trabajar con redes neuronales.\n",
        "\n",
        "Nota: en el alcance del curso no vamos a ver detalles de como crear modelos con estas librerias. Estos temas corresponden a temas más avanzados de Deep Learning. En el código se usan conceptos que nos vamos a profundizar, sin embargo se invita a alimentar la curiosidad."
      ]
    },
    {
      "cell_type": "code",
      "metadata": {
        "id": "kXqnWgG1UHJF",
        "cellView": "form"
      },
      "source": [
        "#@title Pregunta Abierta\n",
        "#@markdown ¿por qué una red LSTM puede ser mas adecuada para resolver este problema? justifique\n",
        "respuesta_4 = \"Porque en este tipo de red podemos guardar estados previos, y con base en ellos definir futuros estados lo que la hace fuerte en este problema de series de tiempo.\" #@param {type:\"string\"}"
      ],
      "execution_count": null,
      "outputs": []
    },
    {
      "cell_type": "markdown",
      "metadata": {
        "id": "0NeZ5PiEUHJG"
      },
      "source": [
        "Aca creamos el modelo LSTM usando tensorflow:"
      ]
    },
    {
      "cell_type": "code",
      "metadata": {
        "id": "Fns_PiMPUHJG"
      },
      "source": [
        "from tensorflow.keras.models import Sequential\n",
        "from tensorflow.keras.layers import Dense\n",
        "from tensorflow.keras.layers import LSTM\n",
        "def create_tf_model(look_back, num_hidden_neurons):\n",
        "    \"\"\"funcion que crear modelo LSTM con base al número de lags y numero de neuronas\"\"\"\n",
        "    model = Sequential()\n",
        "    model.add(LSTM(num_hidden_neurons, input_shape=(1, look_back)))\n",
        "    model.add(Dense(1))\n",
        "    model.compile(loss='mean_squared_error', optimizer='adam')\n",
        "    return(model)"
      ],
      "execution_count": 18,
      "outputs": []
    },
    {
      "cell_type": "markdown",
      "metadata": {
        "id": "Px5VQBhDUHJI"
      },
      "source": [
        "Vamos aseguranos de completar el código para lograr:\n",
        "1. Epocas = 100\n",
        "2. Pasar los parametros el la función `create_tf_model`\n",
        "3. utilizar como medida de error el error absoluto medio.  [recordar usar la implementación del modulo de metricas de sklearn](https://scikit-learn.org/stable/modules/classes.html#module-sklearn.metrics)"
      ]
    },
    {
      "cell_type": "code",
      "metadata": {
        "id": "n-zgWDvfUHJI"
      },
      "source": [
        "#ejercicio de código\n",
        "import tensorflow as tf\n",
        "def experimentar_LSTM(data, look_backs, hidden_neurons):\n",
        "    \"\"\"funcion que realiza experimentos para evaluar una LSTM usando\n",
        "        MAE Error Absoluto medio\n",
        "    \n",
        "    data: pd.Dataframe, dataset a usar\n",
        "    look_back: List[int], lista con los numero de retrasos a evaluar\n",
        "    hidden_neurons: List[int], list con el numero de neuronas en la capa oculta\n",
        "    retorna: pd.Dataframe con las siguientes columnas:\n",
        "        - lags\n",
        "        - neuronas por capas\n",
        "        - error de entrenamiento\n",
        "        - error de prueba\n",
        "    \"\"\"\n",
        "    # we need to normalize the dataset before\n",
        "    #\n",
        "    scaler = MinMaxScaler(feature_range=(0, 1))\n",
        "    dataset = scaler.fit_transform(data)\n",
        "    # split into train and test sets\n",
        "    train_size = int(len(dataset) * 0.7)\n",
        "    test_size = len(dataset) - train_size\n",
        "    train, test = dataset[0:train_size,:], dataset[train_size:len(dataset),:]\n",
        "    resultados = pd.DataFrame()\n",
        "    idx = 0\n",
        "    for num_hidden_neurons in hidden_neurons:\n",
        "        for look_back in look_backs:\n",
        "            # reshape into X=t-look_back+1:t and Y=t+1\n",
        "            trainX, trainY = create_dataset(train, look_back)\n",
        "            testX, testY = create_dataset(test, look_back)\n",
        "            # adaptar para compatibilidad con tensorflow\n",
        "            trainX = np.reshape(trainX, (trainX.shape[0], 1, trainX.shape[1]))\n",
        "            testX = np.reshape(testX, (testX.shape[0], 1, testX.shape[1]))\n",
        "            tf.compat.v1.disable_eager_execution() # para evitar algunos warnings\n",
        "            # llama la función definida anteriormente\n",
        "            model = create_tf_model(look_back, num_hidden_neurons)\n",
        "            # pasa el las epocas requeridas\n",
        "            model.fit(trainX, trainY, epochs= 100, batch_size=1, verbose=None)\n",
        "            # Evaluar la red con los datos de test y entrenamiento \n",
        "            trainYPred = model.predict(trainX)\n",
        "            testYPred = model.predict(testX)\n",
        "            # Calculo de error\n",
        "            errorTrain = mean_absolute_error(trainY, trainYPred)\n",
        "            errorTest = mean_absolute_error(testY, testYPred)\n",
        "            resultados.loc[idx,'lags'] = look_back\n",
        "            resultados.loc[idx,'neuronas por capa'] = num_hidden_neurons \n",
        "            resultados.loc[idx,'error de entrenamiento'] = errorTrain\n",
        "            resultados.loc[idx,'error de prueba'] = errorTest\n",
        "            idx+=1\n",
        "            print(\"termina un experimento con\", errorTrain, errorTest)\n",
        "    \n",
        "    return (resultados)"
      ],
      "execution_count": 19,
      "outputs": []
    },
    {
      "cell_type": "code",
      "metadata": {
        "id": "3KOxj5zIUHJK",
        "colab": {
          "base_uri": "https://localhost:8080/"
        },
        "outputId": "95dff90b-4745-471b-d05b-1d363e9918af"
      },
      "source": [
        "# ignorar los prints!\n",
        "GRADER.run_test(\"ejercicio3\", experimentar_LSTM)"
      ],
      "execution_count": 20,
      "outputs": [
        {
          "output_type": "stream",
          "text": [
            "WARNING:tensorflow:From /usr/local/lib/python3.6/dist-packages/tensorflow/python/keras/engine/training_v1.py:2070: Model.state_updates (from tensorflow.python.keras.engine.training) is deprecated and will be removed in a future version.\n",
            "Instructions for updating:\n",
            "This property should not be used in TensorFlow 2.0, as updates are applied automatically.\n",
            "termina un experimento con 0.1623220206329827 0.32319400986554564\n",
            "termina un experimento con 0.13974661094783525 0.4443631890118345\n",
            "TEST EXITOSO!\n"
          ],
          "name": "stdout"
        }
      ]
    },
    {
      "cell_type": "code",
      "metadata": {
        "id": "1mt8kaTCUHJL",
        "colab": {
          "base_uri": "https://localhost:8080/"
        },
        "outputId": "0588272a-1d33-41b8-91dc-363b8ac28af2"
      },
      "source": [
        "# demora algunos minutos!\n",
        "resultadosLSTM = experimentar_LSTM(dataset, look_backs = [1,3,5,20,30,40], hidden_neurons=[5,10,15])"
      ],
      "execution_count": 21,
      "outputs": [
        {
          "output_type": "stream",
          "text": [
            "termina un experimento con 0.03544148928178697 0.0832368573473534\n",
            "termina un experimento con 0.03552351951528103 0.07521225369057141\n",
            "termina un experimento con 0.035518330019611584 0.07603363229464866\n",
            "termina un experimento con 0.01718211784411908 0.0352411397715753\n",
            "termina un experimento con 0.014373953292175208 0.0596129899213319\n",
            "termina un experimento con 0.0130138234913985 0.11593864507196494\n",
            "termina un experimento con 0.035544172185397925 0.08375713919580674\n",
            "termina un experimento con 0.03452010711524222 0.07424997785721968\n",
            "termina un experimento con 0.03416903698669237 0.0807493880521328\n",
            "termina un experimento con 0.01632771047420191 0.06804913622091854\n",
            "termina un experimento con 0.015939458012314042 0.03516557533874828\n",
            "termina un experimento con 0.010965247381756233 0.09439426806289104\n",
            "termina un experimento con 0.03653807251924563 0.08047665920266775\n",
            "termina un experimento con 0.03384570412975967 0.07393842857316654\n",
            "termina un experimento con 0.033504196130322884 0.08541441009771868\n",
            "termina un experimento con 0.014935926558769136 0.024567502355823695\n",
            "termina un experimento con 0.018096586450776834 0.07906289891244964\n",
            "termina un experimento con 0.013046442260020424 0.045746228562972426\n"
          ],
          "name": "stdout"
        }
      ]
    },
    {
      "cell_type": "code",
      "metadata": {
        "id": "g_md7Qc_UHJN",
        "colab": {
          "base_uri": "https://localhost:8080/",
          "height": 418
        },
        "outputId": "9ec8b43d-bd3b-4fb6-e43f-bd2bf57e91cd"
      },
      "source": [
        "# para ver los resultados\n",
        "# en esta instruccion se va resaltar el mejor\n",
        "# error y tiempo de entrenamiento\n",
        "resultadosLSTM.style.highlight_min(color = 'lightgreen', axis = 0, subset = ['error de prueba'])"
      ],
      "execution_count": 22,
      "outputs": [
        {
          "output_type": "execute_result",
          "data": {
            "text/html": [
              "<style  type=\"text/css\" >\n",
              "#T_7069ec1e_2b2b_11eb_a6e1_0242ac1c0002row15_col3{\n",
              "            background-color:  lightgreen;\n",
              "        }</style><table id=\"T_7069ec1e_2b2b_11eb_a6e1_0242ac1c0002\" ><thead>    <tr>        <th class=\"blank level0\" ></th>        <th class=\"col_heading level0 col0\" >lags</th>        <th class=\"col_heading level0 col1\" >neuronas por capa</th>        <th class=\"col_heading level0 col2\" >error de entrenamiento</th>        <th class=\"col_heading level0 col3\" >error de prueba</th>    </tr></thead><tbody>\n",
              "                <tr>\n",
              "                        <th id=\"T_7069ec1e_2b2b_11eb_a6e1_0242ac1c0002level0_row0\" class=\"row_heading level0 row0\" >0</th>\n",
              "                        <td id=\"T_7069ec1e_2b2b_11eb_a6e1_0242ac1c0002row0_col0\" class=\"data row0 col0\" >1.000000</td>\n",
              "                        <td id=\"T_7069ec1e_2b2b_11eb_a6e1_0242ac1c0002row0_col1\" class=\"data row0 col1\" >5.000000</td>\n",
              "                        <td id=\"T_7069ec1e_2b2b_11eb_a6e1_0242ac1c0002row0_col2\" class=\"data row0 col2\" >0.035441</td>\n",
              "                        <td id=\"T_7069ec1e_2b2b_11eb_a6e1_0242ac1c0002row0_col3\" class=\"data row0 col3\" >0.083237</td>\n",
              "            </tr>\n",
              "            <tr>\n",
              "                        <th id=\"T_7069ec1e_2b2b_11eb_a6e1_0242ac1c0002level0_row1\" class=\"row_heading level0 row1\" >1</th>\n",
              "                        <td id=\"T_7069ec1e_2b2b_11eb_a6e1_0242ac1c0002row1_col0\" class=\"data row1 col0\" >3.000000</td>\n",
              "                        <td id=\"T_7069ec1e_2b2b_11eb_a6e1_0242ac1c0002row1_col1\" class=\"data row1 col1\" >5.000000</td>\n",
              "                        <td id=\"T_7069ec1e_2b2b_11eb_a6e1_0242ac1c0002row1_col2\" class=\"data row1 col2\" >0.035524</td>\n",
              "                        <td id=\"T_7069ec1e_2b2b_11eb_a6e1_0242ac1c0002row1_col3\" class=\"data row1 col3\" >0.075212</td>\n",
              "            </tr>\n",
              "            <tr>\n",
              "                        <th id=\"T_7069ec1e_2b2b_11eb_a6e1_0242ac1c0002level0_row2\" class=\"row_heading level0 row2\" >2</th>\n",
              "                        <td id=\"T_7069ec1e_2b2b_11eb_a6e1_0242ac1c0002row2_col0\" class=\"data row2 col0\" >5.000000</td>\n",
              "                        <td id=\"T_7069ec1e_2b2b_11eb_a6e1_0242ac1c0002row2_col1\" class=\"data row2 col1\" >5.000000</td>\n",
              "                        <td id=\"T_7069ec1e_2b2b_11eb_a6e1_0242ac1c0002row2_col2\" class=\"data row2 col2\" >0.035518</td>\n",
              "                        <td id=\"T_7069ec1e_2b2b_11eb_a6e1_0242ac1c0002row2_col3\" class=\"data row2 col3\" >0.076034</td>\n",
              "            </tr>\n",
              "            <tr>\n",
              "                        <th id=\"T_7069ec1e_2b2b_11eb_a6e1_0242ac1c0002level0_row3\" class=\"row_heading level0 row3\" >3</th>\n",
              "                        <td id=\"T_7069ec1e_2b2b_11eb_a6e1_0242ac1c0002row3_col0\" class=\"data row3 col0\" >20.000000</td>\n",
              "                        <td id=\"T_7069ec1e_2b2b_11eb_a6e1_0242ac1c0002row3_col1\" class=\"data row3 col1\" >5.000000</td>\n",
              "                        <td id=\"T_7069ec1e_2b2b_11eb_a6e1_0242ac1c0002row3_col2\" class=\"data row3 col2\" >0.017182</td>\n",
              "                        <td id=\"T_7069ec1e_2b2b_11eb_a6e1_0242ac1c0002row3_col3\" class=\"data row3 col3\" >0.035241</td>\n",
              "            </tr>\n",
              "            <tr>\n",
              "                        <th id=\"T_7069ec1e_2b2b_11eb_a6e1_0242ac1c0002level0_row4\" class=\"row_heading level0 row4\" >4</th>\n",
              "                        <td id=\"T_7069ec1e_2b2b_11eb_a6e1_0242ac1c0002row4_col0\" class=\"data row4 col0\" >30.000000</td>\n",
              "                        <td id=\"T_7069ec1e_2b2b_11eb_a6e1_0242ac1c0002row4_col1\" class=\"data row4 col1\" >5.000000</td>\n",
              "                        <td id=\"T_7069ec1e_2b2b_11eb_a6e1_0242ac1c0002row4_col2\" class=\"data row4 col2\" >0.014374</td>\n",
              "                        <td id=\"T_7069ec1e_2b2b_11eb_a6e1_0242ac1c0002row4_col3\" class=\"data row4 col3\" >0.059613</td>\n",
              "            </tr>\n",
              "            <tr>\n",
              "                        <th id=\"T_7069ec1e_2b2b_11eb_a6e1_0242ac1c0002level0_row5\" class=\"row_heading level0 row5\" >5</th>\n",
              "                        <td id=\"T_7069ec1e_2b2b_11eb_a6e1_0242ac1c0002row5_col0\" class=\"data row5 col0\" >40.000000</td>\n",
              "                        <td id=\"T_7069ec1e_2b2b_11eb_a6e1_0242ac1c0002row5_col1\" class=\"data row5 col1\" >5.000000</td>\n",
              "                        <td id=\"T_7069ec1e_2b2b_11eb_a6e1_0242ac1c0002row5_col2\" class=\"data row5 col2\" >0.013014</td>\n",
              "                        <td id=\"T_7069ec1e_2b2b_11eb_a6e1_0242ac1c0002row5_col3\" class=\"data row5 col3\" >0.115939</td>\n",
              "            </tr>\n",
              "            <tr>\n",
              "                        <th id=\"T_7069ec1e_2b2b_11eb_a6e1_0242ac1c0002level0_row6\" class=\"row_heading level0 row6\" >6</th>\n",
              "                        <td id=\"T_7069ec1e_2b2b_11eb_a6e1_0242ac1c0002row6_col0\" class=\"data row6 col0\" >1.000000</td>\n",
              "                        <td id=\"T_7069ec1e_2b2b_11eb_a6e1_0242ac1c0002row6_col1\" class=\"data row6 col1\" >10.000000</td>\n",
              "                        <td id=\"T_7069ec1e_2b2b_11eb_a6e1_0242ac1c0002row6_col2\" class=\"data row6 col2\" >0.035544</td>\n",
              "                        <td id=\"T_7069ec1e_2b2b_11eb_a6e1_0242ac1c0002row6_col3\" class=\"data row6 col3\" >0.083757</td>\n",
              "            </tr>\n",
              "            <tr>\n",
              "                        <th id=\"T_7069ec1e_2b2b_11eb_a6e1_0242ac1c0002level0_row7\" class=\"row_heading level0 row7\" >7</th>\n",
              "                        <td id=\"T_7069ec1e_2b2b_11eb_a6e1_0242ac1c0002row7_col0\" class=\"data row7 col0\" >3.000000</td>\n",
              "                        <td id=\"T_7069ec1e_2b2b_11eb_a6e1_0242ac1c0002row7_col1\" class=\"data row7 col1\" >10.000000</td>\n",
              "                        <td id=\"T_7069ec1e_2b2b_11eb_a6e1_0242ac1c0002row7_col2\" class=\"data row7 col2\" >0.034520</td>\n",
              "                        <td id=\"T_7069ec1e_2b2b_11eb_a6e1_0242ac1c0002row7_col3\" class=\"data row7 col3\" >0.074250</td>\n",
              "            </tr>\n",
              "            <tr>\n",
              "                        <th id=\"T_7069ec1e_2b2b_11eb_a6e1_0242ac1c0002level0_row8\" class=\"row_heading level0 row8\" >8</th>\n",
              "                        <td id=\"T_7069ec1e_2b2b_11eb_a6e1_0242ac1c0002row8_col0\" class=\"data row8 col0\" >5.000000</td>\n",
              "                        <td id=\"T_7069ec1e_2b2b_11eb_a6e1_0242ac1c0002row8_col1\" class=\"data row8 col1\" >10.000000</td>\n",
              "                        <td id=\"T_7069ec1e_2b2b_11eb_a6e1_0242ac1c0002row8_col2\" class=\"data row8 col2\" >0.034169</td>\n",
              "                        <td id=\"T_7069ec1e_2b2b_11eb_a6e1_0242ac1c0002row8_col3\" class=\"data row8 col3\" >0.080749</td>\n",
              "            </tr>\n",
              "            <tr>\n",
              "                        <th id=\"T_7069ec1e_2b2b_11eb_a6e1_0242ac1c0002level0_row9\" class=\"row_heading level0 row9\" >9</th>\n",
              "                        <td id=\"T_7069ec1e_2b2b_11eb_a6e1_0242ac1c0002row9_col0\" class=\"data row9 col0\" >20.000000</td>\n",
              "                        <td id=\"T_7069ec1e_2b2b_11eb_a6e1_0242ac1c0002row9_col1\" class=\"data row9 col1\" >10.000000</td>\n",
              "                        <td id=\"T_7069ec1e_2b2b_11eb_a6e1_0242ac1c0002row9_col2\" class=\"data row9 col2\" >0.016328</td>\n",
              "                        <td id=\"T_7069ec1e_2b2b_11eb_a6e1_0242ac1c0002row9_col3\" class=\"data row9 col3\" >0.068049</td>\n",
              "            </tr>\n",
              "            <tr>\n",
              "                        <th id=\"T_7069ec1e_2b2b_11eb_a6e1_0242ac1c0002level0_row10\" class=\"row_heading level0 row10\" >10</th>\n",
              "                        <td id=\"T_7069ec1e_2b2b_11eb_a6e1_0242ac1c0002row10_col0\" class=\"data row10 col0\" >30.000000</td>\n",
              "                        <td id=\"T_7069ec1e_2b2b_11eb_a6e1_0242ac1c0002row10_col1\" class=\"data row10 col1\" >10.000000</td>\n",
              "                        <td id=\"T_7069ec1e_2b2b_11eb_a6e1_0242ac1c0002row10_col2\" class=\"data row10 col2\" >0.015939</td>\n",
              "                        <td id=\"T_7069ec1e_2b2b_11eb_a6e1_0242ac1c0002row10_col3\" class=\"data row10 col3\" >0.035166</td>\n",
              "            </tr>\n",
              "            <tr>\n",
              "                        <th id=\"T_7069ec1e_2b2b_11eb_a6e1_0242ac1c0002level0_row11\" class=\"row_heading level0 row11\" >11</th>\n",
              "                        <td id=\"T_7069ec1e_2b2b_11eb_a6e1_0242ac1c0002row11_col0\" class=\"data row11 col0\" >40.000000</td>\n",
              "                        <td id=\"T_7069ec1e_2b2b_11eb_a6e1_0242ac1c0002row11_col1\" class=\"data row11 col1\" >10.000000</td>\n",
              "                        <td id=\"T_7069ec1e_2b2b_11eb_a6e1_0242ac1c0002row11_col2\" class=\"data row11 col2\" >0.010965</td>\n",
              "                        <td id=\"T_7069ec1e_2b2b_11eb_a6e1_0242ac1c0002row11_col3\" class=\"data row11 col3\" >0.094394</td>\n",
              "            </tr>\n",
              "            <tr>\n",
              "                        <th id=\"T_7069ec1e_2b2b_11eb_a6e1_0242ac1c0002level0_row12\" class=\"row_heading level0 row12\" >12</th>\n",
              "                        <td id=\"T_7069ec1e_2b2b_11eb_a6e1_0242ac1c0002row12_col0\" class=\"data row12 col0\" >1.000000</td>\n",
              "                        <td id=\"T_7069ec1e_2b2b_11eb_a6e1_0242ac1c0002row12_col1\" class=\"data row12 col1\" >15.000000</td>\n",
              "                        <td id=\"T_7069ec1e_2b2b_11eb_a6e1_0242ac1c0002row12_col2\" class=\"data row12 col2\" >0.036538</td>\n",
              "                        <td id=\"T_7069ec1e_2b2b_11eb_a6e1_0242ac1c0002row12_col3\" class=\"data row12 col3\" >0.080477</td>\n",
              "            </tr>\n",
              "            <tr>\n",
              "                        <th id=\"T_7069ec1e_2b2b_11eb_a6e1_0242ac1c0002level0_row13\" class=\"row_heading level0 row13\" >13</th>\n",
              "                        <td id=\"T_7069ec1e_2b2b_11eb_a6e1_0242ac1c0002row13_col0\" class=\"data row13 col0\" >3.000000</td>\n",
              "                        <td id=\"T_7069ec1e_2b2b_11eb_a6e1_0242ac1c0002row13_col1\" class=\"data row13 col1\" >15.000000</td>\n",
              "                        <td id=\"T_7069ec1e_2b2b_11eb_a6e1_0242ac1c0002row13_col2\" class=\"data row13 col2\" >0.033846</td>\n",
              "                        <td id=\"T_7069ec1e_2b2b_11eb_a6e1_0242ac1c0002row13_col3\" class=\"data row13 col3\" >0.073938</td>\n",
              "            </tr>\n",
              "            <tr>\n",
              "                        <th id=\"T_7069ec1e_2b2b_11eb_a6e1_0242ac1c0002level0_row14\" class=\"row_heading level0 row14\" >14</th>\n",
              "                        <td id=\"T_7069ec1e_2b2b_11eb_a6e1_0242ac1c0002row14_col0\" class=\"data row14 col0\" >5.000000</td>\n",
              "                        <td id=\"T_7069ec1e_2b2b_11eb_a6e1_0242ac1c0002row14_col1\" class=\"data row14 col1\" >15.000000</td>\n",
              "                        <td id=\"T_7069ec1e_2b2b_11eb_a6e1_0242ac1c0002row14_col2\" class=\"data row14 col2\" >0.033504</td>\n",
              "                        <td id=\"T_7069ec1e_2b2b_11eb_a6e1_0242ac1c0002row14_col3\" class=\"data row14 col3\" >0.085414</td>\n",
              "            </tr>\n",
              "            <tr>\n",
              "                        <th id=\"T_7069ec1e_2b2b_11eb_a6e1_0242ac1c0002level0_row15\" class=\"row_heading level0 row15\" >15</th>\n",
              "                        <td id=\"T_7069ec1e_2b2b_11eb_a6e1_0242ac1c0002row15_col0\" class=\"data row15 col0\" >20.000000</td>\n",
              "                        <td id=\"T_7069ec1e_2b2b_11eb_a6e1_0242ac1c0002row15_col1\" class=\"data row15 col1\" >15.000000</td>\n",
              "                        <td id=\"T_7069ec1e_2b2b_11eb_a6e1_0242ac1c0002row15_col2\" class=\"data row15 col2\" >0.014936</td>\n",
              "                        <td id=\"T_7069ec1e_2b2b_11eb_a6e1_0242ac1c0002row15_col3\" class=\"data row15 col3\" >0.024568</td>\n",
              "            </tr>\n",
              "            <tr>\n",
              "                        <th id=\"T_7069ec1e_2b2b_11eb_a6e1_0242ac1c0002level0_row16\" class=\"row_heading level0 row16\" >16</th>\n",
              "                        <td id=\"T_7069ec1e_2b2b_11eb_a6e1_0242ac1c0002row16_col0\" class=\"data row16 col0\" >30.000000</td>\n",
              "                        <td id=\"T_7069ec1e_2b2b_11eb_a6e1_0242ac1c0002row16_col1\" class=\"data row16 col1\" >15.000000</td>\n",
              "                        <td id=\"T_7069ec1e_2b2b_11eb_a6e1_0242ac1c0002row16_col2\" class=\"data row16 col2\" >0.018097</td>\n",
              "                        <td id=\"T_7069ec1e_2b2b_11eb_a6e1_0242ac1c0002row16_col3\" class=\"data row16 col3\" >0.079063</td>\n",
              "            </tr>\n",
              "            <tr>\n",
              "                        <th id=\"T_7069ec1e_2b2b_11eb_a6e1_0242ac1c0002level0_row17\" class=\"row_heading level0 row17\" >17</th>\n",
              "                        <td id=\"T_7069ec1e_2b2b_11eb_a6e1_0242ac1c0002row17_col0\" class=\"data row17 col0\" >40.000000</td>\n",
              "                        <td id=\"T_7069ec1e_2b2b_11eb_a6e1_0242ac1c0002row17_col1\" class=\"data row17 col1\" >15.000000</td>\n",
              "                        <td id=\"T_7069ec1e_2b2b_11eb_a6e1_0242ac1c0002row17_col2\" class=\"data row17 col2\" >0.013046</td>\n",
              "                        <td id=\"T_7069ec1e_2b2b_11eb_a6e1_0242ac1c0002row17_col3\" class=\"data row17 col3\" >0.045746</td>\n",
              "            </tr>\n",
              "    </tbody></table>"
            ],
            "text/plain": [
              "<pandas.io.formats.style.Styler at 0x7fda9b317208>"
            ]
          },
          "metadata": {
            "tags": []
          },
          "execution_count": 22
        }
      ]
    },
    {
      "cell_type": "code",
      "metadata": {
        "id": "RgMlGhUgUHJP",
        "colab": {
          "base_uri": "https://localhost:8080/",
          "height": 400
        },
        "outputId": "415742a9-1d2e-421a-e926-c2f3d255203b"
      },
      "source": [
        "# observa el comportamiento de los lags y comparar con elman\n",
        "import seaborn as sns\n",
        "resultadosLSTM['tipo_de_red'] = 'LSTM'\n",
        "resultadosElman['tipo_de_red'] = 'Elman'\n",
        "lstm_vs_elman = pd.concat([resultadosLSTM, resultadosElman], axis= 0 , ignore_index = True)\n",
        "sns.relplot(data= lstm_vs_elman, x= 'lags', y = 'error de prueba', kind = 'line', hue = 'tipo_de_red')"
      ],
      "execution_count": 23,
      "outputs": [
        {
          "output_type": "execute_result",
          "data": {
            "text/plain": [
              "<seaborn.axisgrid.FacetGrid at 0x7fda8b735e80>"
            ]
          },
          "metadata": {
            "tags": []
          },
          "execution_count": 23
        },
        {
          "output_type": "display_data",
          "data": {
            "image/png": "[encoded data removed]",
            "text/plain": [
              "<Figure size 427.25x360 with 1 Axes>"
            ]
          },
          "metadata": {
            "tags": [],
            "needs_background": "light"
          }
        }
      ]
    },
    {
      "cell_type": "code",
      "metadata": {
        "id": "MrKvqWw2UHJS",
        "colab": {
          "base_uri": "https://localhost:8080/"
        },
        "outputId": "60199a23-1c3b-449b-c455-fcacf33c2ed1"
      },
      "source": [
        "GRADER.check_tests()"
      ],
      "execution_count": 24,
      "outputs": [
        {
          "output_type": "stream",
          "text": [
            "Todo se ve ok. Asegurate de responder las preguntas abiertas y envia e archivo al formulario ¡buen trabajo!\n"
          ],
          "name": "stdout"
        }
      ]
    },
    {
      "cell_type": "code",
      "metadata": {
        "id": "bqLnLhkbUHJT",
        "cellView": "form"
      },
      "source": [
        "#@title Integrantes\n",
        "codigo_integrante_1 ='1037652924' #@param {type:\"string\"}\n",
        "codigo_integrante_2 = '1061805868'  #@param {type:\"string\"}"
      ],
      "execution_count": null,
      "outputs": []
    },
    {
      "cell_type": "markdown",
      "metadata": {
        "id": "49ks-ybfUHJV"
      },
      "source": [
        "----\n",
        "esta linea de codigo va fallar, es de uso exclusivo de los profesores\n"
      ]
    },
    {
      "cell_type": "code",
      "metadata": {
        "id": "MJl4We7lUHJV"
      },
      "source": [
        "GRADER.grade()"
      ],
      "execution_count": null,
      "outputs": []
    }
  ]
}