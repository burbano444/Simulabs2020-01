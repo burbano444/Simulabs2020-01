{
  "nbformat": 4,
  "nbformat_minor": 0,
  "metadata": {
    "kernelspec": {
      "display_name": "Python 3",
      "language": "python",
      "name": "python3"
    },
    "language_info": {
      "codemirror_mode": {
        "name": "ipython",
        "version": 3
      },
      "file_extension": ".py",
      "mimetype": "text/x-python",
      "name": "python",
      "nbconvert_exporter": "python",
      "pygments_lexer": "ipython3",
      "version": "3.6.9"
    },
    "colab": {
      "name": "lab6_parte2.ipynb",
      "provenance": [],
      "collapsed_sections": [],
      "toc_visible": true
    }
  },
  "cells": [
    {
      "cell_type": "markdown",
      "metadata": {
        "id": "s2-ZcXW8JIRN"
      },
      "source": [
        "<a href=\"https://colab.research.google.com/github/jdariasl/ML_2020/blob/master/Labs/lab6/lab6_parte2.ipynb\">\n",
        "    <img src=\"https://colab.research.google.com/assets/colab-badge.svg\" alt=\"Open In Colab\"/></a>\n",
        "\n",
        "**Recuerda que una vez abierto, Da clic en \"Copiar en Drive\", de lo contrario no podras almacenar tu progreso**\n",
        "\n",
        "Nota: no olvide ir ejecutando las celdas de código de arriba hacia abajo para que no tenga errores de importación de librerías o por falta de definición de variables."
      ]
    },
    {
      "cell_type": "code",
      "metadata": {
        "id": "jx-xLv1JJIRO",
        "colab": {
          "base_uri": "https://localhost:8080/"
        },
        "outputId": "f160e5e3-c58d-4dd5-9a03-106c566f6d7f"
      },
      "source": [
        "#configuración del laboratorio\n",
        "# Ejecuta esta celda!\n",
        "%load_ext autoreload\n",
        "%autoreload 2\n",
        "#for local \n",
        "#import sys ; sys.path.append('../commons/utils/')\n",
        "!wget https://raw.githubusercontent.com/jdariasl/ML_2020/master/Labs/commons/utils/general.py -O general.py --no-cache\n",
        "from general import configure_lab6\n",
        "configure_lab6()\n",
        "from lab6 import *\n",
        "GRADER, x,y = part_2()"
      ],
      "execution_count": 1,
      "outputs": [
        {
          "output_type": "stream",
          "text": [
            "--2020-12-11 12:02:28--  https://raw.githubusercontent.com/jdariasl/ML_2020/master/Labs/commons/utils/general.py\n",
            "Resolving raw.githubusercontent.com (raw.githubusercontent.com)... 151.101.0.133, 151.101.64.133, 151.101.128.133, ...\n",
            "Connecting to raw.githubusercontent.com (raw.githubusercontent.com)|151.101.0.133|:443... connected.\n",
            "HTTP request sent, awaiting response... 200 OK\n",
            "Length: 14117 (14K) [text/plain]\n",
            "Saving to: ‘general.py’\n",
            "\n",
            "\rgeneral.py            0%[                    ]       0  --.-KB/s               \rgeneral.py          100%[===================>]  13.79K  --.-KB/s    in 0s      \n",
            "\n",
            "2020-12-11 12:02:29 (98.0 MB/s) - ‘general.py’ saved [14117/14117]\n",
            "\n",
            "lab configuration started\n",
            "installing libraries\n",
            "downloading files\n",
            "lab configured\n"
          ],
          "name": "stdout"
        }
      ]
    },
    {
      "cell_type": "markdown",
      "metadata": {
        "id": "2pmUoVrIJIRR"
      },
      "source": [
        "# Laboratorio 6 - Parte 2: Reducción de dimensión PCA y LDA"
      ]
    },
    {
      "cell_type": "markdown",
      "metadata": {
        "id": "_Kh8y3kbJIRR"
      },
      "source": [
        "Para el problema de clasificación usaremos la siguiente base de datos: https://archive.ics.uci.edu/ml/datasets/Cardiotocography\n",
        "\n",
        "Analice la base de datos, sus características, su variable de salida y el contexto del problema."
      ]
    },
    {
      "cell_type": "code",
      "metadata": {
        "id": "TJOvMfi2JIRS",
        "colab": {
          "base_uri": "https://localhost:8080/"
        },
        "outputId": "004ff9ba-ca16-4cce-894b-9dc2ca7bf9ba"
      },
      "source": [
        "print('Dimensiones de la base de datos de entrenamiento. dim de X: ' + str(np.shape(x)) + '\\tdim de Y: ' + str(np.shape(y)))"
      ],
      "execution_count": 2,
      "outputs": [
        {
          "output_type": "stream",
          "text": [
            "Dimensiones de la base de datos de entrenamiento. dim de X: (2126, 22)\tdim de Y: (2126,)\n"
          ],
          "name": "stdout"
        }
      ]
    },
    {
      "cell_type": "markdown",
      "metadata": {
        "id": "5Uvq52gKJIRT"
      },
      "source": [
        "Este ejercicio tiene como objetivo implementar varias técnicas de extracción de características (PCA y LDA) y usar RF para resolver un problema de clasificación multietiqueta o multiclase."
      ]
    },
    {
      "cell_type": "markdown",
      "metadata": {
        "id": "rLmIvaAoJIRU"
      },
      "source": [
        "**observación para las librerias sklearn **\n",
        "\n",
        "Llamar explicitamente los parametros de las librerias de sklearn (e.j. si se quiere usar el parametro `kernel` del `SVC`, se debe llamar `SVC(kernel='rbf'`)"
      ]
    },
    {
      "cell_type": "markdown",
      "metadata": {
        "id": "p5GcsMgdJIRU"
      },
      "source": [
        "En la siguiente celda se define una función para entrenar un SVM para resolver el problema. Esta función la vamos a usar como base para comparar nuestros metodos de selección de características."
      ]
    },
    {
      "cell_type": "code",
      "metadata": {
        "id": "y-32LBlKJIRV"
      },
      "source": [
        "def entrenamiento_sin_seleccion_caracteristicas(splits, X, Y):\n",
        "    \"\"\"\n",
        "    Función que ejecuta el entrenamiento del modelo sin una selección particular\n",
        "    de las características\n",
        "\n",
        "      Parámetros:splits : numero de particiones  a realizar\n",
        "      Retorna:\n",
        "      1. El modelo entreando\n",
        "      2. El vector de errores\n",
        "      3. El Intervalo de confianza\n",
        "      4. El tiempo de procesamiento\n",
        "    \"\"\"\n",
        "    #Implemetamos la metodología de validación\n",
        "    Errores = np.ones(splits)\n",
        "    Score = np.ones(splits)\n",
        "    times = np.ones(splits)\n",
        "    j = 0\n",
        "    kf = KFold(n_splits=splits)\n",
        "    for train_index, test_index in kf.split(X):\n",
        "        X_train, X_test = X[train_index], X[test_index]\n",
        "        y_train, y_test = Y[train_index], Y[test_index]\n",
        "        scaler = StandardScaler()\n",
        "        X_train = scaler.fit_transform(X_train)\n",
        "        X_test = scaler.transform(X_test)\n",
        "        #Creamos el clasificador SVM.\n",
        "        clf = SVC(kernel=\"linear\", C=1)\n",
        "        #Aquí se entran y se valida el modelo sin hacer selección de características\n",
        "        tiempo_i = time.time()\n",
        "        clf.fit(X_train,y_train)\n",
        "        # Validación del modelo\n",
        "        Errores[j] = accuracy_score(y_true=y_test, y_pred=clf.predict(X_test))\n",
        "        times[j] = time.time()-tiempo_i\n",
        "        j+=1\n",
        "\n",
        "    return np.mean(Errores), np.std(Errores), np.mean(times)"
      ],
      "execution_count": 3,
      "outputs": []
    },
    {
      "cell_type": "markdown",
      "metadata": {
        "id": "JnTbznlqJIRW"
      },
      "source": [
        "## Ejercicio 1: Entrenamiento usando PCA para realizar extracción"
      ]
    },
    {
      "cell_type": "markdown",
      "metadata": {
        "id": "pv3rYpXHJIRX"
      },
      "source": [
        "En este ejercicio vamos a aplicar PCA para realizar la extracción de caracteristicas. Para ello tener en cuenta:\n",
        "\n",
        "1. Vamos a usar el modulo [PCA de sklearn](https://scikit-learn.org/stable/modules/generated/sklearn.decomposition.PCA.html). El cual ya se encuentra importado (se pueda acceder a el como `PCA(....)`)\n",
        "2. Tener en cuenta la respuesta de la siguiente pregunta abierta y completar el código de acuerdo a la respuesta usando la libreria y modulo de sklearn correspondiente (El cual tambien deberia ya estar importado en la configuración).\n",
        "3. Usar 5 particiones en la metodologia de validación\n",
        "3. Usar la exactitud como medida de error del modulo [metrics de sklearn](https://scikit-learn.org/stable/modules/classes.html#module-sklearn.metrics)\n",
        "4. Vamos a calcular el costo computacional de aplicar la PCA.\n",
        "5. Recordar que PCA se debe \"ajustar\" con el conjunto de entrenamiento. Pero la transformación se debe hacer para las particiones de entrenamiento y test."
      ]
    },
    {
      "cell_type": "code",
      "metadata": {
        "id": "iLcY7FhaJIRX",
        "cellView": "form"
      },
      "source": [
        "#@title Pregunta Abierta\n",
        "#@markdown ¿Cuando se aplica PCA ¿es necesario estandarizar los datos? Si, No y por qué? En qué consiste dicha estandarización?\n",
        "respuesta_1 = 'Si es necesario estandarizar los datos, ya que para utilizar el m\\xE9todo en su formalidad, se necesita que estos tengan media igual a cero (media=0) y desviaci\\xF3n est\\xE1ndar igual a uno (desviaci\\xF3n est\\xE1ndar=1); dicha estandarizaci\\xF3n consiste en extraer la media a los datos y dividendo sus variables por la desviaci\\xF3n est\\xE1ndar respectiva' #@param {type:\"string\"}"
      ],
      "execution_count": null,
      "outputs": []
    },
    {
      "cell_type": "code",
      "metadata": {
        "id": "05QPACRxJIRZ",
        "cellView": "form"
      },
      "source": [
        "#@title Pregunta Abierta\n",
        "#@markdown  La proyección de los datos que realiza PCA busca optimizar una medida, ¿Cuál? Explique.\n",
        "respuesta_2 = 'La medida que busca optimizar la proyecci\\xF3n de PCA es la varianza, o la distancia entre los puntos y su proyecci\\xF3n en la recta, ya que lo que se quiere es obtener la estructura de los datos en una dimensi\\xF3n mas peque\\xF1a, minimizando, u optimizando, su posici\\xF3n relativa, de su proyecci\\xF3n en dicha dimensi\\xF3n' #@param {type:\"string\"}"
      ],
      "execution_count": null,
      "outputs": []
    },
    {
      "cell_type": "code",
      "metadata": {
        "id": "x1wvMop-JIRb"
      },
      "source": [
        "#ejercicio de código\n",
        "from sklearn.decomposition import PCA\n",
        "def entrenamiento_pca_ext_caracteristicas(n_comp, X, Y):\n",
        "    \"\"\"\n",
        "    Esta función realiza la reducción de la dimensionalidad sobre el conjunto de\n",
        "    datos de entrenamiento, de acuerdo con las particiones especificadas usando PCA\n",
        "\n",
        "    Parámetros:\n",
        "    n_comp, int, Número de componentes para reducción\n",
        "    n_sets,int, Número de particiones\n",
        "    X: numpy Array de características\n",
        "    Y: numpy Array  Vector de etiquetas\n",
        "\n",
        "    Retorna: \n",
        "    ErrorValidacion: El valor medio de errores\n",
        "    IC_Validacion: Intervalo de confianza\n",
        "    T_ejec:  El  valor medio del tiempo de ejecución\n",
        "    \"\"\"  \n",
        "    #Implemetamos la metodología de validación \n",
        "    Errores = np.ones(5)\n",
        "    times = np.ones(5)\n",
        "    j = 0\n",
        "    kf = KFold(n_splits=5)\n",
        "    for train_index, test_index in kf.split(X):  \n",
        "        X_train, X_test = X[train_index], X[test_index]\n",
        "        y_train, y_test = Y[train_index], Y[test_index]\n",
        "        \n",
        "        # ¿es necesario estandarizacion de datos?\n",
        "        scaler = StandardScaler()\n",
        "        X_train = scaler.fit_transform(X_train)\n",
        "        X_test = scaler.transform(X_test)\n",
        " \n",
        "        #dejar el mismo nombre del objeto \n",
        "        pca = PCA(n_components=n_comp)\n",
        "        # para calcular costo computacional\n",
        "        tiempo_i = time.time()\n",
        "        # es recomendable usar el metodo que ajusta y transforma\n",
        "        X_train_pca = pca.fit_transform(X_train, y_train)\n",
        "        # aca solo usar el metodo de transformar (ya que en el anterior el pca se ajusto)\n",
        "        X_test_pca = pca.transform(X_test)\n",
        "        # entrenar el modelo usando las caractieristicas transformadas por PCA\n",
        "        clf = SVC(kernel=\"linear\", C=1)\n",
        "        clf.fit(X=X_train_pca, y=y_train)\n",
        "        tiempo_o = time.time()-tiempo_i\n",
        "        Errores[j] = accuracy_score(y_true=y_test, y_pred=clf.predict(X_test_pca))\n",
        "        times[j] = tiempo_o\n",
        "        j+=1\n",
        "\n",
        "\n",
        "    return np.mean(Errores), np.std(Errores), np.mean(times)\n"
      ],
      "execution_count": 8,
      "outputs": []
    },
    {
      "cell_type": "code",
      "metadata": {
        "id": "36QpfDMvJIRd",
        "colab": {
          "base_uri": "https://localhost:8080/"
        },
        "outputId": "b7d383f5-876f-49a6-8e48-ce0a7949bae0"
      },
      "source": [
        "## la funcion que prueba tu implementacion\n",
        "GRADER.run_test(\"ejercicio1\", entrenamiento_pca_ext_caracteristicas)"
      ],
      "execution_count": 9,
      "outputs": [
        {
          "output_type": "stream",
          "text": [
            "TEST EXITOSO!\n"
          ],
          "name": "stdout"
        }
      ]
    },
    {
      "cell_type": "markdown",
      "metadata": {
        "id": "9rTn5Da9JIRf"
      },
      "source": [
        "## Ejercicio 2 : Experimentar con PCA\n",
        "\n",
        "Usando las anteriores funciones vamos a realizar experimentos para evaluar la efectividad de PCA, para ello:\n",
        "\n",
        "1. Utilizar una metodología cross-validation con 5 particiones.\n",
        "2. Usar como parametros para los experimentos el número de características a extraer\n",
        "3. Usar la función `entrenamiento_pca_ext_caracteristicas` para realizar la extración de características.\n",
        "3. Vamos a retornar un DataFrame con las siguientes columnas:\n",
        "    - CON_SEL (indicando si se uso selección de caracteristicas)\n",
        "    - NUM_VAR (número de selección de caracteristicas)\n",
        "    - ERROR_VALIDACION\n",
        "    - IC_STD_VALIDACION\n",
        "    - T_EJECUCION: tiempo de ejecucción\n",
        "4. En la primera fila del dataframe vamos a incluir la evaluación del modelo SVM sin selección de características (usando la función creada en el primer ejercicio). "
      ]
    },
    {
      "cell_type": "code",
      "metadata": {
        "id": "eRaWJc4iJIRf"
      },
      "source": [
        "#ejercicio de código\n",
        "def experimentar_PCA(n_feats, X, Y):\n",
        "    \"\"\"\n",
        "    Esta función realiza la comparación del desempeño de RFE utilizando diferente \n",
        "    número de feats y particionando el conjunto de datos en diferente número de \n",
        "    subconjuntos\n",
        "\n",
        "    Parámetros:\n",
        "    X (numpy.array), El arreglo numpy de características\n",
        "    Y (numpy.array), El vector de etiquetas\n",
        "    n_feats, Vector de números enteros que indica el número de características\n",
        "              que debe utilizar el modelo\n",
        "    n_sets, Vector de números enteros que indica el número de particiones\n",
        "\n",
        "    Retorna:  \n",
        "    - DataFrame con las columnas: CON_SEL, NUM_VAR, ERROR_VALIDACION, IC_STD_VALIDACION, \n",
        "    y T_EJECUCION. \n",
        "\n",
        "    \"\"\"\n",
        "    df = pd.DataFrame()\n",
        "    idx = 0\n",
        "    split_number = 5\n",
        "    #Sin selección de características\n",
        "    error,ic_error,t_ex = entrenamiento_sin_seleccion_caracteristicas(split_number, X,Y)  \n",
        "    df.loc[idx,'CON_SEL'] = 'NO'\n",
        "    df.loc[idx,'NUM_VAR'] = X.shape[1] # se usan todas las caracteristicas\n",
        "    df.loc[idx,'ERROR_VALIDACION'] = error\n",
        "    df.loc[idx,'IC_STD_VALIDACION'] = ic_error\n",
        "    df.loc[idx,'T_EJECUCION'] = t_ex\n",
        "    idx+=1\n",
        "    print(\"termina experimento sin selección\")\n",
        "    #Con selección de características\n",
        "    \n",
        "    for f in n_feats:\n",
        "        #Implemetamos la metodología de validación \n",
        "        error, ic_error, t_ex = entrenamiento_pca_ext_caracteristicas(n_comp=f, X=X,Y=Y)\n",
        "        df.loc[idx,'CON_SEL'] = 'SI'\n",
        "        df.loc[idx,'NUM_VAR'] = X.shape[1]\n",
        "        df.loc[idx,'ERROR_VALIDACION'] = error\n",
        "        df.loc[idx, 'IC_STD_VALIDACION'] = ic_error\n",
        "        df.loc[idx, 'T_EJECUCION'] = t_ex\n",
        "        idx+=1\n",
        "    return df\n"
      ],
      "execution_count": 12,
      "outputs": []
    },
    {
      "cell_type": "code",
      "metadata": {
        "id": "thtddM-rJIRh",
        "colab": {
          "base_uri": "https://localhost:8080/"
        },
        "outputId": "f9cf7705-7acf-477f-efec-ca7eb3f7bd12"
      },
      "source": [
        "## la funcion que prueba tu implementacion\n",
        "GRADER.run_test(\"ejercicio2\", experimentar_PCA)"
      ],
      "execution_count": 13,
      "outputs": [
        {
          "output_type": "stream",
          "text": [
            "termina experimento sin selección\n",
            "TEST EXITOSO!\n"
          ],
          "name": "stdout"
        }
      ]
    },
    {
      "cell_type": "code",
      "metadata": {
        "id": "TLvSDqJOJIRj",
        "colab": {
          "base_uri": "https://localhost:8080/",
          "height": 246
        },
        "outputId": "8a4563ba-be0b-457b-f7ae-e1469ad5aa99"
      },
      "source": [
        "experimentar_PCA(n_feats=[2,5,10,15,20], X= x, Y = y)"
      ],
      "execution_count": 14,
      "outputs": [
        {
          "output_type": "stream",
          "text": [
            "termina experimento sin selección\n"
          ],
          "name": "stdout"
        },
        {
          "output_type": "execute_result",
          "data": {
            "text/html": [
              "<div>\n",
              "<style scoped>\n",
              "    .dataframe tbody tr th:only-of-type {\n",
              "        vertical-align: middle;\n",
              "    }\n",
              "\n",
              "    .dataframe tbody tr th {\n",
              "        vertical-align: top;\n",
              "    }\n",
              "\n",
              "    .dataframe thead th {\n",
              "        text-align: right;\n",
              "    }\n",
              "</style>\n",
              "<table border=\"1\" class=\"dataframe\">\n",
              "  <thead>\n",
              "    <tr style=\"text-align: right;\">\n",
              "      <th></th>\n",
              "      <th>CON_SEL</th>\n",
              "      <th>NUM_VAR</th>\n",
              "      <th>ERROR_VALIDACION</th>\n",
              "      <th>IC_STD_VALIDACION</th>\n",
              "      <th>T_EJECUCION</th>\n",
              "    </tr>\n",
              "  </thead>\n",
              "  <tbody>\n",
              "    <tr>\n",
              "      <th>0</th>\n",
              "      <td>NO</td>\n",
              "      <td>22.0</td>\n",
              "      <td>0.932288</td>\n",
              "      <td>0.042333</td>\n",
              "      <td>0.029769</td>\n",
              "    </tr>\n",
              "    <tr>\n",
              "      <th>1</th>\n",
              "      <td>SI</td>\n",
              "      <td>22.0</td>\n",
              "      <td>0.775725</td>\n",
              "      <td>0.143470</td>\n",
              "      <td>0.067112</td>\n",
              "    </tr>\n",
              "    <tr>\n",
              "      <th>2</th>\n",
              "      <td>SI</td>\n",
              "      <td>22.0</td>\n",
              "      <td>0.913485</td>\n",
              "      <td>0.055399</td>\n",
              "      <td>0.047418</td>\n",
              "    </tr>\n",
              "    <tr>\n",
              "      <th>3</th>\n",
              "      <td>SI</td>\n",
              "      <td>22.0</td>\n",
              "      <td>0.925707</td>\n",
              "      <td>0.050504</td>\n",
              "      <td>0.051187</td>\n",
              "    </tr>\n",
              "    <tr>\n",
              "      <th>4</th>\n",
              "      <td>SI</td>\n",
              "      <td>22.0</td>\n",
              "      <td>0.926174</td>\n",
              "      <td>0.039771</td>\n",
              "      <td>0.049234</td>\n",
              "    </tr>\n",
              "    <tr>\n",
              "      <th>5</th>\n",
              "      <td>SI</td>\n",
              "      <td>22.0</td>\n",
              "      <td>0.930877</td>\n",
              "      <td>0.041066</td>\n",
              "      <td>0.044849</td>\n",
              "    </tr>\n",
              "  </tbody>\n",
              "</table>\n",
              "</div>"
            ],
            "text/plain": [
              "  CON_SEL  NUM_VAR  ERROR_VALIDACION  IC_STD_VALIDACION  T_EJECUCION\n",
              "0      NO     22.0          0.932288           0.042333     0.029769\n",
              "1      SI     22.0          0.775725           0.143470     0.067112\n",
              "2      SI     22.0          0.913485           0.055399     0.047418\n",
              "3      SI     22.0          0.925707           0.050504     0.051187\n",
              "4      SI     22.0          0.926174           0.039771     0.049234\n",
              "5      SI     22.0          0.930877           0.041066     0.044849"
            ]
          },
          "metadata": {
            "tags": []
          },
          "execution_count": 14
        }
      ]
    },
    {
      "cell_type": "code",
      "metadata": {
        "id": "JS4eRT-2JIRl",
        "cellView": "form"
      },
      "source": [
        "#@title Pregunta Abierta\n",
        "#@markdown Analizando los resultados ¿Qué podemos decir de la viabilidad de aplicar PCA para hacer reducción de dimensión en este problema?\n",
        "respuesta_3 = 'Lo que podemos decir de la viabilidad de aplicar PCA para hacer reducci\\xF3n de dimensiones al problema, es que es mas r\\xE1pido no aplicarlo (a criterio propio) ya que el tiempo de ejecuci\\xF3n es menor, pero si se nota un grado mayor de error, pero no siempre lo mas r\\xE1pido es lo mejor. Consideramos tambi\\xE9n que entre 10 y 15 variables se encuentra un equilibrio entre tiempo de ejecuci\\xF3n, intervalo de confianza y error, pero en este caso, no son diferencias muy representativas' #@param {type:\"string\"}"
      ],
      "execution_count": null,
      "outputs": []
    },
    {
      "cell_type": "code",
      "metadata": {
        "id": "c0Z6DxaKJIRn",
        "colab": {
          "base_uri": "https://localhost:8080/",
          "height": 295
        },
        "outputId": "285a591b-1249-4add-bd2f-4a0cdfef56f8"
      },
      "source": [
        "# aca realizamos una curva de varianza explicada del PCA\n",
        "pca_varianza = PCA(n_components=x.shape[1]).fit(StandardScaler().fit_transform(x))\n",
        "plt.plot(np.cumsum(pca_varianza.explained_variance_/np.sum(pca_varianza.explained_variance_)))\n",
        "plt.title('Varianza acumulada')\n",
        "plt.xlabel('Componentes principales')\n",
        "plt.ylabel('Porcentaje de varianza acumulada')\n",
        "plt.grid()"
      ],
      "execution_count": 15,
      "outputs": [
        {
          "output_type": "display_data",
          "data": {
            "image/png": "[encoded data removed]",
            "text/plain": [
              "<Figure size 432x288 with 1 Axes>"
            ]
          },
          "metadata": {
            "tags": [],
            "needs_background": "light"
          }
        }
      ]
    },
    {
      "cell_type": "code",
      "metadata": {
        "id": "PdS0w7oVJIRp",
        "cellView": "form"
      },
      "source": [
        "#@title Pregunta Abierta\n",
        "#@markdown  ¿Como se relaciona el mejor número de componentes encontrado en los experimentos con la curva de varianza explicada? Explicar con base a los resultados, la grafica y la teoria\n",
        "respuesta_4 = 'El mejor numero de componentes encontrados en los experimentos se relaciona con la curva de varianza en el sentido en que en el intervalo [10,15) (o hasta 20) podemos apreciar un porcentaje mejor de variabilidad, \\xF3sea del 90% para arriba' #@param {type:\"string\"}"
      ],
      "execution_count": null,
      "outputs": []
    },
    {
      "cell_type": "markdown",
      "metadata": {
        "id": "VDxxSglvJIRq"
      },
      "source": [
        "## Ejercicio 3: Entrenamiento usando Discriminante de Fisher para extracción"
      ]
    },
    {
      "cell_type": "markdown",
      "metadata": {
        "id": "7S1F0IcQJIRr"
      },
      "source": [
        "En este ejercicio vamos a aplicar PCA para realizar la extracción de caracteristicas. Para ello tener en cuenta:\n",
        "\n",
        "1. Vamos a usar el modulo [LinearDiscriminantAnalysis-LDA de sklearn](https://scikit-learn.org/stable/modules/generated/sklearn.discriminant_analysis.LinearDiscriminantAnalysis.html). El cual ya se encuentra importado (se pueda acceder a el como `LinearDiscriminantAnalysis(....)`)\n",
        "2. ¿También se estandarizar los datos?\n",
        "3. Usar 5 particiones en la metodologia de validación\n",
        "3. Usar la exactitud/accuracy como medida de error del modulo [metrics de sklearn](https://scikit-learn.org/stable/modules/classes.html#module-sklearn.metrics)\n",
        "4. Vamos a calcular el costo computacional de aplicar la LDA.\n",
        "5. Recordar que LDA se debe \"ajustar\" con el conjunto de entrenamiento. Pero la transformación se debe hacer para las particiones de entrenamiento y test."
      ]
    },
    {
      "cell_type": "code",
      "metadata": {
        "id": "1dRKumnhJIRr",
        "cellView": "form"
      },
      "source": [
        "#@title Pregunta Abierta\n",
        "#@markdown Explicar en sus palabras la principal ventaja que tiene LDA sobre PCA para resolver problemas de clasificación.\n",
        "respuesta_5 = 'Explicado en nuestras propias palabras, la ventaja que tiene LDA sobre PCA es que el primero pretende maximizar el hecho de la separaci\\xF3n entre las clases, buscando un subespacio de caracter\\xEDsticas, con distribuciones iguales y covarianzas iguales, mientras que el segundo pretende buscar las caracter\\xEDsticas con mayor variaci\\xF3n; muy probablemente el primero requiera mas procesamiento computacional' #@param {type:\"string\"}"
      ],
      "execution_count": null,
      "outputs": []
    },
    {
      "cell_type": "code",
      "metadata": {
        "id": "1ipoDhdMJIRt"
      },
      "source": [
        "#ejercicio de código\n",
        "def entrenamiento_lda_ext_caracteristicas(n_comp, X, Y):\n",
        "    \"\"\"\n",
        "    Esta función realiza la reducción de la dimensionalidad sobre el conjunto de\n",
        "    datos de entrenamiento, de acuerdo con las particiones especificadas usando PCA\n",
        "\n",
        "    Parámetros:\n",
        "    n_comp, int, Número de componentes para reducción\n",
        "    n_sets,int, Número de particiones\n",
        "    X: numpy Array de características\n",
        "    Y: numpy Array  Vector de etiquetas\n",
        "\n",
        "    Retorna: \n",
        "    ErrorValidacion: El valor medio de errores\n",
        "    IC_Validacion: Intervalo de confianza\n",
        "    T_ejec:  El  valor medio del tiempo de ejecución\n",
        "    \"\"\"\n",
        "   \n",
        "\n",
        "    #Implemetamos la metodología de validación \n",
        "    Errores = np.ones(5)\n",
        "    times = np.ones(5)\n",
        "    j = 0\n",
        "    kf = KFold(n_splits=5)\n",
        "    for train_index, test_index in kf.split(X):  \n",
        "        X_train, X_test = X[train_index], X[test_index]\n",
        "        y_train, y_test = Y[train_index], Y[test_index]\n",
        "        \n",
        "        # ¿es necesario estandarizacion de datos?\n",
        "        ...\n",
        "        scaler = StandardScaler()\n",
        "        X_train = scaler.fit_transform(X_train)\n",
        "        X_test = scaler.transform(X_test)\n",
        "        # dejar el nombre del objeto igual (lda)\n",
        "        lda = LinearDiscriminantAnalysis(n_components=n_comp)\n",
        "        # para calcular costo computacional\n",
        "        tiempo_i = time.time()\n",
        "        # es recomendable usar el metodo que ajusta y transforma\n",
        "        X_train_lda = lda.fit_transform(X_train, y_train)\n",
        "        # aca solo usar el metodo de transformar (ya que en el anterior el pca se ajusto)\n",
        "        X_test_lda = lda.transform(X_test)\n",
        "        # entrenar el modelo usando las caractieristicas transformadas por PCA\n",
        "        clf = SVC(kernel=\"linear\", C=1)\n",
        "        clf.fit(X=X_train_lda, y=y_train)\n",
        "        tiempo_o = time.time()-tiempo_i\n",
        "        Errores[j] = accuracy_score(y_true=y_test, y_pred=clf.predict(X_test_lda))\n",
        "        times[j] = tiempo_o\n",
        "        j+=1\n",
        "\n",
        "\n",
        "    return np.mean(Errores), np.std(Errores), np.mean(times)\n"
      ],
      "execution_count": 20,
      "outputs": []
    },
    {
      "cell_type": "code",
      "metadata": {
        "id": "fNuf79OMJIRu",
        "colab": {
          "base_uri": "https://localhost:8080/"
        },
        "outputId": "5ef84710-4ee8-4e82-a555-428964749117"
      },
      "source": [
        "## la funcion que prueba tu implementacion\n",
        "GRADER.run_test(\"ejercicio3\", entrenamiento_lda_ext_caracteristicas)"
      ],
      "execution_count": 21,
      "outputs": [
        {
          "output_type": "stream",
          "text": [
            "TEST EXITOSO!\n"
          ],
          "name": "stdout"
        }
      ]
    },
    {
      "cell_type": "markdown",
      "metadata": {
        "id": "8STHu-r_JIRw"
      },
      "source": [
        "## Ejercicio 4 : Experimentar con Discriminante de Fisher"
      ]
    },
    {
      "cell_type": "markdown",
      "metadata": {
        "id": "nod6zovaJIRx"
      },
      "source": [
        "Usando las anteriores funciones vamos a realizar experimentos para evaluar la efectividad de PCA, para ello:\n",
        "\n",
        "1. Utilizar una metodología cross-validation con 5 particiones.\n",
        "2. Usar como parametros para los experimentos el número de características a extraer\n",
        "3. Usar la función `entrenamiento_pca_ext_caracteristicas` para realizar la extración de características.\n",
        "3. Vamos a retornar un DataFrame con las siguientes columnas:\n",
        "    - CON_SEL (indicando si se uso selección de caracteristicas)\n",
        "    - NUM_VAR (número de selección de caracteristicas)\n",
        "    - ERROR_VALIDACION\n",
        "    - IC_STD_VALIDACION\n",
        "    - T_EJECUCION: tiempo de ejecucción\n",
        "4. En la primera fila del dataframe vamos a incluir la evaluación del modelo SVM sin selección de características (usando la función creada en el primer ejercicio). "
      ]
    },
    {
      "cell_type": "code",
      "metadata": {
        "id": "sCMj0XsuJIRx"
      },
      "source": [
        "#ejercicio de código\n",
        "def experimentar_LDA(n_feats, X, Y):\n",
        "    \"\"\"\n",
        "    Esta función realiza la comparación del desempeño de RFE utilizando diferente \n",
        "    número de feats y particionando el conjunto de datos en diferente número de \n",
        "    subconjuntos\n",
        "\n",
        "    Parámetros:\n",
        "    X (numpy.array), El arreglo numpy de características\n",
        "    Y (numpy.array), El vector de etiquetas\n",
        "    n_feats, Vector de números enteros que indica el número de características\n",
        "              que debe utilizar el modelo\n",
        "    n_sets, Vector de números enteros que indica el número de particiones\n",
        "\n",
        "    Retorna:  \n",
        "    - DataFrame con las columnas: DESCRIPCION, ERROR_VALIDACION, IC_STD_VALIDACION, \n",
        "    y T_EJECUCION. \n",
        "\n",
        "    \"\"\"\n",
        "    \"\"\"\n",
        "    Esta función realiza la comparación del desempeño de RFE utilizando diferente \n",
        "    número de feats y particionando el conjunto de datos en diferente número de \n",
        "    subconjuntos\n",
        "\n",
        "    Parámetros:\n",
        "    X (numpy.array), El arreglo numpy de características\n",
        "    Y (numpy.array), El vector de etiquetas\n",
        "    n_feats, Vector de números enteros que indica el número de características\n",
        "              que debe utilizar el modelo\n",
        "    n_sets, Vector de números enteros que indica el número de particiones\n",
        "\n",
        "    Retorna:  \n",
        "    - DataFrame con las columnas: DESCRIPCION, ERROR_VALIDACION, IC_STD_VALIDACION, \n",
        "    y T_EJECUCION. \n",
        "\n",
        "    \"\"\"\n",
        "    df = pd.DataFrame()\n",
        "    idx = 0\n",
        "    split_number = 5\n",
        "    #Sin selección de características\n",
        "    error,ic_error,t_ex = entrenamiento_sin_seleccion_caracteristicas(split_number, X,Y)  \n",
        "    df.loc[idx,'CON_SEL'] = 'NO'\n",
        "    df.loc[idx,'NUM_VAR'] = X.shape[1] # se usan todas las caracteristicas\n",
        "    df.loc[idx,'ERROR_VALIDACION'] = error\n",
        "    df.loc[idx,'IC_STD_VALIDACION'] = ic_error\n",
        "    df.loc[idx,'T_EJECUCION'] = t_ex\n",
        "    idx+=1\n",
        "    print(\"termina experimento sin selección\")\n",
        "    #Con selección de características\n",
        "    \n",
        "    for f in n_feats:\n",
        "        #Implemetamos la metodología de validación \n",
        "        error, ic_error, t_ex = entrenamiento_lda_ext_caracteristicas(n_comp=f, X=x,Y=y)\n",
        "        df.loc[idx,'CON_SEL'] = 'SI'\n",
        "        df.loc[idx,'NUM_VAR'] = X.shape[1]\n",
        "        df.loc[idx,'ERROR_VALIDACION'] = error\n",
        "        df.loc[idx, 'IC_STD_VALIDACION'] = ic_error\n",
        "        df.loc[idx, 'T_EJECUCION'] = t_ex\n",
        "        idx+=1\n",
        "    return df\n"
      ],
      "execution_count": 24,
      "outputs": []
    },
    {
      "cell_type": "code",
      "metadata": {
        "id": "c_NDaL_bJIRz",
        "colab": {
          "base_uri": "https://localhost:8080/"
        },
        "outputId": "b3e8b215-c393-4bac-de7d-2d2f895c7a89"
      },
      "source": [
        "## la funcion que prueba tu implementacion\n",
        "GRADER.run_test(\"ejercicio4\", experimentar_LDA)"
      ],
      "execution_count": 25,
      "outputs": [
        {
          "output_type": "stream",
          "text": [
            "termina experimento sin selección\n",
            "TEST EXITOSO!\n"
          ],
          "name": "stdout"
        }
      ]
    },
    {
      "cell_type": "code",
      "metadata": {
        "id": "GiwzXtoRJIR0"
      },
      "source": [
        "experimentar_LDA(n_feats=[1,2], X= x, Y = y)"
      ],
      "execution_count": null,
      "outputs": []
    },
    {
      "cell_type": "code",
      "metadata": {
        "id": "tiB0mt5RJIR2",
        "cellView": "form"
      },
      "source": [
        "#@title Pregunta Abierta\n",
        "#@markdown  ¿que diferencias existen entre los métodos de selección de características y los métodos de extracción de características vistos en la anterior sesión? Explicar\n",
        "respuesta_6 = 'Las diferencias b\\xE1sicas que existen entre los m\\xE9todos de selecci\\xF3n de caracter\\xEDsticas y los m\\xE9todos de extracci\\xF3n de caracter\\xEDsticas vistos en la anterior sesi\\xF3n, es que las primeras eligen subconjuntos de datos y las segundas crean un conjunto diferente.' #@param {type:\"string\"}"
      ],
      "execution_count": null,
      "outputs": []
    },
    {
      "cell_type": "code",
      "metadata": {
        "id": "VW2SvsCZJIR4",
        "colab": {
          "base_uri": "https://localhost:8080/"
        },
        "outputId": "0a14fe1b-e1ef-44e9-8b28-6daf762d9046"
      },
      "source": [
        "GRADER.check_tests()"
      ],
      "execution_count": 26,
      "outputs": [
        {
          "output_type": "stream",
          "text": [
            "Todo se ve ok. Asegurate de responder las preguntas abiertas y envia e archivo al formulario ¡buen trabajo!\n"
          ],
          "name": "stdout"
        }
      ]
    },
    {
      "cell_type": "code",
      "metadata": {
        "id": "6JfeCdZ-JIR7",
        "cellView": "form"
      },
      "source": [
        "#@title Integrantes\n",
        "codigo_integrante_1 ='1037652924' #@param {type:\"string\"}\n",
        "codigo_integrante_2 = '1061805868'  #@param {type:\"string\"}"
      ],
      "execution_count": null,
      "outputs": []
    },
    {
      "cell_type": "markdown",
      "metadata": {
        "id": "ZtS-UzZuJIR8"
      },
      "source": [
        "----\n",
        "esta linea de codigo va fallar, es de uso exclusivo de los profesores\n"
      ]
    },
    {
      "cell_type": "code",
      "metadata": {
        "id": "Hrx-mf2wJIR8"
      },
      "source": [
        "GRADER.grade()"
      ],
      "execution_count": null,
      "outputs": []
    }
  ]
}