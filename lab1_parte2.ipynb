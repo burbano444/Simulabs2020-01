{
  "nbformat": 4,
  "nbformat_minor": 0,
  "metadata": {
    "kernelspec": {
      "display_name": "Python 3.6.9 64-bit",
      "language": "python",
      "name": "python36964bite6e4b44aef15498b8e6b096ea0e41af2"
    },
    "language_info": {
      "codemirror_mode": {
        "name": "ipython",
        "version": 3
      },
      "file_extension": ".py",
      "mimetype": "text/x-python",
      "name": "python",
      "nbconvert_exporter": "python",
      "pygments_lexer": "ipython3",
      "version": "3.6.9-final"
    },
    "colab": {
      "name": "lab1_parte2 (1).ipynb",
      "provenance": []
    }
  },
  "cells": [
    {
      "cell_type": "markdown",
      "metadata": {
        "id": "DyhyA0EkYySm"
      },
      "source": [
        "<a href=\"https://colab.research.google.com/github/jdariasl/ML_2020/blob/master/Labs/lab1/lab1_parte2.ipynb\" target=\"_parent\"><img src=\"https://colab.research.google.com/assets/colab-badge.svg\" alt=\"Open In Colab\"/></a>\n",
        "\n",
        "**Recuerda que una vez abierto, Da clic en \"Copiar en Drive\", de lo contrario no podras alamancenar tu progreso**\n",
        "\n",
        "Nota: no olvide ir ejecutando las celdas de código de arriba hacia abajo para que no tenga errores de importación de librerías o por falta de definición de variables.\n"
      ]
    },
    {
      "cell_type": "code",
      "metadata": {
        "tags": [],
        "id": "fYhyYxyrYySm",
        "colab": {
          "base_uri": "https://localhost:8080/",
          "height": 323
        },
        "outputId": "f723e511-c39c-4a15-f96b-b77574bc21c4"
      },
      "source": [
        "#configuración del laboratorio\n",
        "# Ejecuta esta celda!\n",
        "%load_ext autoreload\n",
        "%autoreload 2\n",
        "!wget https://raw.githubusercontent.com/jdariasl/ML_2020/master/Labs/commons/utils/general.py -O general.py\n",
        "from general import configure_lab1_p2\n",
        "configure_lab1_p2()\n",
        "from lab1 import *\n",
        "GRADER, x, y = part_2()"
      ],
      "execution_count": null,
      "outputs": [
        {
          "output_type": "stream",
          "text": [
            "The autoreload extension is already loaded. To reload it, use:\n",
            "  %reload_ext autoreload\n",
            "--2020-09-18 12:05:12--  https://raw.githubusercontent.com/jdariasl/ML_2020/master/Labs/commons/utils/general.py\n",
            "Resolving raw.githubusercontent.com (raw.githubusercontent.com)... 151.101.0.133, 151.101.64.133, 151.101.128.133, ...\n",
            "Connecting to raw.githubusercontent.com (raw.githubusercontent.com)|151.101.0.133|:443... connected.\n",
            "HTTP request sent, awaiting response... 200 OK\n",
            "Length: 11474 (11K) [text/plain]\n",
            "Saving to: ‘general.py’\n",
            "\n",
            "\rgeneral.py            0%[                    ]       0  --.-KB/s               \rgeneral.py          100%[===================>]  11.21K  --.-KB/s    in 0s      \n",
            "\n",
            "2020-09-18 12:05:12 (88.6 MB/s) - ‘general.py’ saved [11474/11474]\n",
            "\n",
            "lab configuration started\n",
            "installing libraries\n",
            "downloading files\n",
            "lab configured\n",
            "cargando librerias y variables al ambiente\n"
          ],
          "name": "stdout"
        }
      ]
    },
    {
      "cell_type": "markdown",
      "metadata": {
        "id": "X0kgAjuBYySp"
      },
      "source": [
        "## Laboratorio 1 - Parte 2\n",
        "\n",
        "**Regresión logística**\n",
        "\n"
      ]
    },
    {
      "cell_type": "markdown",
      "metadata": {
        "id": "e0gwFeCnYySq"
      },
      "source": [
        "## Ejercicio 1: Contextualización del problema\n",
        "\n",
        "En esta sesión de laboratorio, vamos a resolver un problema de clasificación. Los variables que vamos a usar ya se encuentran cargadas:\n",
        "\n"
      ]
    },
    {
      "cell_type": "code",
      "metadata": {
        "tags": [],
        "id": "A-jBTrc4YySq",
        "colab": {
          "base_uri": "https://localhost:8080/",
          "height": 408
        },
        "outputId": "5b568262-8928-4253-b7d5-01892f6504d1"
      },
      "source": [
        "# tienes ya cargadas las siguientes variables:\n",
        "print(\"conjunto de datos, muestra \\n\",x[range(10), :] )\n",
        "print(\"\")\n",
        "print(\" muestra de etiquetas a predecir \\n\", y[range(10)])"
      ],
      "execution_count": null,
      "outputs": [
        {
          "output_type": "stream",
          "text": [
            "conjunto de datos, muestra \n",
            " [[ 3.92606402 -6.83699086]\n",
            " [ 7.43382787 -3.7485991 ]\n",
            " [ 6.20553473  4.77182668]\n",
            " [ 6.77983287 -3.07765299]\n",
            " [-5.92614125 -4.87588843]\n",
            " [ 7.49283136  3.9516693 ]\n",
            " [-1.65572633  6.86081477]\n",
            " [-8.14881988 -1.85421149]\n",
            " [ 8.12616581 -1.66701921]\n",
            " [ 9.73411311 -1.63724335]]\n",
            "\n",
            " muestra de etiquetas a predecir \n",
            " [[1]\n",
            " [1]\n",
            " [1]\n",
            " [1]\n",
            " [1]\n",
            " [1]\n",
            " [1]\n",
            " [1]\n",
            " [1]\n",
            " [1]]\n"
          ],
          "name": "stdout"
        }
      ]
    },
    {
      "cell_type": "code",
      "metadata": {
        "id": "5lvqd4i0YySs"
      },
      "source": [
        "#Ejercicio de Codigo\n",
        "def clases_muestras_carac(X, Y):\n",
        "    \"\"\"Esta funcion es encargada retornar el numero clases, muestras \n",
        "        y caracteristicas del conjunto de datos X y Y\n",
        "\n",
        "        X: matriz numpy con el conjunto de datos para entrenamiento\n",
        "        Y: matriz numpy con el conjunto de etiquetas\n",
        "        retorna:\n",
        "            numero de clases (int/float)\n",
        "            numero de muestras (int/float)\n",
        "            numero de caracteristicas (int/float)\n",
        "    \"\"\"\n",
        "    ##Pista: es de utilidad el metodo np.unique ?\n",
        "    N,nf = X.shape\n",
        "    clases = len(np.unique(Y))\n",
        "    \n",
        "    return (N,nf,clases)\n"
      ],
      "execution_count": null,
      "outputs": []
    },
    {
      "cell_type": "code",
      "metadata": {
        "tags": [],
        "id": "jBS6kWmkYySu",
        "colab": {
          "base_uri": "https://localhost:8080/",
          "height": 34
        },
        "outputId": "8421987f-cd92-43fb-b45a-8cb5700f0b4e"
      },
      "source": [
        "## la funcion que prueba tu implementacion\n",
        "GRADER.run_test(\"ejercicio1\", clases_muestras_carac)"
      ],
      "execution_count": null,
      "outputs": [
        {
          "output_type": "stream",
          "text": [
            "TEST EXITOSO!\n"
          ],
          "name": "stdout"
        }
      ]
    },
    {
      "cell_type": "markdown",
      "metadata": {
        "id": "I8zabv6IYySw"
      },
      "source": [
        "En los problemas de clasificación, que lo permiten, es de utilidad visualizar los datos. De esta manera uno puede determinar que modelos o algortimos pueden tener mejor rendimiento. En la siguiente función, debera, graficar los datos usando la función [scatter](https://matplotlib.org/gallery/shapes_and_collections/scatter.html) de matplotlib."
      ]
    },
    {
      "cell_type": "code",
      "metadata": {
        "id": "xjiRibSVYySw"
      },
      "source": [
        "#Ejercicio de Codigo\n",
        "def scatter_plot(X, Y):\n",
        "    \"\"\"Esta funcion es encargada de graficar usando un scatter plot\n",
        "       un problema de clasificacion.\n",
        "\n",
        "        X: matriz numpy con el conjunto de datos para entrenamiento.\n",
        "           esta debera ser usada para los ejes del grafico. puede asumir\n",
        "           que solo va tener dos columnas\n",
        "        Y: matriz numpy con el conjunto de etiquetas. Debera se usada\n",
        "           para mostrar en diferentes colores, las etiquetas de cada una\n",
        "           de las muestras\n",
        "        retorna:\n",
        "            grafica matplotlib\n",
        "    \"\"\"\n",
        "    ## puedes accerder con plt al funcion adecuacada\n",
        "    ## Pista: recuerda como indexar matrices\n",
        "    ## Pista: recuerda el uso de np.ravel\n",
        "    ##plt.scatter(X[:,0], X[:,1], c=Y,cmap='Accent')\n",
        "\n",
        "    plt.scatter(X[:,0], X[:,1], marker='+',c = np.ravel(Y), cmap='Accent')\n",
        "    # para mostrar el grafico\n",
        "    figure = plt.gcf()\n",
        "    plt.show()\n",
        "   \n",
        "    return (figure)"
      ],
      "execution_count": null,
      "outputs": []
    },
    {
      "cell_type": "code",
      "metadata": {
        "tags": [],
        "id": "5fdDHIH0YyS0",
        "colab": {
          "base_uri": "https://localhost:8080/",
          "height": 282
        },
        "outputId": "4b15f8c6-82dc-4966-fc85-aab2966fdcd1"
      },
      "source": [
        "## la funcion que prueba tu implementacion\n",
        "# ignora los graficos que se muestran \n",
        "GRADER.run_test(\"ejercicio2\", scatter_plot)"
      ],
      "execution_count": null,
      "outputs": [
        {
          "output_type": "display_data",
          "data": {
            "image/png": "[encoded data removed]",
            "text/plain": [
              "<Figure size 432x288 with 1 Axes>"
            ]
          },
          "metadata": {
            "tags": [],
            "needs_background": "light"
          }
        },
        {
          "output_type": "stream",
          "text": [
            "TEST EXITOSO!\n"
          ],
          "name": "stdout"
        }
      ]
    },
    {
      "cell_type": "code",
      "metadata": {
        "id": "sq2e7UwwYyS2",
        "cellView": "form"
      },
      "source": [
        "#@title Pregunta Abierta\n",
        "#@markdown  ¿El problema es linealmente separable? justifique su respuesta \n",
        "respuesta_1 = \"No, ya que no un modelo es separable cuando es posible dejar todas las muestras de una clase a un lado de una recta, y las muestras de la otra clase al otro, pero en este caso, solo tenemos una clase, por lo que se vuelve innecesario dividirlo.\" #@param {type:\"string\"}"
      ],
      "execution_count": null,
      "outputs": []
    },
    {
      "cell_type": "markdown",
      "metadata": {
        "id": "UYCpYnI0YyS4"
      },
      "source": [
        "## Ejercicio 2: entrenamiento\n",
        "\n",
        "En este laboratorio se va a realizar un procedimiento análogo al laboratorio anterior, pero con el modelo de *regresión logística* que sirve para resolver problemas de clasificación (en principio biclase).\n",
        "\n",
        "Analice los siguientes métodos a la luz de la teoría vista para el modelo de regresión logística: \n",
        "\n",
        "1. función de activación (<font color='blue'>sigmoidal</font>),\n",
        "2.  modelo de regresión logística (<font color='blue'>logistic_regression</font>), \n",
        "3. potencia del polinomio \n",
        "4.  el cálculo del error en clasificación (<font color='blue'>error_logistic</font>)\n",
        "5. el gradiente descendente. \n",
        "\n",
        "Luego de recordar estos conceptos. Complete la función sigmoidal:"
      ]
    },
    {
      "cell_type": "code",
      "metadata": {
        "id": "WAQAglStYyS4"
      },
      "source": [
        "#Ejercicio de Código\n",
        "def sigmoidal(z):\n",
        "    \"\"\"Función de activación Sigmoidal\n",
        "\n",
        "    z: es la varible a la que se le va aplicar el sigmoide.\n",
        "       es un array numpy de uan sola dimension\n",
        "    retorna: el valor del sigmiode\n",
        "\n",
        "    \"\"\"\n",
        "    #Complete la siguiente línea con el código para calcular la salida de la función sigmoidal\n",
        "    s = np.exp(z)/(1 + np.exp(z))\n",
        "    \n",
        "    return s"
      ],
      "execution_count": null,
      "outputs": []
    },
    {
      "cell_type": "code",
      "metadata": {
        "tags": [],
        "id": "hiui_rfgYyS6",
        "colab": {
          "base_uri": "https://localhost:8080/",
          "height": 34
        },
        "outputId": "3808801d-a373-41a8-901e-c2496974713e"
      },
      "source": [
        "## la funcion que prueba tu implementacion\n",
        "GRADER.run_test(\"ejercicio3\", sigmoidal)"
      ],
      "execution_count": null,
      "outputs": [
        {
          "output_type": "stream",
          "text": [
            "TEST EXITOSO!\n"
          ],
          "name": "stdout"
        }
      ]
    },
    {
      "cell_type": "markdown",
      "metadata": {
        "id": "6t8dJoLfYyS7"
      },
      "source": [
        "El la siguiente celda se sugiere la implementación, de los siguientes conceptos:\n",
        "\n",
        "1. modelo de regresión logística (<font color='blue'>logistic_regression</font>), \n",
        "2. potencia del polinomio \n",
        "3.  el cálculo del error en clasificación (<font color='blue'>error_logistic</font>)\n",
        "\n",
        "comprenda que hacen estas funciones y ejecute la celda para cargar las funciones, para porder usarlas"
      ]
    },
    {
      "cell_type": "code",
      "metadata": {
        "id": "u-yCVeVQYyS8"
      },
      "source": [
        "def logistic_regression(X, W):\n",
        "    \"\"\"calcula la regresión logistica\n",
        "    X: los valores que corresponden a las caractersiticas\n",
        "    W: son los pesos usadados para realizar la regresión\n",
        "    retorna: valor estimado por la regresion\n",
        "    \"\"\"\n",
        "    #Con np.dot se realiza el producto matricial. Aquí X (extendida) tiene dim [Nxd] y W es dim [dx1]\n",
        "    Yest = np.dot(X,W)\n",
        "    Y_lest = sigmoidal(Yest)\n",
        "    #Se asignan los valores a 1 o 0 según el modelo de regresión logística definido\n",
        "    pos = 0\n",
        "    for tag in Y_lest:\n",
        "        \n",
        "        if tag > 0.5:\n",
        "            Y_lest[pos] = 1\n",
        "        elif tag < 0.5:\n",
        "            Y_lest[pos] = 0\n",
        "        \n",
        "        pos += 1\n",
        "    \n",
        "    return Y_lest    #Y estimado: Esta variable contiene ya tiene la salida de sigm(f(X,W))\n",
        "\n",
        "def potenciaPolinomio(X,grado):\n",
        "    \"\"\"calcula la potencia del polinomio\n",
        "    X: los valores que corresponden a las caractersiticas\n",
        "    grado: esl grado para realizar la potencia al polinomio\n",
        "    retorna: el valor de X despues elevarlo al grado del polinimoo indicado\n",
        "    \"\"\"\n",
        "    X2 = X.copy()\n",
        "    \n",
        "    if grado != 1:\n",
        "        for i in range(2,grado+1):\n",
        "            Xadd = X**i\n",
        "            X2 = np.concatenate((X2, Xadd), axis=1)\n",
        "    \n",
        "    return X2\n",
        "\n",
        "def error_logistic(Y_lest, Y):\n",
        "    \"\"\"calculo del error logistico\n",
        "       Si es diferente el Y_estimado con el Y_real cuenta como un error\n",
        "       Y_lest: numpy array con los valores de etiquetas estimadas\n",
        "       Y:  numpy array  valor con los valores reales de las etiquetas\n",
        "       retorna: error de clasificación -- numpy array\n",
        "    \"\"\"\n",
        "    error = 0\n",
        "    for ye, y in zip(Y_lest, Y):\n",
        "        if ye != y:\n",
        "            error += 1\n",
        "    \n",
        "    error = error/np.size(Y)\n",
        "\n",
        "    return error"
      ],
      "execution_count": null,
      "outputs": []
    },
    {
      "cell_type": "markdown",
      "metadata": {
        "id": "nuFVmGRoYyS-"
      },
      "source": [
        "De igual manera, debemos extender nuestro conjunto de datos. Comprende que hace  la siguiente celda de código y ejecutala. **Muy importante ejecutar SOLA UNA vez.**"
      ]
    },
    {
      "cell_type": "code",
      "metadata": {
        "id": "qGIrWUZoYyS-"
      },
      "source": [
        "#Aca llamamos la funcion creada anteriormente\n",
        "# para obtener el numero muestras y caractersiticas\n",
        "muestras,caracterisitcas,num_clases = clases_muestras_carac(x, y)\n",
        "#Extendemos la matriz de X para el parámetro independiente\n",
        "unos = np.array([np.ones(muestras)])\n",
        "x = np.concatenate((unos.T, x), axis=1)\n",
        "x = x.reshape(muestras, caracterisitcas+1)\n",
        "y = y.reshape(np.size(y), 1)"
      ],
      "execution_count": null,
      "outputs": []
    },
    {
      "cell_type": "markdown",
      "metadata": {
        "id": "P6rbFHQxYyS_"
      },
      "source": [
        "recordando lo aprendido anteriormente, dividimos nuestro cojunto de datos y normalizamos."
      ]
    },
    {
      "cell_type": "code",
      "metadata": {
        "id": "8F2NBNVwYyTA",
        "colab": {
          "base_uri": "https://localhost:8080/",
          "height": 85
        },
        "outputId": "8204280e-f69e-419c-f293-3f8a75a8eecd"
      },
      "source": [
        "#Dejamos algunas muestras para el proceso de entrenamiento y otras para evaluar qué tan bueno fue el aprendizaje del modelo\n",
        "random.seed(1)\n",
        "N = muestras\n",
        "ind=np.random.permutation(N)\n",
        "Xtrain = x[ind[0:int(math.ceil(0.7*N))],:]\n",
        "Xtest = x[ind[int(math.ceil(0.7*N)):N],:]\n",
        "Ytrain = y[ind[0:int(math.ceil(0.7*N))]]\n",
        "Ytest = y[ind[int(math.ceil(0.7*N)):N]]\n",
        "# normalizamos\n",
        "Xtrain, Xtest = normalizar(Xtrain, Xtest)"
      ],
      "execution_count": null,
      "outputs": [
        {
          "output_type": "stream",
          "text": [
            "/usr/local/lib/python3.6/dist-packages/scipy/stats/stats.py:2419: RuntimeWarning: invalid value encountered in true_divide\n",
            "  return (a - mns) / sstd\n",
            "/content/lab1.py:332: RuntimeWarning: invalid value encountered in true_divide\n",
            "  Xtest_n = (Xtest - media )/desvia\n"
          ],
          "name": "stderr"
        }
      ]
    },
    {
      "cell_type": "markdown",
      "metadata": {
        "id": "NX9X-ocwYyTC"
      },
      "source": [
        "Ahora vamos a completar el código de la regla de actualización de los parámetros del algoritmo de <font color='blue'>gradiente_descedente</font>: \n",
        "\n",
        "\n",
        "$$w_j(iter) = w_j(iter-1) - \\eta \\frac{\\partial E(w)}{\\partial w_j}$$ \n",
        "\n",
        "recordar que \n",
        "\n",
        "$$ \\frac{\\partial E(w)}{\\partial w_j} = \\frac{\\partial E({\\bf{w}})}{\\partial w_j} = \\frac{1}{N}\\sum_{i=1}^{N}\\left( f({\\bf{x}}_i,{\\bf{w}}) - y_i\\right) \\frac{\\partial }{\\partial w_j} f({\\bf{x}}_i, {\\bf{w}})$$\n",
        "\n",
        "Recuerda que debe usar las funciones ya implementadas y no usar **ninguna otra libreria**, adicional a las librerias ya pre-cargadas como numpy.\n",
        "\n",
        "Adicionalmente, dentro de nuestra función, **vamos incluir una transformación polinómica**.\n",
        "\n",
        "\n",
        "Nota: Para el problema de clasificación tenga presente que si ya implementó la regla de actualización de parámetros para el modelo de regresión polinomial múltiple, este punto es trivial, puesto que sólo tiene que incluir la función sigmoidal tal como lo vimos en la teoría."
      ]
    },
    {
      "cell_type": "code",
      "metadata": {
        "id": "zLtR3kdKYyTC"
      },
      "source": [
        "#ejercicio de codigo\n",
        "def gradiente_descendente_logistic_poly(X,Y,grado,eta, iteraciones):\n",
        "    \"\"\"Gradiente descendente para regresión lineal múltiple\n",
        "    X: Matriz de datos extendida\n",
        "    Y: vector con los valores a predecir\n",
        "    W: Vector de parámetros del modelo\n",
        "    eta: Taza de aprendizaje\n",
        "    grado: grado para usar en la transformacion polinomica\n",
        "    iteraciones: numero de iteraciones maxima\n",
        "\n",
        "    retorna: W el valor de de los parametros de regresión polinomica\n",
        "    \"\"\"\n",
        "    X2 = potenciaPolinomio(X,grado)\n",
        "    #Tomamos el número de variables del problema leugo de la transformacion\n",
        "    d = np.size(X2,1)\n",
        "    #Tomamos el número de muestras de la base de datos\n",
        "    N = np.size(X2,0)   \n",
        "    #Inicializamos el vector de parámetros\n",
        "    W = np.zeros(d)\n",
        "    W = W.reshape(np.size(W),1)\n",
        "    Y_estimado = logistic_regression(X2,W)\n",
        "   \n",
        "   \n",
        "    for iter in range(iteraciones):\n",
        "       \n",
        "        #Aquí debe completar el código con la regla de actualización de los parámetros W para regresión\n",
        "        #logística. Tenga en cuenta los nombres de las variables ya creadas: W, X, Y\n",
        "        ##Y_estimado = logistic_regression(X2,W)\n",
        "\n",
        "        error = np.dot(X2.T, (logistic_regression(X2,W) - Y))\n",
        "        des = float(eta)/N * error\n",
        "        W -= des\n",
        "\n",
        "    #Error en clasificación  \n",
        "    Y_estimado = logistic_regression(X2,W)\n",
        "    error_clasificacion = error_logistic(Y_estimado,Y)\n",
        "    print(\"error despues de finalizar la iteraciones\", error_clasificacion)\n",
        "    return W"
      ],
      "execution_count": null,
      "outputs": []
    },
    {
      "cell_type": "code",
      "metadata": {
        "tags": [],
        "id": "lhrk1KyYYyTE",
        "colab": {
          "base_uri": "https://localhost:8080/",
          "height": 68
        },
        "outputId": "01757ff9-5da4-47b8-9932-c883788286f2"
      },
      "source": [
        "## la funcion que prueba tu implementacion\n",
        "GRADER.run_test(\"ejercicio4\", gradiente_descendente_logistic_poly)"
      ],
      "execution_count": null,
      "outputs": [
        {
          "output_type": "stream",
          "text": [
            "error despues de finalizar la iteraciones 0.52\n",
            "error despues de finalizar la iteraciones 0.51\n",
            "TEST EXITOSO!\n"
          ],
          "name": "stdout"
        }
      ]
    },
    {
      "cell_type": "markdown",
      "metadata": {
        "id": "pjpTN71aYyTF"
      },
      "source": [
        "Finalmente se sugiere la siguiente funcion para evaluar el error del modelo. Entienda su funcionamiento."
      ]
    },
    {
      "cell_type": "code",
      "metadata": {
        "id": "DhbCT0H0YyTG"
      },
      "source": [
        "def evaluar_modelo (W, X_to_test, Y_True, grado):\n",
        "    \"\"\" funcion que evalua un modelo de regresión usando el error cuadratico medio\n",
        "\n",
        "    W: es un matriz con los parametros del modelo entrenados\n",
        "    X_to_test: conjunto de datos para usar en el evaluamiento del modelo\n",
        "    Y_True: valores reales para usar en el evaluamiento del modelo\n",
        "    grado: valor del polinomio a usar\n",
        "\n",
        "    retorna: el de clasificación.\n",
        "    \"\"\"\n",
        "    X2 = potenciaPolinomio(X_to_test,grado)\n",
        "    Y_estimado = logistic_regression(X2,W)\n",
        "    error_clasificacion = error_logistic(Y_estimado,Y_True)\n",
        "    return(error_clasificacion)\n"
      ],
      "execution_count": null,
      "outputs": []
    },
    {
      "cell_type": "markdown",
      "metadata": {
        "id": "EhaV3W7IYyTH"
      },
      "source": [
        "## Ejercicio 3: Experimentar\n",
        "\n",
        "Con la función implementada vamos a entrenar un modelo y calcular su error de entrenamiento"
      ]
    },
    {
      "cell_type": "code",
      "metadata": {
        "tags": [],
        "id": "7wwIVbTDYyTI",
        "colab": {
          "base_uri": "https://localhost:8080/",
          "height": 51
        },
        "outputId": "cc1fd930-888a-4a3c-89d2-34e9b7d9e950"
      },
      "source": [
        "w = gradiente_descendente_logistic_poly(Xtrain,Ytrain,1,0.0001, 1000)\n",
        "error_test = evaluar_modelo(w, Xtest, Ytest, grado = 1)\n",
        "print(\"error en el conjunto de pruebas\", error_test)"
      ],
      "execution_count": null,
      "outputs": [
        {
          "output_type": "stream",
          "text": [
            "error despues de finalizar la iteraciones 0.5228571428571429\n",
            "error en el conjunto de pruebas 0.5066666666666667\n"
          ],
          "name": "stdout"
        }
      ]
    },
    {
      "cell_type": "markdown",
      "metadata": {
        "id": "bH00WKqYYyTJ"
      },
      "source": [
        "En nuestro primer experimento vamos a evaluar el rendimiento del modelo usando varias tasas de aprendizaje y grados de polinimios. Vamos a dejar por ahora un numero de iteraciones fijas = 50. Para ello completa la siguiente función."
      ]
    },
    {
      "cell_type": "code",
      "metadata": {
        "id": "2L4aHWL4YyTK"
      },
      "source": [
        "## ejercicio de codigo\n",
        "def experimentar (Xtrain, Xtest, Ytrain, Ytest, tasas, grados):\n",
        "    \"\"\" funcion para realizar experimentos.\n",
        "    Xtrain: conjunto de datos\n",
        "    Xtest:\n",
        "    Ytrain:\n",
        "    Ytest:\n",
        "    tasas: Es una lista con los valores númericos de tasas de aprendizaje \n",
        "        para realizar los experimentos\n",
        "    grados: Es una lista con los valores númericos de grados \n",
        "        para realizar los experimentos\n",
        "    retorna: un dataframe con el resultados de los experimentos\n",
        "    \"\"\"\n",
        "    numero_iter = 50\n",
        "\n",
        "    resultados = pd.DataFrame()\n",
        "    idx = 0 # indice\n",
        "    for eta in tasas:\n",
        "        for grado in grados:\n",
        "            W = gradiente_descendente_logistic_poly(Xtest,Ytest,grado,eta, numero_iter)\n",
        "            error_entrenamiento = evaluar_modelo(W, Xtrain, Ytrain, grado)\n",
        "            error_prueba = evaluar_modelo(W, Xtest, Ytest, grado)\n",
        "            resultados.loc[idx,'grado'] = grado\n",
        "            resultados.loc[idx,'tasa de aprendizaje'] = eta\n",
        "            resultados.loc[idx,'error_entreamiento'] = error_entrenamiento\n",
        "            resultados.loc[idx,'error_prueba'] = error_prueba\n",
        "            idx = idx+1\n",
        "\n",
        "    return (resultados)"
      ],
      "execution_count": null,
      "outputs": []
    },
    {
      "cell_type": "code",
      "metadata": {
        "tags": [],
        "id": "n4Y2qwvnYyTL",
        "colab": {
          "base_uri": "https://localhost:8080/",
          "height": 136
        },
        "outputId": "d447ae54-3b7a-4c31-a450-7d5a97300c99"
      },
      "source": [
        "## la funcion que prueba tu implementacion\n",
        "GRADER.run_test(\"ejercicio5\", experimentar)"
      ],
      "execution_count": null,
      "outputs": [
        {
          "output_type": "stream",
          "text": [
            "error despues de finalizar la iteraciones 0.3\n",
            "error despues de finalizar la iteraciones 0.0\n",
            "error despues de finalizar la iteraciones 0.0\n",
            "error despues de finalizar la iteraciones 0.3\n",
            "error despues de finalizar la iteraciones 0.0\n",
            "error despues de finalizar la iteraciones 0.0\n",
            "TEST EXITOSO!\n"
          ],
          "name": "stdout"
        }
      ]
    },
    {
      "cell_type": "code",
      "metadata": {
        "tags": [],
        "id": "PNZ702IVYyTN",
        "colab": {
          "base_uri": "https://localhost:8080/",
          "height": 272
        },
        "outputId": "f98d5704-c407-41de-9838-702a73057d7b"
      },
      "source": [
        "tasas = [1,0.1,0.001]\n",
        "grados = [1,2,3,4,5]\n",
        "resultados = experimentar (Xtrain, Xtest, Ytrain, Ytest, tasas, grados)"
      ],
      "execution_count": null,
      "outputs": [
        {
          "output_type": "stream",
          "text": [
            "error despues de finalizar la iteraciones 0.48\n",
            "error despues de finalizar la iteraciones 0.5266666666666666\n",
            "error despues de finalizar la iteraciones 0.41333333333333333\n",
            "error despues de finalizar la iteraciones 0.0\n",
            "error despues de finalizar la iteraciones 0.0\n",
            "error despues de finalizar la iteraciones 0.48\n",
            "error despues de finalizar la iteraciones 0.5266666666666666\n",
            "error despues de finalizar la iteraciones 0.41333333333333333\n",
            "error despues de finalizar la iteraciones 0.0\n",
            "error despues de finalizar la iteraciones 0.0\n",
            "error despues de finalizar la iteraciones 0.48\n",
            "error despues de finalizar la iteraciones 0.5266666666666666\n",
            "error despues de finalizar la iteraciones 0.41333333333333333\n",
            "error despues de finalizar la iteraciones 0.0\n",
            "error despues de finalizar la iteraciones 0.0\n"
          ],
          "name": "stdout"
        }
      ]
    },
    {
      "cell_type": "code",
      "metadata": {
        "id": "i0S18dT2YyTO",
        "colab": {
          "base_uri": "https://localhost:8080/",
          "height": 514
        },
        "outputId": "0ee2419a-31db-4acb-cfd0-10bb00811486"
      },
      "source": [
        "# para ver los resultados\n",
        "resultados"
      ],
      "execution_count": null,
      "outputs": [
        {
          "output_type": "execute_result",
          "data": {
            "text/html": [
              "<div>\n",
              "<style scoped>\n",
              "    .dataframe tbody tr th:only-of-type {\n",
              "        vertical-align: middle;\n",
              "    }\n",
              "\n",
              "    .dataframe tbody tr th {\n",
              "        vertical-align: top;\n",
              "    }\n",
              "\n",
              "    .dataframe thead th {\n",
              "        text-align: right;\n",
              "    }\n",
              "</style>\n",
              "<table border=\"1\" class=\"dataframe\">\n",
              "  <thead>\n",
              "    <tr style=\"text-align: right;\">\n",
              "      <th></th>\n",
              "      <th>grado</th>\n",
              "      <th>tasa de aprendizaje</th>\n",
              "      <th>error_entreamiento</th>\n",
              "      <th>error_prueba</th>\n",
              "    </tr>\n",
              "  </thead>\n",
              "  <tbody>\n",
              "    <tr>\n",
              "      <th>0</th>\n",
              "      <td>1.0</td>\n",
              "      <td>1.000</td>\n",
              "      <td>0.491429</td>\n",
              "      <td>0.480000</td>\n",
              "    </tr>\n",
              "    <tr>\n",
              "      <th>1</th>\n",
              "      <td>2.0</td>\n",
              "      <td>1.000</td>\n",
              "      <td>0.442857</td>\n",
              "      <td>0.526667</td>\n",
              "    </tr>\n",
              "    <tr>\n",
              "      <th>2</th>\n",
              "      <td>3.0</td>\n",
              "      <td>1.000</td>\n",
              "      <td>0.397143</td>\n",
              "      <td>0.413333</td>\n",
              "    </tr>\n",
              "    <tr>\n",
              "      <th>3</th>\n",
              "      <td>4.0</td>\n",
              "      <td>1.000</td>\n",
              "      <td>0.031429</td>\n",
              "      <td>0.000000</td>\n",
              "    </tr>\n",
              "    <tr>\n",
              "      <th>4</th>\n",
              "      <td>5.0</td>\n",
              "      <td>1.000</td>\n",
              "      <td>0.031429</td>\n",
              "      <td>0.000000</td>\n",
              "    </tr>\n",
              "    <tr>\n",
              "      <th>5</th>\n",
              "      <td>1.0</td>\n",
              "      <td>0.100</td>\n",
              "      <td>0.491429</td>\n",
              "      <td>0.480000</td>\n",
              "    </tr>\n",
              "    <tr>\n",
              "      <th>6</th>\n",
              "      <td>2.0</td>\n",
              "      <td>0.100</td>\n",
              "      <td>0.442857</td>\n",
              "      <td>0.526667</td>\n",
              "    </tr>\n",
              "    <tr>\n",
              "      <th>7</th>\n",
              "      <td>3.0</td>\n",
              "      <td>0.100</td>\n",
              "      <td>0.397143</td>\n",
              "      <td>0.413333</td>\n",
              "    </tr>\n",
              "    <tr>\n",
              "      <th>8</th>\n",
              "      <td>4.0</td>\n",
              "      <td>0.100</td>\n",
              "      <td>0.031429</td>\n",
              "      <td>0.000000</td>\n",
              "    </tr>\n",
              "    <tr>\n",
              "      <th>9</th>\n",
              "      <td>5.0</td>\n",
              "      <td>0.100</td>\n",
              "      <td>0.031429</td>\n",
              "      <td>0.000000</td>\n",
              "    </tr>\n",
              "    <tr>\n",
              "      <th>10</th>\n",
              "      <td>1.0</td>\n",
              "      <td>0.001</td>\n",
              "      <td>0.491429</td>\n",
              "      <td>0.480000</td>\n",
              "    </tr>\n",
              "    <tr>\n",
              "      <th>11</th>\n",
              "      <td>2.0</td>\n",
              "      <td>0.001</td>\n",
              "      <td>0.442857</td>\n",
              "      <td>0.526667</td>\n",
              "    </tr>\n",
              "    <tr>\n",
              "      <th>12</th>\n",
              "      <td>3.0</td>\n",
              "      <td>0.001</td>\n",
              "      <td>0.397143</td>\n",
              "      <td>0.413333</td>\n",
              "    </tr>\n",
              "    <tr>\n",
              "      <th>13</th>\n",
              "      <td>4.0</td>\n",
              "      <td>0.001</td>\n",
              "      <td>0.031429</td>\n",
              "      <td>0.000000</td>\n",
              "    </tr>\n",
              "    <tr>\n",
              "      <th>14</th>\n",
              "      <td>5.0</td>\n",
              "      <td>0.001</td>\n",
              "      <td>0.031429</td>\n",
              "      <td>0.000000</td>\n",
              "    </tr>\n",
              "  </tbody>\n",
              "</table>\n",
              "</div>"
            ],
            "text/plain": [
              "    grado  tasa de aprendizaje  error_entreamiento  error_prueba\n",
              "0     1.0                1.000            0.491429      0.480000\n",
              "1     2.0                1.000            0.442857      0.526667\n",
              "2     3.0                1.000            0.397143      0.413333\n",
              "3     4.0                1.000            0.031429      0.000000\n",
              "4     5.0                1.000            0.031429      0.000000\n",
              "5     1.0                0.100            0.491429      0.480000\n",
              "6     2.0                0.100            0.442857      0.526667\n",
              "7     3.0                0.100            0.397143      0.413333\n",
              "8     4.0                0.100            0.031429      0.000000\n",
              "9     5.0                0.100            0.031429      0.000000\n",
              "10    1.0                0.001            0.491429      0.480000\n",
              "11    2.0                0.001            0.442857      0.526667\n",
              "12    3.0                0.001            0.397143      0.413333\n",
              "13    4.0                0.001            0.031429      0.000000\n",
              "14    5.0                0.001            0.031429      0.000000"
            ]
          },
          "metadata": {
            "tags": []
          },
          "execution_count": 77
        }
      ]
    },
    {
      "cell_type": "code",
      "metadata": {
        "id": "2o0zE_e7YyTS",
        "cellView": "form"
      },
      "source": [
        "#@title Pregunta Abierta\n",
        "#@markdown  ¿con base a los resultados anteriores, qué efecto tiene el grado en los errores de entrenamiento y de prueba? justifique\n",
        "respuesta_2 = \"Entre mayor grado los experimentos arrojan un error m\\xE1s cercano a cero, y por ende entre mayor grado tenga el polinomio mejor aprendizaje desarrolla el modelo, pero cuando avanza del grado 4 se mantiene el mismo nivel de efectividad del modelo, por ende el grado 4 es el mejor.\" #@param {type:\"string\"}"
      ],
      "execution_count": null,
      "outputs": []
    },
    {
      "cell_type": "code",
      "metadata": {
        "id": "Z8waNHm0YyTT",
        "cellView": "form"
      },
      "source": [
        "#@title Pregunta Abierta\n",
        "#@markdown  ¿es normal que los errores de entrenamiento y prueba sean diferentes? justifique\n",
        "respuesta_3 = \"Si, puesto que los conjuntos de datos que se utilizaron para el entrenamiento y para las pruebas fueron distintos, de no ser as\\xED no tendr\\xEDa sentido, pues la idea general de encontrar errores es comparar un resultado entrenado con uno de prueba que valide la eficacia del modelo.\" #@param {type:\"string\"}"
      ],
      "execution_count": null,
      "outputs": []
    },
    {
      "cell_type": "markdown",
      "metadata": {
        "id": "sq9B0kEIYyTV"
      },
      "source": [
        "En los problemas de clasificación, es muy importante entender el numero de muestras que el modelo clasifico mal. Esto es necesario observarlo tanto en entrenamiento como en pruebas. Vamos crear una función para esto."
      ]
    },
    {
      "cell_type": "code",
      "metadata": {
        "id": "mnhcuVcTYyTV"
      },
      "source": [
        "#ejercicio de codigo\n",
        "def numero_de_errores (W, X, Y, grado):\n",
        "    \"\"\"función que cuenta los errores de un modelo de regresión logistica\n",
        "    W: vector con los parametros de un modelo de regresión logistica\n",
        "       previamente entrenado\n",
        "    X: conjunto de datos a usar (numpy matrix)\n",
        "    Y: conjunto con las etiquetas verdaderas. (numpy array)\n",
        "    grado: grado usado en el modelo de regresión logistica\n",
        "    retorna: numero de errores (int/float) \n",
        "            (es decir el numero de veces que la etiqueta predicha es diferente a la etiqueta real)\n",
        "    \"\"\"\n",
        "    X2 = potenciaPolinomio(X,grado)\n",
        "    Y_estimado = logistic_regression(X2,W)\n",
        "    numero_errores = np.sum(Y_estimado!=Y)\n",
        "\n",
        "    return numero_errores\n"
      ],
      "execution_count": null,
      "outputs": []
    },
    {
      "cell_type": "code",
      "metadata": {
        "tags": [],
        "id": "iYkbflSmYyTX",
        "colab": {
          "base_uri": "https://localhost:8080/",
          "height": 119
        },
        "outputId": "1c4759b7-1630-4a05-dfde-c0216eea2d3a"
      },
      "source": [
        "## la funcion que prueba tu implementacion\n",
        "GRADER.run_test(\"ejercicio6\", numero_de_errores)"
      ],
      "execution_count": null,
      "outputs": [
        {
          "output_type": "stream",
          "text": [
            "revisa tu implementacion, el test 2 fallo\n",
            "FALLIDO. revisa tu funcion. Sigue las instrucciones del notebook. Si tienes alguna duda pregunta!\n"
          ],
          "name": "stdout"
        },
        {
          "output_type": "stream",
          "text": [
            "/usr/local/lib/python3.6/dist-packages/ipykernel_launcher.py:11: RuntimeWarning: overflow encountered in exp\n",
            "  # This is added back by InteractiveShellApp.init_path()\n",
            "/usr/local/lib/python3.6/dist-packages/ipykernel_launcher.py:11: RuntimeWarning: invalid value encountered in true_divide\n",
            "  # This is added back by InteractiveShellApp.init_path()\n"
          ],
          "name": "stderr"
        }
      ]
    },
    {
      "cell_type": "markdown",
      "metadata": {
        "id": "T-bRi6p6YyTY"
      },
      "source": [
        "Ahora, use la función. Entrene nuevamente un modelo con los mejores parametros obtenidos y calcule cuantas muestras quedaron mal clasificadas. Tanto en el conjunto de entrenamiento y de prueba. \n",
        "\n",
        "Si hay parametros empatados, el modelo que tenga menos parametros deberia ser el mejor.\n",
        "\n"
      ]
    },
    {
      "cell_type": "code",
      "metadata": {
        "id": "v-LG4-DhYyTY",
        "colab": {
          "base_uri": "https://localhost:8080/",
          "height": 142
        },
        "outputId": "d850116d-cb7d-4b66-c3b6-deb947c05ea3"
      },
      "source": [
        "# puedes usar el siguiente código para ordenar los resultados y ver los 3 primeros\n",
        "# resultados, usa esta salida, para ver cuales fueron los mejores parámetros\n",
        "resultados.sort_values(by = ['error_prueba', 'grado'], ascending = True).head(3)"
      ],
      "execution_count": null,
      "outputs": [
        {
          "output_type": "execute_result",
          "data": {
            "text/html": [
              "<div>\n",
              "<style scoped>\n",
              "    .dataframe tbody tr th:only-of-type {\n",
              "        vertical-align: middle;\n",
              "    }\n",
              "\n",
              "    .dataframe tbody tr th {\n",
              "        vertical-align: top;\n",
              "    }\n",
              "\n",
              "    .dataframe thead th {\n",
              "        text-align: right;\n",
              "    }\n",
              "</style>\n",
              "<table border=\"1\" class=\"dataframe\">\n",
              "  <thead>\n",
              "    <tr style=\"text-align: right;\">\n",
              "      <th></th>\n",
              "      <th>grado</th>\n",
              "      <th>tasa de aprendizaje</th>\n",
              "      <th>error_entreamiento</th>\n",
              "      <th>error_prueba</th>\n",
              "    </tr>\n",
              "  </thead>\n",
              "  <tbody>\n",
              "    <tr>\n",
              "      <th>3</th>\n",
              "      <td>4.0</td>\n",
              "      <td>1.000</td>\n",
              "      <td>0.031429</td>\n",
              "      <td>0.0</td>\n",
              "    </tr>\n",
              "    <tr>\n",
              "      <th>8</th>\n",
              "      <td>4.0</td>\n",
              "      <td>0.100</td>\n",
              "      <td>0.031429</td>\n",
              "      <td>0.0</td>\n",
              "    </tr>\n",
              "    <tr>\n",
              "      <th>13</th>\n",
              "      <td>4.0</td>\n",
              "      <td>0.001</td>\n",
              "      <td>0.031429</td>\n",
              "      <td>0.0</td>\n",
              "    </tr>\n",
              "  </tbody>\n",
              "</table>\n",
              "</div>"
            ],
            "text/plain": [
              "    grado  tasa de aprendizaje  error_entreamiento  error_prueba\n",
              "3     4.0                1.000            0.031429           0.0\n",
              "8     4.0                0.100            0.031429           0.0\n",
              "13    4.0                0.001            0.031429           0.0"
            ]
          },
          "metadata": {
            "tags": []
          },
          "execution_count": 83
        }
      ]
    },
    {
      "cell_type": "code",
      "metadata": {
        "tags": [],
        "id": "q81OIPYJYyTa",
        "colab": {
          "base_uri": "https://localhost:8080/",
          "height": 255
        },
        "outputId": "b88a4663-3941-4210-dfaf-981fe800b53e"
      },
      "source": [
        " W = gradiente_descendente_logistic_poly(Xtrain,Ytrain,grado =  4,eta = 0.014286, iteraciones = 50)\n",
        " print(\"estos son los pesos para el modelo entrenando \\n\", W)"
      ],
      "execution_count": null,
      "outputs": [
        {
          "output_type": "stream",
          "text": [
            "error despues de finalizar la iteraciones 0.008571428571428572\n",
            "estos son los pesos para el modelo entrenando \n",
            " [[ 0.        ]\n",
            " [-0.00038839]\n",
            " [ 0.00047184]\n",
            " [ 0.        ]\n",
            " [-0.00879229]\n",
            " [-0.00749208]\n",
            " [ 0.        ]\n",
            " [-0.0002262 ]\n",
            " [ 0.0010573 ]\n",
            " [ 0.        ]\n",
            " [ 0.00689223]\n",
            " [ 0.00853762]]\n"
          ],
          "name": "stdout"
        }
      ]
    },
    {
      "cell_type": "code",
      "metadata": {
        "tags": [],
        "id": "8VpRyLulYyTb",
        "colab": {
          "base_uri": "https://localhost:8080/",
          "height": 51
        },
        "outputId": "6861c2f7-57b3-4883-bc36-398c13fd8431"
      },
      "source": [
        "num_errores_entrenamiento =  numero_de_errores (W, Xtrain, Ytrain, grado = 4)\n",
        "num_errores_prueba =  numero_de_errores (W, Xtest, Ytest, grado = 4)\n",
        "print(\"muestras mal clasificadas en entrenamiento\", num_errores_entrenamiento)\n",
        "print(\"muestras mal clasificadas en pruebas\", num_errores_prueba)"
      ],
      "execution_count": null,
      "outputs": [
        {
          "output_type": "stream",
          "text": [
            "muestras mal clasificadas en entrenamiento 3\n",
            "muestras mal clasificadas en pruebas 3\n"
          ],
          "name": "stdout"
        }
      ]
    },
    {
      "cell_type": "code",
      "metadata": {
        "id": "ZnGyv4JtYyTd",
        "cellView": "form"
      },
      "source": [
        "#@title Pregunta Abierta\n",
        "#@markdown ¿por qué se uso el error de prueba para ordenar la tabla de resultados en lugar del error de entrenamiento?\n",
        "respuesta_4 = \"Porque el error de prueba es el que mide realmente el nivel de eficacia de nuestro modelo, ya que es calculado con un conjunto distinto de datos al de entrenamiento, o en otras palabras son datos desconocidos para el modelo.\" #@param {type:\"string\"}"
      ],
      "execution_count": null,
      "outputs": []
    },
    {
      "cell_type": "code",
      "metadata": {
        "id": "ANlQQocoYyTf",
        "cellView": "form"
      },
      "source": [
        "#@title Pregunta Abierta\n",
        "#@markdown Escribe aqui el numero de muestras que quedaron mal clasificadas en el conjunto de entrenamiento y de pruebas. ¿como calificarias el modelo entrenado?\n",
        "respuesta_5 = \"En entrenamiento: 3 y pruebas 3, el modelo se calificar\\xEDa muy bueno, aunque hay que tener en cuenta que fueron solo 50 iteraciones, probablemente con m\\xE1s iteraciones el modelo no tendr\\xEDa tanta eficacia, pero con el n\\xFAmero de iteraciones realizadas el modelo aparenta ser muy bueno.\" #@param {type:\"string\"}"
      ],
      "execution_count": null,
      "outputs": []
    },
    {
      "cell_type": "code",
      "metadata": {
        "id": "_qLtFMlZJJkJ",
        "colab": {
          "base_uri": "https://localhost:8080/",
          "height": 221
        },
        "outputId": "02ca1eb0-2807-47aa-c142-783e9c560b2c"
      },
      "source": [
        "print (W)"
      ],
      "execution_count": null,
      "outputs": [
        {
          "output_type": "stream",
          "text": [
            "[[ 0.        ]\n",
            " [-0.00038839]\n",
            " [ 0.00047184]\n",
            " [ 0.        ]\n",
            " [-0.00879229]\n",
            " [-0.00749208]\n",
            " [ 0.        ]\n",
            " [-0.0002262 ]\n",
            " [ 0.0010573 ]\n",
            " [ 0.        ]\n",
            " [ 0.00689223]\n",
            " [ 0.00853762]]\n"
          ],
          "name": "stdout"
        }
      ]
    },
    {
      "cell_type": "code",
      "metadata": {
        "id": "2FZeWG54YyTg",
        "cellView": "form"
      },
      "source": [
        "#@title Pregunta Abierta\n",
        "#@markdown Escriba el modelo completo con sus variables y coeficientes de f(**x**,**w**) con la mejor frontera de decisión que encontró. usa los valores del último W entrenado. Recuerda tener presente el grado del polinomio\n",
        "respuesta_6 = \"0*1 - 0.00038839 (X1)  + 0.00047184(X2) - 0.00879229 (X1**2) - 0.00749208(X2**2) - 0.0002262(X1**3) + 0.0010573(X2**3) + 0.00689223 (X1**4) + 0.00853762 (X2**4)\" #@param {type:\"string\"}"
      ],
      "execution_count": null,
      "outputs": []
    },
    {
      "cell_type": "code",
      "metadata": {
        "tags": [],
        "id": "qdlLAktOYyTh"
      },
      "source": [
        "GRADER.check_tests()"
      ],
      "execution_count": null,
      "outputs": []
    },
    {
      "cell_type": "code",
      "metadata": {
        "id": "U0DWcBDcYyTj",
        "cellView": "form"
      },
      "source": [
        "#@title Integrantes\n",
        "codigo_integrante_1 ='1037652924' #@param {type:\"string\"}\n",
        "codigo_integrante_2 = '1061805868'  #@param {type:\"string\"}"
      ],
      "execution_count": null,
      "outputs": []
    },
    {
      "cell_type": "markdown",
      "metadata": {
        "id": "19FgbUXzYyTl"
      },
      "source": [
        "----\n",
        "esta linea de codigo va fallar, es de uso exclusivo del los profesores\n"
      ]
    },
    {
      "cell_type": "code",
      "metadata": {
        "id": "KepG_JTvYyTl"
      },
      "source": [
        "GRADER.grade()"
      ],
      "execution_count": null,
      "outputs": []
    }
  ]
}