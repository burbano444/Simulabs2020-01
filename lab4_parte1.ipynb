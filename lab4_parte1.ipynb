{
  "nbformat": 4,
  "nbformat_minor": 0,
  "metadata": {
    "kernelspec": {
      "display_name": "Python 3",
      "language": "python",
      "name": "python3"
    },
    "language_info": {
      "codemirror_mode": {
        "name": "ipython",
        "version": 3
      },
      "file_extension": ".py",
      "mimetype": "text/x-python",
      "name": "python",
      "nbconvert_exporter": "python",
      "pygments_lexer": "ipython3",
      "version": "3.6.9"
    },
    "colab": {
      "name": "lab4_parte1.ipynb",
      "provenance": [],
      "collapsed_sections": []
    }
  },
  "cells": [
    {
      "cell_type": "markdown",
      "metadata": {
        "id": "P1tb9xQfodtj"
      },
      "source": [
        "<a href=\"https://colab.research.google.com/github/jdariasl/ML_2020/blob/master/Labs/lab4/lab4_parte1.ipynb\">\n",
        "    <img src=\"https://colab.research.google.com/assets/colab-badge.svg\" alt=\"Open In Colab\"/></a>\n",
        "\n",
        "**Recuerda que una vez abierto, Da clic en \"Copiar en Drive\", de lo contrario no podras almacenar tu progreso**\n",
        "\n",
        "Nota: no olvide ir ejecutando las celdas de código de arriba hacia abajo para que no tenga errores de importación de librerías o por falta de definición de variables."
      ]
    },
    {
      "cell_type": "code",
      "metadata": {
        "id": "zZt2JG85odtj",
        "colab": {
          "base_uri": "https://localhost:8080/"
        },
        "outputId": "31e7abd1-8858-4f04-8716-ff3555eca7e2"
      },
      "source": [
        "#configuración del laboratorio\n",
        "# Ejecuta esta celda!\n",
        "%load_ext autoreload\n",
        "%autoreload 2\n",
        "#for local \n",
        "#import sys ; sys.path.append('../commons/utils/')\n",
        "!wget https://raw.githubusercontent.com/jdariasl/ML_2020/master/Labs/commons/utils/general.py -O general.py --no-cache\n",
        "from general import configure_lab4\n",
        "configure_lab4()\n",
        "from lab4 import *\n",
        "GRADER = part_1()"
      ],
      "execution_count": null,
      "outputs": [
        {
          "output_type": "stream",
          "text": [
            "--2020-11-06 10:59:08--  https://raw.githubusercontent.com/jdariasl/ML_2020/master/Labs/commons/utils/general.py\n",
            "Resolving raw.githubusercontent.com (raw.githubusercontent.com)... 151.101.0.133, 151.101.64.133, 151.101.128.133, ...\n",
            "Connecting to raw.githubusercontent.com (raw.githubusercontent.com)|151.101.0.133|:443... connected.\n",
            "HTTP request sent, awaiting response... 200 OK\n",
            "Length: 14117 (14K) [text/plain]\n",
            "Saving to: ‘general.py’\n",
            "\n",
            "\rgeneral.py            0%[                    ]       0  --.-KB/s               \rgeneral.py          100%[===================>]  13.79K  --.-KB/s    in 0.007s  \n",
            "\n",
            "2020-11-06 10:59:08 (1.81 MB/s) - ‘general.py’ saved [14117/14117]\n",
            "\n",
            "lab configuration started\n",
            "installing libraries\n",
            "downloading files\n",
            "lab configured\n"
          ],
          "name": "stdout"
        }
      ]
    },
    {
      "cell_type": "markdown",
      "metadata": {
        "id": "bEFZ1bNsodtm"
      },
      "source": [
        "# Laboratorio 4 - Parte 1"
      ]
    },
    {
      "cell_type": "markdown",
      "metadata": {
        "id": "SIyPCtR3odtm"
      },
      "source": [
        "Este ejercicio tiene como objetivo implementar una red neuronal artificial de tipo perceptrón multicapa (MLP) para resolver un problema de regresión. Usaremos la librería sklearn. Consulte todo lo relacionado con la definición de hiperparámetros, los métodos para el entrenamiento y la predicción de nuevas muestras en el siguiente enlace: http://scikit-learn.org/stable/modules/generated/sklearn.neural_network.MLPRegressor.html#sklearn.neural_network.MLPRegressor"
      ]
    },
    {
      "cell_type": "markdown",
      "metadata": {
        "id": "dAVPFqINodtn"
      },
      "source": [
        "Para este ejercicio usaremos la base de datos sobre calidad del aire, que ha sido usada en laboratorios previos, pero en este caso trataremos de predecir dos variables en lugar de una, es decir, abordaremos **un problema de múltiples salidas**."
      ]
    },
    {
      "cell_type": "code",
      "metadata": {
        "id": "S1ILV7RModtn"
      },
      "source": [
        "#cargamos la bd que está en un archivo .data y ahora la podemos manejar de forma matricial\n",
        "db = np.loadtxt('AirQuality.data',delimiter='\\t')  # Assuming tab-delimiter\n",
        "\n",
        "#Esta es la base de datos AirQuality del UCI Machine Learning Repository. En la siguiente URL se encuentra toda\n",
        "#la descripción de la base de datos y la contextualización del problema.\n",
        "#https://archive.ics.uci.edu/ml/datasets/Air+Quality#\n",
        "\n",
        "x = db[:,0:11]\n",
        "y = db[:,11:13]"
      ],
      "execution_count": null,
      "outputs": []
    },
    {
      "cell_type": "markdown",
      "metadata": {
        "id": "qKlFuQyRodtp"
      },
      "source": [
        "Para calcular los errores, vamos a explorar y usar la el [modulo de metricas den sklearn](https://scikit-learn.org/stable/modules/classes.html#module-sklearn.metrics). Podemos observar que el modulo tiene metricas para regresión y clasificación."
      ]
    },
    {
      "cell_type": "markdown",
      "metadata": {
        "id": "EFIUq69Modtp"
      },
      "source": [
        "## Ejercicio 1 - Experimentar con MLP paa regresión\n",
        "\n",
        "Para porder implementar nuestra función, lo primero que debemos entender es la estrucutra de la red. Como mencionamos, vamos a solucionar un problema de multiples salidas. Estas salidas con valores continuos. Por lo tanto debemos garantizar que la capa de salida del nuestra red tenga la capacidad de modelar. este tipo de datos.\n"
      ]
    },
    {
      "cell_type": "code",
      "metadata": {
        "id": "xjF6liTmodtp",
        "cellView": "form"
      },
      "source": [
        "#@title Pregunta Abierta\n",
        "#@markdown ¿De acuerdo al problema planteado, que función de activación debe usar el MLP para un problema de regresión?\n",
        "respuesta_1 = \"Seg\\xFAn el problema planteado, la funci\\xF3n de activaci\\xF3n que debe usar el MLP para un problema de regresi\\xF3n es la IDENTITY, ya que, refiri\\xE9ndonos a la documentaci\\xF3n, esta nos da una funci\\xF3n lineal que describe fielmente una regresi\\xF3n\" #@param {type:\"string\"}"
      ],
      "execution_count": null,
      "outputs": []
    },
    {
      "cell_type": "markdown",
      "metadata": {
        "id": "-G_bSsYcodtr"
      },
      "source": [
        "Una caracteristica de los modelos de sklearn, es que ciertos tipos de atributos, solo pueden ser accedidos cuanto se entrena el modelo. Vamos a realizar un pequeña función para comprobar cual es la capa de activación de los modelos MLP para regresión de sklearn."
      ]
    },
    {
      "cell_type": "code",
      "metadata": {
        "id": "M0Rd2sBnodts"
      },
      "source": [
        "# ejercicio de código\n",
        "def output_activation():\n",
        "    \"\"\"funcion que entrena un modelo\n",
        "    con data aleatoria para confirmar la funcion\n",
        "    de activacion de la ultima capa\n",
        "    \"\"\"\n",
        "    mlp= MLPRegressor()\n",
        "    # fit with some random data\n",
        "    xrandom = np.random.rand(10,2)\n",
        "    yrandom = np.zeros(10)\n",
        "    # llamar el metodo adecuado para entrenar\n",
        "    # el mlp con los x y 'y' random\n",
        "    mlp.fit(xrandom, yrandom)\n",
        "    # retornar el atributo de mlp adecuado\n",
        "    return (mlp.out_activation_)"
      ],
      "execution_count": null,
      "outputs": []
    },
    {
      "cell_type": "code",
      "metadata": {
        "id": "mzJDEC1Bodtt",
        "colab": {
          "base_uri": "https://localhost:8080/"
        },
        "outputId": "b8789e7d-c3cc-4ccd-cec3-fffb5e0c0d3e"
      },
      "source": [
        "## la funcion que prueba tu implementacion\n",
        "#ignora las graficas!!\n",
        "GRADER.run_test(\"ejercicio1\", output_activation)"
      ],
      "execution_count": null,
      "outputs": [
        {
          "output_type": "stream",
          "text": [
            "TEST EXITOSO!\n"
          ],
          "name": "stdout"
        }
      ]
    },
    {
      "cell_type": "code",
      "metadata": {
        "id": "p0ybj-1vodtv",
        "colab": {
          "base_uri": "https://localhost:8080/"
        },
        "outputId": "65ae9571-cf8a-469f-94f7-11492d577690"
      },
      "source": [
        "print(\"la función de activación para un problema de regresion es:\", output_activation())"
      ],
      "execution_count": null,
      "outputs": [
        {
          "output_type": "stream",
          "text": [
            "la función de activación para un problema de regresion es: identity\n"
          ],
          "name": "stdout"
        }
      ]
    },
    {
      "cell_type": "markdown",
      "metadata": {
        "id": "udcddNBiodtz"
      },
      "source": [
        "Una vez comprobado que sklearn usa la función de activación correcta, vamos crear la función para realizar los experimentos.\n",
        "\n",
        "Vamos completar la función con el código necesario para usar una red neuronal tipo MLP para solucionar el problema de regresión propuesto.\n",
        "1. Como función de activación en las capas ocultas use la función 'tanh'. \n",
        "2. Ajuste el número máximo de épocas a 400.\n",
        "3. Dejamos como variables el número de capas ocultas y el número de neuronas por capa\n",
        "5. Selecciones la función adecuada del [modulo de sklearn para calcular el error absoluto medio](https://scikit-learn.org/stable/modules/classes.html?highlight=metrics#module-sklearn.metrics). Tener en cuenta que parametros usar.\n",
        "6. Debemos usar los nombres explicitos, por ejemplo si para el MLP es necesario usar el parametro `activation`, debe ser llamado: `MLPRegressor(activation=...)`\n",
        "7. Explorar que hace la siguiente linea de codigo `tuple(2*[100])`"
      ]
    },
    {
      "cell_type": "code",
      "metadata": {
        "id": "y-SdZ9H_odt0"
      },
      "source": [
        "# ejercicio de código\n",
        "\n",
        "def experimetar_mlp(X,Y, num_hidden_layers, num_neurons):\n",
        "    \"\"\" función para realizar experimentos con el MLP\n",
        "    x: matriz de numpy con caracteristicas\n",
        "    y: vector numpy con las variables a predecir\n",
        "    num_hidden_layers: list de enteros con el numero de capdas\n",
        "        ocultas a usar\n",
        "    num_neurons: list de enteros con el numero de neuronas a usar\n",
        "    \n",
        "    Retorna: dataframe con 6 columnas:\n",
        "        - numero de capas, numero de neuronas\n",
        "        - promedio de error prueba variable 1 y desviación estandar\n",
        "        - promedio de error prueba variable 2 y desviación estandar\n",
        "        \n",
        "    \"\"\"\n",
        "    #Validamos el modelo\n",
        "    Folds = 4\n",
        "    ss = ShuffleSplit(n_splits=Folds, test_size=0.2)\n",
        "    resultados = pd.DataFrame()\n",
        "    idx = 0\n",
        "    for hidden_layers in num_hidden_layers:\n",
        "        for neurons in num_neurons:\n",
        "            for j, (train, test) in enumerate(ss.split(X)):\n",
        "                # para almacenar errores intermedios\n",
        "                ErrorY1 = np.zeros(Folds)\n",
        "                ErrorY2 = np.zeros(Folds)\n",
        "                Xtrain= X[train,:]\n",
        "                Ytrain = Y[train,:]\n",
        "                Xtest = X[test,:]\n",
        "                Ytest = Y[test,:]\n",
        "                #Normalizamos los datos\n",
        "                scaler = StandardScaler().fit(X= Xtrain)       \n",
        "                Xtrain = scaler.transform(Xtrain)\n",
        "                Xtest = scaler.transform(Xtest)\n",
        "                #Haga el llamado a la función para crear y entrenar el modelo usando los datos de entrenamiento\n",
        "                # prestar atención a los parametros, correctos.\n",
        "                hidden_layer_sizes = tuple(hidden_layers*[neurons])\n",
        "                mlp = MLPRegressor( activation='tanh',max_iter = 400, hidden_layer_sizes= hidden_layer_sizes)\n",
        "                # entrena el MLP\n",
        "                mlp.fit(X = Xtrain, y=Ytrain)\n",
        "                #Use para el modelo para hacer predicciones sobre el conjunto Xtest\n",
        "                Yest = mlp.predict(Xtest)\n",
        "                #Mida el error absoluto medio para cada una de las dos salidas\n",
        "                #Observe bien la documentación. recordar que esta resolviendo\n",
        "                # un problema de multiples salidas\n",
        "                ErrorY1[j] =  mean_absolute_error(Ytest[:,0], Yest[:,0], multioutput='raw_values')\n",
        "                ErrorY2[j] =  mean_absolute_error(Ytest[:,1], Yest[:,1], multioutput='raw_values')\n",
        "        \n",
        "            print('error para salida 1 = ' + str(np.mean(ErrorY1)) + '+-' + str(np.std(ErrorY1)))\n",
        "            print('error para salida 2 = ' + str(np.mean(ErrorY2)) + '+-' + str(np.std(ErrorY2)))\n",
        "        \n",
        "            resultados.loc[idx,'capas ocultas'] = hidden_layers\n",
        "            resultados.loc[idx,'neuronas en capas ocultas'] = neurons \n",
        "            resultados.loc[idx,'error de prueba y1(media)'] = np.mean(ErrorY1)\n",
        "            resultados.loc[idx,'intervalo de confianza y1'] = np.std(ErrorY1)\n",
        "            resultados.loc[idx,'error de prueba y2(media)'] = np.mean(ErrorY2)\n",
        "            resultados.loc[idx,'intervalo de confianza y2'] = np.std(ErrorY2)\n",
        "            idx+=1\n",
        "    return (resultados)"
      ],
      "execution_count": null,
      "outputs": []
    },
    {
      "cell_type": "code",
      "metadata": {
        "id": "TBVxxl25odt1",
        "colab": {
          "base_uri": "https://localhost:8080/"
        },
        "outputId": "aeee167b-d554-41d1-d7a0-266a3490b888"
      },
      "source": [
        "## la funcion que prueba tu implementacion\n",
        "# ignorar los prints\n",
        "GRADER.run_test(\"ejercicio2\", experimetar_mlp)"
      ],
      "execution_count": null,
      "outputs": [
        {
          "output_type": "stream",
          "text": [
            "error para salida 1 = 0.12917618059943078+-0.22373970792590722\n",
            "error para salida 2 = 0.14044513738331144+-0.2432581136238865\n",
            "error para salida 1 = 0.18715039776692924+-0.3241539975890464\n",
            "error para salida 2 = 0.13155518520503837+-0.2278602647742599\n",
            "error para salida 1 = 0.19421097773927162+-0.33638328083204666\n",
            "error para salida 2 = 0.11371166900420915+-0.19695438812874533\n",
            "error para salida 1 = 0.19407524061783932+-0.3361481772412528\n",
            "error para salida 2 = 0.08389307352517324+-0.14530706574871152\n",
            "TEST EXITOSO!\n"
          ],
          "name": "stdout"
        }
      ]
    },
    {
      "cell_type": "code",
      "metadata": {
        "id": "hV-ka-ukodt3",
        "colab": {
          "base_uri": "https://localhost:8080/"
        },
        "outputId": "b27c7d0a-cbef-41d0-9b15-947e4c33f824"
      },
      "source": [
        "# tarda unos minutos!!\n",
        "resultados_mlpr = experimetar_mlp(x,y, [1,2], [8,12,16,20])"
      ],
      "execution_count": null,
      "outputs": [
        {
          "output_type": "stream",
          "text": [
            "error para salida 1 = 2.357881850887449+-4.083971163981605\n",
            "error para salida 2 = 2.915541282507901+-5.04986563286821\n",
            "error para salida 1 = 1.7219422099714268+-2.982491395367947\n",
            "error para salida 2 = 1.2802827302548696+-2.217514736854434\n",
            "error para salida 1 = 1.2576076334987938+-2.1782403172063702\n",
            "error para salida 2 = 1.252348856795689+-2.1691318487709337\n",
            "error para salida 1 = 1.061038553353499+-1.837772683197641\n",
            "error para salida 2 = 0.6261206456959342+-1.0844727700131895\n",
            "error para salida 1 = 2.097892528421766+-3.633656448045634\n",
            "error para salida 2 = 2.6240464613576573+-4.544981792492785\n",
            "error para salida 1 = 1.512407101467359+-2.6195659414694443\n",
            "error para salida 2 = 1.8503885565348368+-3.2049669936623735\n",
            "error para salida 1 = 1.154213669678047+-1.9991567186728987\n",
            "error para salida 2 = 1.1382858264827374+-1.9715688850036321\n",
            "error para salida 1 = 0.8422755451289902+-1.4588640381361837\n",
            "error para salida 2 = 0.5549914542804243+-0.9612733965802346\n"
          ],
          "name": "stdout"
        }
      ]
    },
    {
      "cell_type": "code",
      "metadata": {
        "id": "7insQmbOodt5",
        "colab": {
          "base_uri": "https://localhost:8080/",
          "height": 766
        },
        "outputId": "7d750224-3254-4b94-d3af-05f2fb932dcd"
      },
      "source": [
        "# ver los resultados\n",
        "import seaborn as sns\n",
        "sns.relplot(data = resultados_mlpr,  x='neuronas en capas ocultas', y = 'intervalo de confianza y1', style= 'capas ocultas', kind = 'line')\n",
        "sns.relplot(data = resultados_mlpr,  x='neuronas en capas ocultas', y = 'intervalo de confianza y2', style= 'capas ocultas', kind = 'line')"
      ],
      "execution_count": null,
      "outputs": [
        {
          "output_type": "execute_result",
          "data": {
            "text/plain": [
              "<seaborn.axisgrid.FacetGrid at 0x7f77daa5bf28>"
            ]
          },
          "metadata": {
            "tags": []
          },
          "execution_count": 68
        },
        {
          "output_type": "display_data",
          "data": {
            "image/png": "[encoded data removed]",
            "text/plain": [
              "<Figure size 436.375x360 with 1 Axes>"
            ]
          },
          "metadata": {
            "tags": [],
            "needs_background": "light"
          }
        },
        {
          "output_type": "display_data",
          "data": {
            "image/png": "[encoded data removed]",
            "text/plain": [
              "<Figure size 436.375x360 with 1 Axes>"
            ]
          },
          "metadata": {
            "tags": [],
            "needs_background": "light"
          }
        }
      ]
    },
    {
      "cell_type": "code",
      "metadata": {
        "id": "CpSvl_I4odt7",
        "cellView": "form"
      },
      "source": [
        "#@title Pregunta Abierta\n",
        "#@markdown  ¿como influencian los parametros de numero de capas y el numero de neuronas? explique de acuerdo a los resultados, recuerde concentrarse en los patrones no en valores especificos\n",
        "respuesta_2 = \"La influencia que tienen los par\\xE1metros de numero de capas (desde ahora nc) y numero de neuronas (desde ahora nn), en el ejercicio, es que se puede identificar que a mayor nc, podemos encontrarnos con un modelo un poco mas estable y constante, y a mayor nn en las capas ocultas los intervalos de confianza y1 y y2 disminuyen\" #@param {type:\"string\"}"
      ],
      "execution_count": null,
      "outputs": []
    },
    {
      "cell_type": "markdown",
      "metadata": {
        "id": "hY2yg06Nodt8"
      },
      "source": [
        "## Ejercicio 2 Experimentar con MLP para clasificación\n",
        "\n",
        "A continuación se leen los datos de un problema de clasificación. El problema corresponde a la clasifiación de dígitos escritos a mano. Usaremos únicamente 4 de las 10 clases disponibles. Los datos fueron preprocesados para reducir el número de características. La técnica usada será analizada más adelante en el curso."
      ]
    },
    {
      "cell_type": "code",
      "metadata": {
        "id": "rQQrTIcZodt9"
      },
      "source": [
        "digits = load_digits(n_class=4)\n",
        "#--------- preprocesamiento--------------------\n",
        "pca = PCA(0.99, whiten=True)\n",
        "data = pca.fit_transform(digits.data)\n",
        "#---------- Datos a usar ----------------------\n",
        "Xd = data\n",
        "Yd = digits.target"
      ],
      "execution_count": null,
      "outputs": []
    },
    {
      "cell_type": "code",
      "metadata": {
        "id": "AAZkhxDjodt_",
        "cellView": "form"
      },
      "source": [
        "#@title Pregunta Abierta\n",
        "#@markdown  ¿Qué tipo de función de activación usa el modelo en la capa de salida para un problema de clasificación? \n",
        "respuesta_3 = \"El tipo de funci\\xF3n de activaci\\xF3n que usa el modelo en la capa de salida para un problema de clasificaci\\xF3n es la de LOGISTIC, porque, refiri\\xE9ndonos a la documentaci\\xF3n, podemos observar que este tipo de funci\\xF3n de activaci\\xF3n nos deja trabajar el modelo de clasificaci\\xF3n con m\\xFAltiples salidas\" #@param {type:\"string\"}"
      ],
      "execution_count": null,
      "outputs": []
    },
    {
      "cell_type": "markdown",
      "metadata": {
        "id": "q6VwPK9RoduA"
      },
      "source": [
        "como lo hicmos antes, vamos a comprobar con la libreria la función de activación"
      ]
    },
    {
      "cell_type": "code",
      "metadata": {
        "id": "10TRJf1SoduB"
      },
      "source": [
        "# ejercicio de código\n",
        "def output_activation_MPC():\n",
        "    \"\"\"funcion que entrena un modelo\n",
        "    con data aleatoria para confirmar la funcion\n",
        "    de activacion de la ultima capa\n",
        "    \"\"\"\n",
        "    mlp = MLPClassifier()\n",
        "    # fit with some random data\n",
        "    xrandom = np.random.rand(10,2)\n",
        "    yrandom = np.zeros(10)\n",
        "    # llamar el metodo adecuado para entrenar\n",
        "    # el mlp con los x y 'y' random\n",
        "    mlp.fit(xrandom, yrandom )\n",
        "    # retornar el atributo de mlp adecuado\n",
        "    return (mlp.out_activation_)"
      ],
      "execution_count": null,
      "outputs": []
    },
    {
      "cell_type": "code",
      "metadata": {
        "id": "l-JlGyNsoduC",
        "colab": {
          "base_uri": "https://localhost:8080/"
        },
        "outputId": "c5683a81-9a61-4b9e-dcf7-fde72858085d"
      },
      "source": [
        "## la funcion que prueba tu implementacion\n",
        "GRADER.run_test(\"ejercicio3\", output_activation_MPC)"
      ],
      "execution_count": null,
      "outputs": [
        {
          "output_type": "stream",
          "text": [
            "TEST EXITOSO!\n"
          ],
          "name": "stdout"
        }
      ]
    },
    {
      "cell_type": "code",
      "metadata": {
        "id": "LR1AWh6doduE",
        "colab": {
          "base_uri": "https://localhost:8080/"
        },
        "outputId": "a9fa4b96-d948-4c6b-f884-efb6158c8c61"
      },
      "source": [
        "print(\"la función de activación para un problema de clasificación es:\", output_activation_MPC())"
      ],
      "execution_count": null,
      "outputs": [
        {
          "output_type": "stream",
          "text": [
            "la función de activación para un problema de clasificación es: logistic\n"
          ],
          "name": "stdout"
        }
      ]
    },
    {
      "cell_type": "markdown",
      "metadata": {
        "id": "nUrb8sX1oduG"
      },
      "source": [
        "Ahora en nuestro siguiente ejercicio vamos a implementar una red neuronal artificial de tipo perceptrón multicapa (MLP) para resolver un problema de clasificación. Usaremos la librería sklearn. Consulte todo lo relacionado con la definición de hiperparámetros, los métodos para el entrenamiento y la predicción de nuevas muestras en el siguiente enlace: http://scikit-learn.org/stable/modules/generated/sklearn.neural_network.MLPClassifier.html#sklearn.neural_network.MLPClassifier"
      ]
    },
    {
      "cell_type": "markdown",
      "metadata": {
        "id": "RPXRYrtnoduG"
      },
      "source": [
        "\n",
        "Vamos completar la función con el código necesario para usar una red neuronal tipo MLP para solucionar el problema de regresión propuesto.\n",
        "1. Como función de activación en las capas ocultas use la función 'tanh'. \n",
        "2. Ajuste el número máximo de épocas a 400.\n",
        "3. Dejamos como variables el número de capas ocultas y el número de neuronas por capa\n",
        "5. Selecciones la función adecuada del [modulo de sklearn para calcular la exactitud del clasificador](https://scikit-learn.org/stable/modules/classes.html?highlight=metrics#module-sklearn.metrics). Tener en cuenta que parametros usar.\n",
        "6. Debemos usar los nombres explicitos, por ejemplo si para el MLP es necesario usar el parametro `activation`, debe ser llamado: `MLPClassifier(activation=...)`"
      ]
    },
    {
      "cell_type": "code",
      "metadata": {
        "id": "pO3RLo4JoduG"
      },
      "source": [
        "# ejercicio de código\n",
        "def experimetar_mlpc(X,Y, num_hidden_layers, num_neurons):\n",
        "    \"\"\" función para realizar experimentos con el MLP\n",
        "    x: matriz de numpy con caracteristicas\n",
        "    y: vector numpy con las variables a predecir\n",
        "    num_hidden_layers: list de enteros con el numero de capdas\n",
        "        ocultas a usar\n",
        "    num_neurons: list de enteros con el numero de neuronas a usar\n",
        "    \n",
        "    Retorna: dataframe con 4 columnas:\n",
        "        - numero de capas, numero de neuronas\n",
        "        - promedio de error prueba (exactitud/eficiencia) de claisficacion y desviación estandar        \n",
        "    \"\"\"\n",
        "    #Validamos el modelo\n",
        "    Folds = 4\n",
        "    skf = StratifiedKFold(n_splits=Folds)\n",
        "    resultados = pd.DataFrame()\n",
        "    idx = 0\n",
        "    for hidden_layers in num_hidden_layers:\n",
        "        for neurons in num_neurons:\n",
        "            for j, (train, test) in enumerate(skf.split(X, Y)):\n",
        "                # para almacenar errores intermedios\n",
        "                Error = np.zeros(Folds)\n",
        "                Xtrain= X[train,:]\n",
        "                Ytrain = Y[train]\n",
        "                Xtest = X[test, :]\n",
        "                Ytest = Y[test]\n",
        "                #Normalizamos los datos\n",
        "                scaler = StandardScaler().fit(X= Xtrain)       \n",
        "                Xtrain = scaler.transform(Xtrain)\n",
        "                Xtest = scaler.transform(Xtest)\n",
        "                #Haga el llamado a la función para crear y entrenar el modelo usando los datos de entrenamiento\n",
        "                # prestar atención a los parametros, correctos.\n",
        "                hidden_layer_sizes = tuple(hidden_layers*[neurons])\n",
        "                #print(hidden_layer_sizes)\n",
        "                mlp = MLPClassifier(activation='tanh', max_iter=400,  hidden_layer_sizes = hidden_layer_sizes)\n",
        "                # entrenar el MLP\n",
        "                mlp.fit(X = Xtrain, y=Ytrain)\n",
        "                #Use para el modelo para hacer predicciones sobre el conjunto Xtest\n",
        "                Yest = mlp.predict(Xtest)\n",
        "                #Mida el error absoluto medio para cada una de las dos salidas\n",
        "                #Observe bien la documentación. recordar que esta resolviendo\n",
        "                # un problema de multiples salidas\n",
        "                Error[j] = accuracy_score(Ytest,Yest)\n",
        "                \n",
        "        \n",
        "            print('error para configuracion de params = ' + str(np.mean(Error)) + '+-' + str(np.std(Error)))\n",
        "        \n",
        "            resultados.loc[idx,'capas ocultas'] = hidden_layers\n",
        "            resultados.loc[idx,'neuronas en capas ocultas'] = neurons \n",
        "            resultados.loc[idx,'error de prueba(media)'] = np.mean(Error)\n",
        "            resultados.loc[idx,'intervalo de confianza'] = np.std(Error)\n",
        "            idx+=1\n",
        "    return (resultados)"
      ],
      "execution_count": null,
      "outputs": []
    },
    {
      "cell_type": "code",
      "metadata": {
        "id": "kcMLaM4coduI",
        "colab": {
          "base_uri": "https://localhost:8080/"
        },
        "outputId": "741c9a46-6c8b-4235-ae2b-4e01093c8ca0"
      },
      "source": [
        "## la funcion que prueba tu implementacion\n",
        "GRADER.run_test(\"ejercicio4\", experimetar_mlpc)"
      ],
      "execution_count": null,
      "outputs": [
        {
          "output_type": "stream",
          "text": [
            "error para configuracion de params = 0.14285714285714285+-0.24743582965269675\n",
            "error para configuracion de params = 0.07142857142857142+-0.12371791482634838\n",
            "error para configuracion de params = 0.10714285714285714+-0.18557687223952254\n",
            "error para configuracion de params = 0.14285714285714285+-0.24743582965269675\n",
            "TEST EXITOSO!\n"
          ],
          "name": "stdout"
        }
      ]
    },
    {
      "cell_type": "code",
      "metadata": {
        "id": "iCyR-W0RoduJ",
        "colab": {
          "base_uri": "https://localhost:8080/"
        },
        "outputId": "e65496be-63f9-42f0-d185-29e4ec9ae844"
      },
      "source": [
        "# tarda unos minutos!!\n",
        "resultados_mlpc = experimetar_mlpc(Xd,Yd, [1,2], [12,16,20,24])"
      ],
      "execution_count": null,
      "outputs": [
        {
          "output_type": "stream",
          "text": [
            "error para configuracion de params = 0.2263888888888889+-0.39211705782462086\n",
            "error para configuracion de params = 0.23472222222222222+-0.40655081455436143\n",
            "error para configuracion de params = 0.23194444444444445+-0.40173956231111463\n",
            "error para configuracion de params = 0.22777777777777777+-0.3945226839462443\n",
            "error para configuracion de params = 0.23472222222222222+-0.40655081455436143\n",
            "error para configuracion de params = 0.23472222222222222+-0.40655081455436143\n",
            "error para configuracion de params = 0.23333333333333334+-0.40414518843273806\n",
            "error para configuracion de params = 0.23194444444444445+-0.40173956231111463\n"
          ],
          "name": "stdout"
        }
      ]
    },
    {
      "cell_type": "code",
      "metadata": {
        "id": "_FwrY7LFoduL",
        "colab": {
          "base_uri": "https://localhost:8080/",
          "height": 401
        },
        "outputId": "1c2f959c-f164-4177-9a28-4854585e9b73"
      },
      "source": [
        "# ver los resultados\n",
        "import seaborn as sns\n",
        "sns.relplot(data = resultados_mlpc,  x='neuronas en capas ocultas', y = 'error de prueba(media)', style= 'capas ocultas', kind = 'line')"
      ],
      "execution_count": null,
      "outputs": [
        {
          "output_type": "execute_result",
          "data": {
            "text/plain": [
              "<seaborn.axisgrid.FacetGrid at 0x7f77da9eb3c8>"
            ]
          },
          "metadata": {
            "tags": []
          },
          "execution_count": 150
        },
        {
          "output_type": "display_data",
          "data": {
            "image/png": "[encoded data removed]",
            "text/plain": [
              "<Figure size 436.375x360 with 1 Axes>"
            ]
          },
          "metadata": {
            "tags": [],
            "needs_background": "light"
          }
        }
      ]
    },
    {
      "cell_type": "code",
      "metadata": {
        "id": "IZJGmEnZoduO",
        "cellView": "form"
      },
      "source": [
        "#@title Pregunta Abierta\n",
        "#@markdown ¿Cuántas neuronas en la capa de salida tiene el modelo?¿Porqué debe tener ese número?\n",
        "respuesta_4 = \"El n\\xFAmero de capas de salida que tiene el modelo es de cuatro (4) y se debe tener este numero ya que es el numero de clases del modelo\" #@param {type:\"string\"}"
      ],
      "execution_count": null,
      "outputs": []
    },
    {
      "cell_type": "markdown",
      "metadata": {
        "id": "MGfDfjGkoduP"
      },
      "source": [
        "**nota rapida** En la practica sklearn no es una la libreria indicada para desarollar redes neuronales, para practicas mas avanzadas y realizar modelos en el \"mundo real\" [se deben usar conceptos de deep learning y una libreria llamada Keras](https://colab.research.google.com/github/lexfridman/mit-deep-learning/blob/master/tutorial_deep_learning_basics/deep_learning_basics.ipynb)."
      ]
    },
    {
      "cell_type": "code",
      "metadata": {
        "id": "1aRu5586oduP",
        "colab": {
          "base_uri": "https://localhost:8080/"
        },
        "outputId": "e3db5c00-8651-42cb-908e-eba39744ddab"
      },
      "source": [
        "GRADER.check_tests()"
      ],
      "execution_count": null,
      "outputs": [
        {
          "output_type": "stream",
          "text": [
            "Todo se ve ok. Asegurate de responder las preguntas abiertas y envia e archivo al formulario ¡buen trabajo!\n"
          ],
          "name": "stdout"
        }
      ]
    },
    {
      "cell_type": "code",
      "metadata": {
        "id": "wL-i0zZyoduR",
        "cellView": "form"
      },
      "source": [
        "#@title Integrantes\n",
        "codigo_integrante_1 ='1061805868' #@param {type:\"string\"}\n",
        "codigo_integrante_2 = '1037652924'  #@param {type:\"string\"}"
      ],
      "execution_count": null,
      "outputs": []
    },
    {
      "cell_type": "markdown",
      "metadata": {
        "id": "fOcAojtRoduT"
      },
      "source": [
        "----\n",
        "esta linea de codigo va fallar, es de uso exclusivo de los profesores\n"
      ]
    },
    {
      "cell_type": "code",
      "metadata": {
        "id": "6M_nkZ_DoduT",
        "colab": {
          "base_uri": "https://localhost:8080/"
        },
        "outputId": "e5a742d6-8358-40e4-8879-af4b30c01b60"
      },
      "source": [
        "GRADER.grade()"
      ],
      "execution_count": null,
      "outputs": [
        {
          "output_type": "stream",
          "text": [
            "uso del docente\n"
          ],
          "name": "stdout"
        }
      ]
    }
  ]
}