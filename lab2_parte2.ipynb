{
  "nbformat": 4,
  "nbformat_minor": 0,
  "metadata": {
    "kernelspec": {
      "display_name": "Python 3",
      "language": "python",
      "name": "python3"
    },
    "language_info": {
      "codemirror_mode": {
        "name": "ipython",
        "version": 3
      },
      "file_extension": ".py",
      "mimetype": "text/x-python",
      "name": "python",
      "nbconvert_exporter": "python",
      "pygments_lexer": "ipython3",
      "version": "3.6.9"
    },
    "colab": {
      "name": "Copia de lab2_parte2.ipynb",
      "provenance": [],
      "collapsed_sections": []
    }
  },
  "cells": [
    {
      "cell_type": "markdown",
      "metadata": {
        "id": "ZpQ5oaZCofFF"
      },
      "source": [
        "<a href=\"https://colab.research.google.com/github/jdariasl/ML_2020/blob/master/Labs/lab2/lab2_parte2.ipynb\" target=\"_parent\"><img src=\"https://colab.research.google.com/assets/colab-badge.svg\" alt=\"Open In Colab\"/></a>\n",
        "\n",
        "**Recuerda que una vez abierto, Da clic en \"Copiar en Drive\", de lo contrario no podras alamancenar tu progreso**\n",
        "\n",
        "Nota: no olvide ir ejecutando las celdas de código de arriba hacia abajo para que no tenga errores de importación de librerías o por falta de definición de variables."
      ]
    },
    {
      "cell_type": "code",
      "metadata": {
        "tags": [],
        "id": "QycC0GLqofFG",
        "colab": {
          "base_uri": "https://localhost:8080/",
          "height": 283
        },
        "outputId": "450a4197-022a-4dcd-ee93-d56fa1fd206d"
      },
      "source": [
        "#configuración del laboratorio\n",
        "# Ejecuta esta celda!\n",
        "%load_ext autoreload\n",
        "%autoreload 2\n",
        "# for local \n",
        "#import sys ; sys.path.append('../commons/utils/')\n",
        "!wget https://raw.githubusercontent.com/jdariasl/ML_2020/master/Labs/commons/utils/general.py -O general.py\n",
        "from general import configure_lab2\n",
        "configure_lab2()\n",
        "from lab2 import *\n",
        "GRADER, x, y = part_2()"
      ],
      "execution_count": null,
      "outputs": [
        {
          "output_type": "stream",
          "text": [
            "--2020-10-02 13:00:13--  https://raw.githubusercontent.com/jdariasl/ML_2020/master/Labs/commons/utils/general.py\n",
            "Resolving raw.githubusercontent.com (raw.githubusercontent.com)... 151.101.0.133, 151.101.64.133, 151.101.128.133, ...\n",
            "Connecting to raw.githubusercontent.com (raw.githubusercontent.com)|151.101.0.133|:443... connected.\n",
            "HTTP request sent, awaiting response... 200 OK\n",
            "Length: 13603 (13K) [text/plain]\n",
            "Saving to: ‘general.py’\n",
            "\n",
            "\rgeneral.py            0%[                    ]       0  --.-KB/s               \rgeneral.py          100%[===================>]  13.28K  --.-KB/s    in 0.004s  \n",
            "\n",
            "2020-10-02 13:00:13 (3.68 MB/s) - ‘general.py’ saved [13603/13603]\n",
            "\n",
            "lab configuration started\n",
            "installing libraries\n",
            "downloading files\n",
            "lab configured\n"
          ],
          "name": "stdout"
        }
      ]
    },
    {
      "cell_type": "markdown",
      "metadata": {
        "id": "M43P7dzhofFJ"
      },
      "source": [
        "# Laboratorio 2 - Parte 2\n",
        "\n"
      ]
    },
    {
      "cell_type": "markdown",
      "metadata": {
        "id": "Ajc7Wc5LofFJ"
      },
      "source": [
        "## Ejercicio 1: Contextualización del problema\n",
        "\n",
        "Para el problema de regresion usaremos la base de datos 'The Boston Housing Dataset', cuya descripción [pueden encontrarla aqui](https://www.cs.toronto.edu/~delve/data/boston/bostonDetail.html). La información ya esta cargada dentro del notebook"
      ]
    },
    {
      "cell_type": "code",
      "metadata": {
        "id": "LXhySCFiofFJ",
        "colab": {
          "base_uri": "https://localhost:8080/",
          "height": 283
        },
        "outputId": "54e06788-be34-4699-9340-45cbaf7669da"
      },
      "source": [
        "print(\"muestra de los 3 primeros renglones de x:\\n\", x[0:3, :])\n",
        "print(\"muestra de los 3 primeros renglones de y:\\n\", y[0:3])\n",
        "print (\"¿el resultado de esta instrucción que información nos brinda?\", x.shape[0])\n",
        "print (\"¿el resultado de esta instrucción que información nos brinda?\", x.shape[1])\n",
        "print (\"¿el resultado de esta instrucción que información nos brinda?\", len(np.unique(y)))"
      ],
      "execution_count": null,
      "outputs": [
        {
          "output_type": "stream",
          "text": [
            "muestra de los 3 primeros renglones de x:\n",
            " [[6.3200e-03 1.8000e+01 2.3100e+00 0.0000e+00 5.3800e-01 6.5750e+00\n",
            "  6.5200e+01 4.0900e+00 1.0000e+00 2.9600e+02 1.5300e+01 3.9690e+02\n",
            "  4.9800e+00]\n",
            " [2.7310e-02 0.0000e+00 7.0700e+00 0.0000e+00 4.6900e-01 6.4210e+00\n",
            "  7.8900e+01 4.9671e+00 2.0000e+00 2.4200e+02 1.7800e+01 3.9690e+02\n",
            "  9.1400e+00]\n",
            " [2.7290e-02 0.0000e+00 7.0700e+00 0.0000e+00 4.6900e-01 7.1850e+00\n",
            "  6.1100e+01 4.9671e+00 2.0000e+00 2.4200e+02 1.7800e+01 3.9283e+02\n",
            "  4.0300e+00]]\n",
            "muestra de los 3 primeros renglones de y:\n",
            " [24.  21.6 34.7]\n",
            "¿el resultado de esta instrucción que información nos brinda? 506\n",
            "¿el resultado de esta instrucción que información nos brinda? 13\n",
            "¿el resultado de esta instrucción que información nos brinda? 229\n"
          ],
          "name": "stdout"
        }
      ]
    },
    {
      "cell_type": "markdown",
      "metadata": {
        "id": "6OI7JJ-EofFL"
      },
      "source": [
        "En los problemas de regresión, es muy util explorar la distribución de la variable objetivo. Nuestro primer ejercicio consiste en:\n",
        "1. visualizar un histograma de la variable y \n",
        "2. retornar los intervalo de datos mas frecuente.\n",
        "\n",
        "Pistas: \n",
        "1. explorar la documentación de [plt.hist](https://matplotlib.org/3.3.1/api/_as_gen/matplotlib.pyplot.hist.html). Maneje los valores por defecto. ¿como se puede usar la salida del histograma para retorna el intervalo de datos mas frecuente?\n",
        "2. ¿ `np.argsort(numpy_array)[::-1]` que efecto tiene?"
      ]
    },
    {
      "cell_type": "code",
      "metadata": {
        "id": "WbGGSk26ofFM"
      },
      "source": [
        "#ejercicio de código\n",
        "def plot_hist_and_get_freq_int(Y):\n",
        "    \"\"\"función que grafica el histograma de la variable 'Y'\n",
        "        y retorna el intervalo donde ocurren con mas frecuencia los\n",
        "        valores de 'Y'\n",
        "        Y: numpy array con la variable a graficar\n",
        "        retorna: una tupla (int/float, int/float, int/float) \n",
        "            el primer elemento es al limite inferior del intervalo donde ocurren los valores\n",
        "            mas frecuentes\n",
        "            el segundo elemento es al limite superior del intervalo donde ocurren los valores\n",
        "            mas frecuentes\n",
        "            el tercer elemento es el la frecuencia del intervalo\n",
        "            va observar un cuarto elemento a retornar, el cual es usado para confirmar que\n",
        "            se realizo la grafica correctamente\n",
        "    \"\"\"\n",
        "    \n",
        "    n,bins,_=plt.hist(Y)\n",
        "    order=np.argsort(n)[::-1]\n",
        "    lim_inf = bins[order[0]]\n",
        "    print(order,bins)\n",
        "    lim_sup = bins[order[0]+1]\n",
        "    freqs =n[order[0]]\n",
        "\n",
        "    ##print (freqs)\n",
        "    \n",
        "    # el cuarto elemento debe dejarlo\n",
        "    return (lim_inf, lim_sup, freqs, plt.gcf())"
      ],
      "execution_count": null,
      "outputs": []
    },
    {
      "cell_type": "code",
      "metadata": {
        "id": "6HWrZsxpofFN",
        "colab": {
          "base_uri": "https://localhost:8080/",
          "height": 317
        },
        "outputId": "494fa104-f07f-43bf-9407-309f6909fcbf"
      },
      "source": [
        "## la funcion que prueba tu implementacion\n",
        "#ignora las graficas!!\n",
        "GRADER.run_test(\"ejercicio1\", plot_hist_and_get_freq_int)"
      ],
      "execution_count": null,
      "outputs": [
        {
          "output_type": "stream",
          "text": [
            "[0 3 2 1 5 9 4 6 8 7] [12.7  15.05 17.4  19.75 22.1  24.45 26.8  29.15 31.5  33.85 36.2 ]\n",
            "[5 9 8 7 6 4 3 2 1 0] [0.5 0.6 0.7 0.8 0.9 1.  1.1 1.2 1.3 1.4 1.5]\n",
            "TEST EXITOSO!\n"
          ],
          "name": "stdout"
        },
        {
          "output_type": "display_data",
          "data": {
            "image/png": "[encoded data removed]",
            "text/plain": [
              "<Figure size 432x288 with 1 Axes>"
            ]
          },
          "metadata": {
            "tags": [],
            "needs_background": "light"
          }
        }
      ]
    },
    {
      "cell_type": "code",
      "metadata": {
        "id": "GHpvs0gwofFP",
        "colab": {
          "base_uri": "https://localhost:8080/",
          "height": 302
        },
        "outputId": "7aa2b979-df82-48a6-e7a8-01ad9f1b9580"
      },
      "source": [
        "# ver el histograma!\n",
        "plot_hist_and_get_freq_int(y)"
      ],
      "execution_count": null,
      "outputs": [
        {
          "output_type": "stream",
          "text": [
            "[3 4 2 1 5 6 9 0 8 7] [ 5.   9.5 14.  18.5 23.  27.5 32.  36.5 41.  45.5 50. ]\n"
          ],
          "name": "stdout"
        },
        {
          "output_type": "execute_result",
          "data": {
            "text/plain": [
              "(18.5, 23.0, 154.0, <Figure size 432x288 with 1 Axes>)"
            ]
          },
          "metadata": {
            "tags": []
          },
          "execution_count": 5
        },
        {
          "output_type": "display_data",
          "data": {
            "image/png": "[encoded data removed]",
            "text/plain": [
              "<Figure size 432x288 with 1 Axes>"
            ]
          },
          "metadata": {
            "tags": [],
            "needs_background": "light"
          }
        }
      ]
    },
    {
      "cell_type": "code",
      "metadata": {
        "id": "-_f11sJfofFR",
        "cellView": "form"
      },
      "source": [
        "#@title Pregunta Abierta\n",
        "#@markdown ¿evaluando **solo** el histograma, podria decirse que nuestra variable 'y' podria modelarse de manera **totalmente exacta** con una sola distribución de probabilidad gausiana? justifique su respuesta\n",
        "respuesta_1 = \"No puesto que la distribuci\\xF3n no forma una campana compacta, en la parte de la derecha se observa un peque\\xF1o pico, que nos dice que no sigue una distribuci\\xF3n completamente normal\" #@param {type:\"string\"}"
      ],
      "execution_count": null,
      "outputs": []
    },
    {
      "cell_type": "markdown",
      "metadata": {
        "id": "pz3slpbKofFT"
      },
      "source": [
        "## Ejercicio 2: Completar código de K-Vecinos para regresión.\n",
        "\n",
        "Vamos a implementar ahora KNN para un problema de regresión."
      ]
    },
    {
      "cell_type": "markdown",
      "metadata": {
        "id": "xiWMzkDGofFV"
      },
      "source": [
        "Las mismas pistas de nuestro laboratorio anterior son de utilidad para implementar el algoritmo.\n",
        "\n",
        "1. Para el cáculo de la distancia entre vectores existen varias opciones:\n",
        "    1. usar la función la distancia entre matrices `scipy.spatial.distance.cdist`([Ejemplo](https://docs.scipy.org/doc/scipy/reference/generated/scipy.spatial.distance.cdist.html#scipy.spatial.distance.cdist))--esta puede ser usada directamente como `cdist(...)`. Entiende la salida de esta función. Al usarla, se logra un rendimiento superior.\n",
        "    2. usar la función la distancia euclidiana `scipy.spatial.distance.euclidean`([Ejemplo](https://docs.scipy.org/doc/scipy/reference/generated/scipy.spatial.distance.euclidean.html))--pueder acceder a ella directamente como `euclidean`. Aca debe pensar en un algoritmo elemento a elemento, por lo tanto menos eficiente.\n",
        "2. También serán de utilidad las funciones `np.sort` y `np.argsort`.\n",
        "3. ¿cual es la unica diferencia entre el knn para clasificación y regresión? en lugar de la moda, que metodo debemos usar?"
      ]
    },
    {
      "cell_type": "code",
      "metadata": {
        "id": "rfkzbm94ofFV"
      },
      "source": [
        "#ejercicio de código\n",
        "import scipy as sc\n",
        "from scipy.spatial import distance_matrix\n",
        "import operator\n",
        "import statistics\n",
        "from scipy.stats import mode\n",
        "def KNN_regresion(X_train, Y_train, X_test, k):\n",
        "    \"\"\" Funcion que implementa el modelo de K-Vecino mas cercanos\n",
        "        para regresión\n",
        "    X_train: es la matriz con las muestras de entrenamiento\n",
        "    Y_train: es un vector con los valores de salida pra cada una de las muestras de entrenamiento\n",
        "    X_test: es la matriz con las muestras de validación\n",
        "    k (int): valor de vecinos a usar\n",
        "    retorna: las estimaciones del modelo KNN para el conjunto X_test \n",
        "             esta matriz debe tener un shape de [row/muestras de X_test] \n",
        "             y las distancias de X_test respecto a X_train, estan matrix\n",
        "             debe tener un shape de [rows de X_test, rows X_train]\n",
        "             lo que es lo mismo [muestras de X_test, muestras de X_train]\n",
        "    \"\"\"\n",
        "    \n",
        "    if k > X_train.shape[0]:\n",
        "        print(\"k no puede ser menor que las muestras de entrenamiento\")\n",
        "        return(None)\n",
        "\n",
        "    distancias =  cdist(X_test, X_train, 'euclidean')\n",
        "    Yest = np.zeros(X_test.shape[0])\n",
        "\n",
        "\n",
        "    for i in range (len(X_test)):\n",
        "        index_vecinos = np.argsort(distancias[i])[:k]  \n",
        "        k_vecinos = np.take(Y_train, index_vecinos)  \n",
        "        Yest[i] = np.sum(k_vecinos)/k\n",
        "\n",
        "    return Yest, distancias"
      ],
      "execution_count": null,
      "outputs": []
    },
    {
      "cell_type": "code",
      "metadata": {
        "id": "PvO5df8RofFX",
        "colab": {
          "base_uri": "https://localhost:8080/",
          "height": 34
        },
        "outputId": "b71ed874-521e-466d-8eab-17e1f9c95c78"
      },
      "source": [
        "## la funcion que prueba tu implementacion\n",
        "GRADER.run_test(\"ejercicio2\", KNN_regresion)"
      ],
      "execution_count": null,
      "outputs": [
        {
          "output_type": "stream",
          "text": [
            "TEST EXITOSO!\n"
          ],
          "name": "stdout"
        }
      ]
    },
    {
      "cell_type": "markdown",
      "metadata": {
        "id": "QC8-3Q0qofFY"
      },
      "source": [
        "## Ejercicio 3: Experimentos con KNN\n",
        "\n",
        "Ahora vamos a probar nuestro algoritmo. Antes de ello, definos la función para calcular el error"
      ]
    },
    {
      "cell_type": "code",
      "metadata": {
        "id": "YExvJ6zqofFZ"
      },
      "source": [
        "def MAPE(Y_est,Y):\n",
        "    \"\"\"Mean Absolute Percentage Error para los problemas de regresión\n",
        "    Y_est: numpy array con los valores estimados\n",
        "    Y: numpy array con las etiquetas verdaderas\n",
        "    retorna: mape\n",
        "    \"\"\"\n",
        "    N = np.size(Y)\n",
        "    mape = np.sum(abs((Y_est.reshape(N,1) - Y.reshape(N,1))/Y.reshape(N,1)))/N\n",
        "    return mape "
      ],
      "execution_count": null,
      "outputs": []
    },
    {
      "cell_type": "markdown",
      "metadata": {
        "id": "RC5fF9WnofFa"
      },
      "source": [
        "Y ahora, si, vamos a crear la función para experimentar.\n",
        "\n",
        "En el ejercicio de código, se puede observar que usamos nuevamente la funciónes de la libreria **sklearn**:\n",
        "\n",
        "1. [StandardScaler](https://scikit-learn.org/stable/modules/generated/sklearn.preprocessing.StandardScaler.html) para normalizar.\n",
        "\n",
        "2. [train_test_split](https://scikit-learn.org/stable/modules/generated/sklearn.model_selection.train_test_split.html). Para dividir el conjunto de datos. Entiende como estamos usando esta función."
      ]
    },
    {
      "cell_type": "code",
      "metadata": {
        "id": "w_2YwTFsofFa",
        "cellView": "form"
      },
      "source": [
        "#@title Pregunta Abierta\n",
        "#@markdown si bien, dentro del código es usada la función train_test_split, que metodologia de validación es implementada usando esta función? justifique\n",
        "respuesta_2 = \"\\\"Ya que train_test_split divide los datos en dos bloques, uno para pruebas y otro para entrenamiento, la metodologia de validaci\\xF3n es entrenamiento y pruebas\\\"\" #@param {type:\"string\"}"
      ],
      "execution_count": null,
      "outputs": []
    },
    {
      "cell_type": "code",
      "metadata": {
        "id": "cftNVbm-ofFc"
      },
      "source": [
        "#Ejercicio de código\n",
        "def experimentar (X, Y, ks):\n",
        "    \"\"\"Función que realiza los experimentos con knn usando\n",
        "       una estrategia de validacion entrenamiento y pruebas\n",
        "    X: matriz de numpy conjunto con muestras y caracteristicas\n",
        "    Y: vector de numpy con los valores a predecir\n",
        "    ks: List[int/float] lista con los valores de k-vecinos a usar\n",
        "    retorna: dataframe con los resultados, debe contener las siguientes columnas:\n",
        "        - los k-vecinos, el error-mape medio de prueba, la desviacion estandar del error-mape\n",
        "    \"\"\"\n",
        "    \n",
        "    resultados = pd.DataFrame()\n",
        "    idx = 0\n",
        "    # iteramos sobre la lista de k's\n",
        "    for k in ks:\n",
        "        # lista para almacenar los errores de cada iteración\n",
        "        # de la validación\n",
        "        error_temp = []\n",
        "        \n",
        "        # iteramos para validar\n",
        "        for j in range(3): \n",
        "            # dividimos usando la función\n",
        "            Xtrain, Xtest, Ytrain, Ytest = train_test_split(X,Y)\n",
        "            scaler = StandardScaler()\n",
        "            scaler.fit(Xtrain)\n",
        "            Xtrain= scaler.transform(Xtrain)\n",
        "            Xtest = scaler.transform(Xtest)\n",
        "\n",
        "            Yest, _ = KNN_regresion(Xtrain,Ytrain, Xtest,k )\n",
        "            errorTest = MAPE(Yest,Ytest)\n",
        "            error_temp.append(errorTest)\n",
        "    \n",
        "        resultados.loc[idx,'k-vecinos'] = k \n",
        "        resultados.loc[idx,'error de prueba(media)'] = np.mean(error_temp)\n",
        "        resultados.loc[idx,'error de prueba(desviación estandar)'] = np.std(error_temp)\n",
        "        idx+=1\n",
        "\n",
        "    return (resultados)"
      ],
      "execution_count": null,
      "outputs": []
    },
    {
      "cell_type": "code",
      "metadata": {
        "id": "ce0cyutCofFe",
        "colab": {
          "base_uri": "https://localhost:8080/",
          "height": 34
        },
        "outputId": "f361239c-feb2-42c8-8b5e-ee719ed05356"
      },
      "source": [
        "## la funcion que prueba tu implementacion\n",
        "GRADER.run_test(\"ejercicio3\", experimentar)"
      ],
      "execution_count": null,
      "outputs": [
        {
          "output_type": "stream",
          "text": [
            "TEST EXITOSO!\n"
          ],
          "name": "stdout"
        }
      ]
    },
    {
      "cell_type": "markdown",
      "metadata": {
        "id": "ZgvhQRfWofFg"
      },
      "source": [
        "Ahora ejecuta los experimentos con k = 2,3,4,5,6,7,10"
      ]
    },
    {
      "cell_type": "code",
      "metadata": {
        "id": "H-BTxFYwofFg",
        "colab": {
          "base_uri": "https://localhost:8080/",
          "height": 257
        },
        "outputId": "2a296166-5637-46b0-fb3c-5a844659234d"
      },
      "source": [
        "resultados = experimentar (x, y,[2,3,4,5,6,7,10])\n",
        "resultados"
      ],
      "execution_count": null,
      "outputs": [
        {
          "output_type": "execute_result",
          "data": {
            "text/html": [
              "<div>\n",
              "<style scoped>\n",
              "    .dataframe tbody tr th:only-of-type {\n",
              "        vertical-align: middle;\n",
              "    }\n",
              "\n",
              "    .dataframe tbody tr th {\n",
              "        vertical-align: top;\n",
              "    }\n",
              "\n",
              "    .dataframe thead th {\n",
              "        text-align: right;\n",
              "    }\n",
              "</style>\n",
              "<table border=\"1\" class=\"dataframe\">\n",
              "  <thead>\n",
              "    <tr style=\"text-align: right;\">\n",
              "      <th></th>\n",
              "      <th>k-vecinos</th>\n",
              "      <th>error de prueba(media)</th>\n",
              "      <th>error de prueba(desviación estandar)</th>\n",
              "    </tr>\n",
              "  </thead>\n",
              "  <tbody>\n",
              "    <tr>\n",
              "      <th>0</th>\n",
              "      <td>2.0</td>\n",
              "      <td>0.148732</td>\n",
              "      <td>0.006030</td>\n",
              "    </tr>\n",
              "    <tr>\n",
              "      <th>1</th>\n",
              "      <td>3.0</td>\n",
              "      <td>0.122955</td>\n",
              "      <td>0.009416</td>\n",
              "    </tr>\n",
              "    <tr>\n",
              "      <th>2</th>\n",
              "      <td>4.0</td>\n",
              "      <td>0.134068</td>\n",
              "      <td>0.008151</td>\n",
              "    </tr>\n",
              "    <tr>\n",
              "      <th>3</th>\n",
              "      <td>5.0</td>\n",
              "      <td>0.154161</td>\n",
              "      <td>0.010033</td>\n",
              "    </tr>\n",
              "    <tr>\n",
              "      <th>4</th>\n",
              "      <td>6.0</td>\n",
              "      <td>0.132195</td>\n",
              "      <td>0.005926</td>\n",
              "    </tr>\n",
              "    <tr>\n",
              "      <th>5</th>\n",
              "      <td>7.0</td>\n",
              "      <td>0.144435</td>\n",
              "      <td>0.008971</td>\n",
              "    </tr>\n",
              "    <tr>\n",
              "      <th>6</th>\n",
              "      <td>10.0</td>\n",
              "      <td>0.133852</td>\n",
              "      <td>0.010526</td>\n",
              "    </tr>\n",
              "  </tbody>\n",
              "</table>\n",
              "</div>"
            ],
            "text/plain": [
              "   k-vecinos  error de prueba(media)  error de prueba(desviación estandar)\n",
              "0        2.0                0.148732                              0.006030\n",
              "1        3.0                0.122955                              0.009416\n",
              "2        4.0                0.134068                              0.008151\n",
              "3        5.0                0.154161                              0.010033\n",
              "4        6.0                0.132195                              0.005926\n",
              "5        7.0                0.144435                              0.008971\n",
              "6       10.0                0.133852                              0.010526"
            ]
          },
          "metadata": {
            "tags": []
          },
          "execution_count": 13
        }
      ]
    },
    {
      "cell_type": "markdown",
      "metadata": {
        "id": "bEjPQXT4ofFi"
      },
      "source": [
        "## Ejercicio 4: Ventana de Parzen y experimentos\n",
        "\n",
        "Ahora, igualmente, vamos aplicar ventana de parzen para resolver el problema de regresión.\n",
        "\n",
        "$$f({\\bf{x}}^*) = \\frac{1}{N h^d} \\sum_{i=1}^{N} K(u_i), \\;\\; u_i = \\frac{d({\\bf{x}}^*,{\\bf{x}}_i)}{h}$$\n",
        "\n",
        "En la siguiente celda se define la función para un $K(u_i)$ gaussiano y se realiza la sugerencia para estimar el termino $ \\sum_{i=1}^{N} K(u_i)$, siendo $\\;\\; u_i = \\frac{d({\\bf{x}}^*,{\\bf{x}}_i)}{h}$. \n",
        "\n",
        "Observa y entiende esta última función y sus argumentos. Recordando que para regresión, debemos usar la relación de **Nadaraya_Watson**.\n",
        "\n",
        "$$y^* = \\frac{\\sum_{i=1}^N K(u_i)y_i}{\\sum_{i=1}^N K(u_i)} $$\n",
        "\n"
      ]
    },
    {
      "cell_type": "code",
      "metadata": {
        "id": "EX4aOnYqofFi"
      },
      "source": [
        "def kernel_gaussiano(x):\n",
        "    return (np.exp((-0.5)*x**2))\n",
        "\n",
        "def ParzenWindow(x,Data,h,Datay=None):\n",
        "    \"\"\"\"ventana de parzen\n",
        "    x: vector con representando una sola muestra\n",
        "    Data: vector de muestras de entrenamiento\n",
        "    h: ancho de la ventana de kernel\n",
        "    Datay: vector con los valores de salida (y), Si no se pasa como argumento, \n",
        "        se calcula un ventana de parzen sin multiplicar los valores de este vector.\n",
        "    retorna: el valor de ventana de parzen para una muestra\n",
        "    \"\"\"\n",
        "    h = h\n",
        "    Ns = Data.shape[0]\n",
        "    suma = 0\n",
        "    for k in range(Ns):\n",
        "        u = euclidean(x,Data[k,:])\n",
        "        if Datay is None:\n",
        "            suma += kernel_gaussiano(u/h)\n",
        "        else:\n",
        "            suma += kernel_gaussiano(u/h)*Datay[k]\n",
        "    return suma\n"
      ],
      "execution_count": null,
      "outputs": []
    },
    {
      "cell_type": "markdown",
      "metadata": {
        "id": "3qO9mH5lofFk"
      },
      "source": [
        "Usando las anteriores funciones, completa el código."
      ]
    },
    {
      "cell_type": "code",
      "metadata": {
        "id": "GNiUQcL2ofFk"
      },
      "source": [
        "#Ejercicio de código\n",
        "def Nadaraya_Watson(X_train, Y_train, X_test, h):\n",
        "    \"\"\" Funcion que implementa metodo de ventana de parzen para\n",
        "        para clasificación\n",
        "    X_train: es la matriz con las muestras de entrenamiento\n",
        "    Y_train: es un vector con los valores de salida pra cada una de las muestras de entrenamiento\n",
        "    X_test: es la matriz con las muestras de validación\n",
        "    h (float): ancho de h de la ventana\n",
        "    retorna: - las estimaciones del modelo parzen para el conjunto X_test \n",
        "              esta matriz debe tener un shape de [row/muestras de X_test]\n",
        "             - las probabilidades de la vetana [row/muestras de X_test, numero de clases]  \n",
        "    \"\"\"\n",
        "        \n",
        "    Yest = np.zeros(X_test.shape[0])\n",
        "    distancia = scipy.spatial.distance_matrix(X_test,X_train)/h\n",
        "\n",
        "    for i in range(len(X_test)):\n",
        "      num=ParzenWindow(X_test[i],X_train,h,Y_train)\n",
        "      den=ParzenWindow(X_test[i],X_train,h)\n",
        "\n",
        "      Yest[i]=num/den\n",
        "    \n",
        "    #Debe retornar un vector que contenga las predicciones para cada una de las muestras en X_val, en el mismo orden.  \n",
        "    return Yest"
      ],
      "execution_count": null,
      "outputs": []
    },
    {
      "cell_type": "code",
      "metadata": {
        "id": "tA6a1t2EofFn",
        "colab": {
          "base_uri": "https://localhost:8080/",
          "height": 34
        },
        "outputId": "3412d97a-f415-4560-d61b-862858434474"
      },
      "source": [
        "## la funcion que prueba tu implementacion\n",
        "GRADER.run_test(\"ejercicio4\", Nadaraya_Watson)"
      ],
      "execution_count": null,
      "outputs": [
        {
          "output_type": "stream",
          "text": [
            "TEST EXITOSO!\n"
          ],
          "name": "stdout"
        }
      ]
    },
    {
      "cell_type": "markdown",
      "metadata": {
        "id": "cIUuf3KJofFp"
      },
      "source": [
        "## Ejercicio 5: Experimentos con Parzen\n",
        "En el ejercicio de código, se puede observar que usamos nuevamente la funciónes de la libreria **sklearn**:\n",
        "\n",
        "1. [StandardScaler](https://scikit-learn.org/stable/modules/generated/sklearn.preprocessing.StandardScaler.html) para normalizar.\n",
        "2. Y se debe usar la función [KFold](https://scikit-learn.org/stable/modules/generated/sklearn.model_selection.KFold.html?highlight=kfold#sklearn.model_selection.KFold) para realizar la validación. Tener en cuenta la documentación para poder completar el código de manera correcta."
      ]
    },
    {
      "cell_type": "code",
      "metadata": {
        "id": "2_uSnBaEofFp",
        "cellView": "form"
      },
      "source": [
        "#@title Pregunta Abierta\n",
        "#@markdown ¿cual es la metodologia de validación usada en el experimento? ¿qué diferencia tiene respecto a la metodologia usada en el primer experimento?\n",
        "respuesta_3 = \"La metodolog\\xEDa de evaluaci\\xF3n usada es Entrenamiento y pruebas de Kfold, y esta garantiza la independencia de la partici\\xF3n entre datos de entrenamiento y prueba, y adem\\xE1s nos da una mayor exactitud al calcular la media aritm\\xE9tica de las particiones , y la diferencia con el metodo usado arriba es que all\\xE1 s\\xF3lo hacen una \\xFAnica partici\\xF3n mientras que ac\\xE1 k particiones \" #@param {type:\"string\"}"
      ],
      "execution_count": null,
      "outputs": []
    },
    {
      "cell_type": "code",
      "metadata": {
        "id": "_wbPuUi3ofFr"
      },
      "source": [
        "def experimentarParzen (X, Y, hs):\n",
        "    \"\"\"Función que realiza los experimentos con knn usando\n",
        "       una estrategia de validacion entrenamiento y pruebas\n",
        "    X: matriz de numpy conjunto con muestras y caracteristicas\n",
        "    Y: vector de numpy con los valores de las etiquetas\n",
        "    ks: List[int/float] lista con los valores de k-vecinos a usar\n",
        "    retorna: dataframe con los resultados, debe contener las siguientes columnas:\n",
        "        - el ancho de ventana, \n",
        "        - el error medio de prueba\n",
        "        - la desviacion estandar del error\n",
        "        - número de promedio en el conjunto de prueba/validacion\n",
        "    \"\"\"\n",
        "    # se usa la función para implementar la estrategia de validación.\n",
        "    kfolds = KFold(n_splits=4)\n",
        "    resultados = pd.DataFrame()\n",
        "    idx = 0\n",
        "    # iteramos sobre los valores de hs\n",
        "    for h in hs:\n",
        "        # lista para almacenar los errores y numero de muestras\n",
        "        # de cada iteración\n",
        "        # de la validación\n",
        "        error_temp = []\n",
        "        numero_muestras = []\n",
        "        \n",
        "        for train, test in kfolds.split(X):\n",
        "\n",
        "            Xtrain = X[train,:]\n",
        "            Ytrain = Y[train]\n",
        "            Xtest = X[test,:]\n",
        "            Ytest = Y[test]\n",
        "            #normalizamos los datos\n",
        "            scaler = StandardScaler()\n",
        "            scaler.fit(Xtrain)\n",
        "            Xtrain = scaler.transform(Xtrain)\n",
        "            Xtest = scaler.transform(Xtest)\n",
        "            \n",
        "            Yest = Nadaraya_Watson(Xtrain,Ytrain,Xtest,h)\n",
        "            errorTest = MAPE(Yest,Ytest)\n",
        "            error_temp.append(errorTest)\n",
        "            numero_muestras.append(Xtest.shape[0])\n",
        "    \n",
        "        resultados.loc[idx,'ancho de ventana'] = h \n",
        "        resultados.loc[idx,'error de prueba(media)'] =np.mean(error_temp) \n",
        "        resultados.loc[idx,'error de prueba(desviación estandar)'] =np.std(error_temp)\n",
        "        resultados.loc[idx,'muestras en conjunto de pruebas (media)'] = np.mean(numero_muestras)\n",
        "        idx+=1\n",
        "    return (resultados)"
      ],
      "execution_count": null,
      "outputs": []
    },
    {
      "cell_type": "code",
      "metadata": {
        "id": "xZvm7rCmofFs",
        "colab": {
          "base_uri": "https://localhost:8080/",
          "height": 34
        },
        "outputId": "bd34a1f7-8084-4f8e-a7db-838ffe082328"
      },
      "source": [
        "## la funcion que prueba tu implementacion\n",
        "GRADER.run_test(\"ejercicio5\", experimentarParzen)"
      ],
      "execution_count": null,
      "outputs": [
        {
          "output_type": "stream",
          "text": [
            "TEST EXITOSO!\n"
          ],
          "name": "stdout"
        }
      ]
    },
    {
      "cell_type": "code",
      "metadata": {
        "id": "sp-8Jg8oofFt",
        "colab": {
          "base_uri": "https://localhost:8080/",
          "height": 197
        },
        "outputId": "b913b5a2-5618-4a9e-bfa1-b11712c084d0"
      },
      "source": [
        "# ejecute para ver los experimentos\n",
        "hs = [1,1.5 ,2.5, 5, 10]\n",
        "experimentos_parzen = experimentarParzen(x,y, hs)\n",
        "experimentos_parzen"
      ],
      "execution_count": null,
      "outputs": [
        {
          "output_type": "execute_result",
          "data": {
            "text/html": [
              "<div>\n",
              "<style scoped>\n",
              "    .dataframe tbody tr th:only-of-type {\n",
              "        vertical-align: middle;\n",
              "    }\n",
              "\n",
              "    .dataframe tbody tr th {\n",
              "        vertical-align: top;\n",
              "    }\n",
              "\n",
              "    .dataframe thead th {\n",
              "        text-align: right;\n",
              "    }\n",
              "</style>\n",
              "<table border=\"1\" class=\"dataframe\">\n",
              "  <thead>\n",
              "    <tr style=\"text-align: right;\">\n",
              "      <th></th>\n",
              "      <th>ancho de ventana</th>\n",
              "      <th>error de prueba(media)</th>\n",
              "      <th>error de prueba(desviación estandar)</th>\n",
              "      <th>muestras en conjunto de pruebas (media)</th>\n",
              "    </tr>\n",
              "  </thead>\n",
              "  <tbody>\n",
              "    <tr>\n",
              "      <th>0</th>\n",
              "      <td>1.0</td>\n",
              "      <td>0.262823</td>\n",
              "      <td>0.189770</td>\n",
              "      <td>126.5</td>\n",
              "    </tr>\n",
              "    <tr>\n",
              "      <th>1</th>\n",
              "      <td>1.5</td>\n",
              "      <td>0.288642</td>\n",
              "      <td>0.186589</td>\n",
              "      <td>126.5</td>\n",
              "    </tr>\n",
              "    <tr>\n",
              "      <th>2</th>\n",
              "      <td>2.5</td>\n",
              "      <td>0.298088</td>\n",
              "      <td>0.174940</td>\n",
              "      <td>126.5</td>\n",
              "    </tr>\n",
              "    <tr>\n",
              "      <th>3</th>\n",
              "      <td>5.0</td>\n",
              "      <td>0.360677</td>\n",
              "      <td>0.248504</td>\n",
              "      <td>126.5</td>\n",
              "    </tr>\n",
              "    <tr>\n",
              "      <th>4</th>\n",
              "      <td>10.0</td>\n",
              "      <td>0.400999</td>\n",
              "      <td>0.297161</td>\n",
              "      <td>126.5</td>\n",
              "    </tr>\n",
              "  </tbody>\n",
              "</table>\n",
              "</div>"
            ],
            "text/plain": [
              "   ancho de ventana  ...  muestras en conjunto de pruebas (media)\n",
              "0               1.0  ...                                    126.5\n",
              "1               1.5  ...                                    126.5\n",
              "2               2.5  ...                                    126.5\n",
              "3               5.0  ...                                    126.5\n",
              "4              10.0  ...                                    126.5\n",
              "\n",
              "[5 rows x 4 columns]"
            ]
          },
          "metadata": {
            "tags": []
          },
          "execution_count": 23
        }
      ]
    },
    {
      "cell_type": "code",
      "metadata": {
        "id": "E-Fs-0FAofFv",
        "cellView": "form"
      },
      "source": [
        "#@title Pregunta Abierta\n",
        "#@markdown ¿es normal que el la media de muestra en el cojunto de pruebas siempre es la misma? justifique\n",
        "respuesta_4 = \"Claro que es normal puesto que los datos totales son los mismos, lo que cambia son las particiones.\" #@param {type:\"string\"}"
      ],
      "execution_count": null,
      "outputs": []
    },
    {
      "cell_type": "code",
      "metadata": {
        "id": "9IxHJrBbofFw",
        "cellView": "form"
      },
      "source": [
        "#@title Pregunta Abierta\n",
        "#@markdown ¿que metodo podria usarse para estimar el valor de h?\n",
        "respuesta_5 = \"Tanteando los Hs y tomando el que tenga menor error.\" #@param {type:\"string\"}"
      ],
      "execution_count": null,
      "outputs": []
    },
    {
      "cell_type": "code",
      "metadata": {
        "id": "rRvFgdGuofFx"
      },
      "source": [
        "GRADER.check_tests()"
      ],
      "execution_count": null,
      "outputs": []
    },
    {
      "cell_type": "code",
      "metadata": {
        "id": "nhpgdXfXofFz",
        "cellView": "form"
      },
      "source": [
        "#@title Integrantes\n",
        "codigo_integrante_1 ='1037652924' #@param {type:\"string\"}\n",
        "codigo_integrante_2 = '1061805868'  #@param {type:\"string\"}"
      ],
      "execution_count": null,
      "outputs": []
    },
    {
      "cell_type": "markdown",
      "metadata": {
        "id": "28SF6j5UofF1"
      },
      "source": [
        "----\n",
        "esta linea de codigo va fallar, es de uso exclusivo del los profesores\n"
      ]
    },
    {
      "cell_type": "code",
      "metadata": {
        "id": "nX4Xv45lofF1"
      },
      "source": [
        "GRADER.grade()"
      ],
      "execution_count": null,
      "outputs": []
    }
  ]
}